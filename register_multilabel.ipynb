{
  "nbformat": 4,
  "nbformat_minor": 0,
  "metadata": {
    "colab": {
      "name": "register-multilabel.ipynb",
      "provenance": [],
      "collapsed_sections": [],
      "authorship_tag": "ABX9TyNHT6Cp5ME6aEi5YdvBsZF4",
      "include_colab_link": true
    },
    "kernelspec": {
      "name": "python3",
      "display_name": "Python 3"
    },
    "language_info": {
      "name": "python"
    },
    "accelerator": "GPU",
    "widgets": {
      "application/vnd.jupyter.widget-state+json": {
        "4aba3afe8b4243c9a3ec7e4a4fe38802": {
          "model_module": "@jupyter-widgets/controls",
          "model_name": "HBoxModel",
          "model_module_version": "1.5.0",
          "state": {
            "_dom_classes": [],
            "_model_module": "@jupyter-widgets/controls",
            "_model_module_version": "1.5.0",
            "_model_name": "HBoxModel",
            "_view_count": null,
            "_view_module": "@jupyter-widgets/controls",
            "_view_module_version": "1.5.0",
            "_view_name": "HBoxView",
            "box_style": "",
            "children": [
              "IPY_MODEL_535e630d26ab494fa5c37ac717699d96",
              "IPY_MODEL_b73a945dd92a49a18ba95e6bca23ba5e",
              "IPY_MODEL_1ecff500fafd42bf8afb6d15975588ad"
            ],
            "layout": "IPY_MODEL_3dd3869d847e45809efdaff4fdc500bc"
          }
        },
        "535e630d26ab494fa5c37ac717699d96": {
          "model_module": "@jupyter-widgets/controls",
          "model_name": "HTMLModel",
          "model_module_version": "1.5.0",
          "state": {
            "_dom_classes": [],
            "_model_module": "@jupyter-widgets/controls",
            "_model_module_version": "1.5.0",
            "_model_name": "HTMLModel",
            "_view_count": null,
            "_view_module": "@jupyter-widgets/controls",
            "_view_module_version": "1.5.0",
            "_view_name": "HTMLView",
            "description": "",
            "description_tooltip": null,
            "layout": "IPY_MODEL_652b1faf29ab451e863cef41daf4bfb0",
            "placeholder": "​",
            "style": "IPY_MODEL_89cd1248af3e4fdaba291ae76288951d",
            "value": "100%"
          }
        },
        "b73a945dd92a49a18ba95e6bca23ba5e": {
          "model_module": "@jupyter-widgets/controls",
          "model_name": "FloatProgressModel",
          "model_module_version": "1.5.0",
          "state": {
            "_dom_classes": [],
            "_model_module": "@jupyter-widgets/controls",
            "_model_module_version": "1.5.0",
            "_model_name": "FloatProgressModel",
            "_view_count": null,
            "_view_module": "@jupyter-widgets/controls",
            "_view_module_version": "1.5.0",
            "_view_name": "ProgressView",
            "bar_style": "success",
            "description": "",
            "description_tooltip": null,
            "layout": "IPY_MODEL_827e197ad13b4fdcacff79769af58ce4",
            "max": 7413,
            "min": 0,
            "orientation": "horizontal",
            "style": "IPY_MODEL_ac89e9cc97314ad58dee4b272369ec7c",
            "value": 7413
          }
        },
        "1ecff500fafd42bf8afb6d15975588ad": {
          "model_module": "@jupyter-widgets/controls",
          "model_name": "HTMLModel",
          "model_module_version": "1.5.0",
          "state": {
            "_dom_classes": [],
            "_model_module": "@jupyter-widgets/controls",
            "_model_module_version": "1.5.0",
            "_model_name": "HTMLModel",
            "_view_count": null,
            "_view_module": "@jupyter-widgets/controls",
            "_view_module_version": "1.5.0",
            "_view_name": "HTMLView",
            "description": "",
            "description_tooltip": null,
            "layout": "IPY_MODEL_2f91466ef2464531bb95b12b67c46c6f",
            "placeholder": "​",
            "style": "IPY_MODEL_012ee91fbc5a4ba9b8d240099809d9e4",
            "value": " 7413/7413 [00:25&lt;00:00, 437.98ex/s]"
          }
        },
        "3dd3869d847e45809efdaff4fdc500bc": {
          "model_module": "@jupyter-widgets/base",
          "model_name": "LayoutModel",
          "model_module_version": "1.2.0",
          "state": {
            "_model_module": "@jupyter-widgets/base",
            "_model_module_version": "1.2.0",
            "_model_name": "LayoutModel",
            "_view_count": null,
            "_view_module": "@jupyter-widgets/base",
            "_view_module_version": "1.2.0",
            "_view_name": "LayoutView",
            "align_content": null,
            "align_items": null,
            "align_self": null,
            "border": null,
            "bottom": null,
            "display": null,
            "flex": null,
            "flex_flow": null,
            "grid_area": null,
            "grid_auto_columns": null,
            "grid_auto_flow": null,
            "grid_auto_rows": null,
            "grid_column": null,
            "grid_gap": null,
            "grid_row": null,
            "grid_template_areas": null,
            "grid_template_columns": null,
            "grid_template_rows": null,
            "height": null,
            "justify_content": null,
            "justify_items": null,
            "left": null,
            "margin": null,
            "max_height": null,
            "max_width": null,
            "min_height": null,
            "min_width": null,
            "object_fit": null,
            "object_position": null,
            "order": null,
            "overflow": null,
            "overflow_x": null,
            "overflow_y": null,
            "padding": null,
            "right": null,
            "top": null,
            "visibility": null,
            "width": null
          }
        },
        "652b1faf29ab451e863cef41daf4bfb0": {
          "model_module": "@jupyter-widgets/base",
          "model_name": "LayoutModel",
          "model_module_version": "1.2.0",
          "state": {
            "_model_module": "@jupyter-widgets/base",
            "_model_module_version": "1.2.0",
            "_model_name": "LayoutModel",
            "_view_count": null,
            "_view_module": "@jupyter-widgets/base",
            "_view_module_version": "1.2.0",
            "_view_name": "LayoutView",
            "align_content": null,
            "align_items": null,
            "align_self": null,
            "border": null,
            "bottom": null,
            "display": null,
            "flex": null,
            "flex_flow": null,
            "grid_area": null,
            "grid_auto_columns": null,
            "grid_auto_flow": null,
            "grid_auto_rows": null,
            "grid_column": null,
            "grid_gap": null,
            "grid_row": null,
            "grid_template_areas": null,
            "grid_template_columns": null,
            "grid_template_rows": null,
            "height": null,
            "justify_content": null,
            "justify_items": null,
            "left": null,
            "margin": null,
            "max_height": null,
            "max_width": null,
            "min_height": null,
            "min_width": null,
            "object_fit": null,
            "object_position": null,
            "order": null,
            "overflow": null,
            "overflow_x": null,
            "overflow_y": null,
            "padding": null,
            "right": null,
            "top": null,
            "visibility": null,
            "width": null
          }
        },
        "89cd1248af3e4fdaba291ae76288951d": {
          "model_module": "@jupyter-widgets/controls",
          "model_name": "DescriptionStyleModel",
          "model_module_version": "1.5.0",
          "state": {
            "_model_module": "@jupyter-widgets/controls",
            "_model_module_version": "1.5.0",
            "_model_name": "DescriptionStyleModel",
            "_view_count": null,
            "_view_module": "@jupyter-widgets/base",
            "_view_module_version": "1.2.0",
            "_view_name": "StyleView",
            "description_width": ""
          }
        },
        "827e197ad13b4fdcacff79769af58ce4": {
          "model_module": "@jupyter-widgets/base",
          "model_name": "LayoutModel",
          "model_module_version": "1.2.0",
          "state": {
            "_model_module": "@jupyter-widgets/base",
            "_model_module_version": "1.2.0",
            "_model_name": "LayoutModel",
            "_view_count": null,
            "_view_module": "@jupyter-widgets/base",
            "_view_module_version": "1.2.0",
            "_view_name": "LayoutView",
            "align_content": null,
            "align_items": null,
            "align_self": null,
            "border": null,
            "bottom": null,
            "display": null,
            "flex": null,
            "flex_flow": null,
            "grid_area": null,
            "grid_auto_columns": null,
            "grid_auto_flow": null,
            "grid_auto_rows": null,
            "grid_column": null,
            "grid_gap": null,
            "grid_row": null,
            "grid_template_areas": null,
            "grid_template_columns": null,
            "grid_template_rows": null,
            "height": null,
            "justify_content": null,
            "justify_items": null,
            "left": null,
            "margin": null,
            "max_height": null,
            "max_width": null,
            "min_height": null,
            "min_width": null,
            "object_fit": null,
            "object_position": null,
            "order": null,
            "overflow": null,
            "overflow_x": null,
            "overflow_y": null,
            "padding": null,
            "right": null,
            "top": null,
            "visibility": null,
            "width": null
          }
        },
        "ac89e9cc97314ad58dee4b272369ec7c": {
          "model_module": "@jupyter-widgets/controls",
          "model_name": "ProgressStyleModel",
          "model_module_version": "1.5.0",
          "state": {
            "_model_module": "@jupyter-widgets/controls",
            "_model_module_version": "1.5.0",
            "_model_name": "ProgressStyleModel",
            "_view_count": null,
            "_view_module": "@jupyter-widgets/base",
            "_view_module_version": "1.2.0",
            "_view_name": "StyleView",
            "bar_color": null,
            "description_width": ""
          }
        },
        "2f91466ef2464531bb95b12b67c46c6f": {
          "model_module": "@jupyter-widgets/base",
          "model_name": "LayoutModel",
          "model_module_version": "1.2.0",
          "state": {
            "_model_module": "@jupyter-widgets/base",
            "_model_module_version": "1.2.0",
            "_model_name": "LayoutModel",
            "_view_count": null,
            "_view_module": "@jupyter-widgets/base",
            "_view_module_version": "1.2.0",
            "_view_name": "LayoutView",
            "align_content": null,
            "align_items": null,
            "align_self": null,
            "border": null,
            "bottom": null,
            "display": null,
            "flex": null,
            "flex_flow": null,
            "grid_area": null,
            "grid_auto_columns": null,
            "grid_auto_flow": null,
            "grid_auto_rows": null,
            "grid_column": null,
            "grid_gap": null,
            "grid_row": null,
            "grid_template_areas": null,
            "grid_template_columns": null,
            "grid_template_rows": null,
            "height": null,
            "justify_content": null,
            "justify_items": null,
            "left": null,
            "margin": null,
            "max_height": null,
            "max_width": null,
            "min_height": null,
            "min_width": null,
            "object_fit": null,
            "object_position": null,
            "order": null,
            "overflow": null,
            "overflow_x": null,
            "overflow_y": null,
            "padding": null,
            "right": null,
            "top": null,
            "visibility": null,
            "width": null
          }
        },
        "012ee91fbc5a4ba9b8d240099809d9e4": {
          "model_module": "@jupyter-widgets/controls",
          "model_name": "DescriptionStyleModel",
          "model_module_version": "1.5.0",
          "state": {
            "_model_module": "@jupyter-widgets/controls",
            "_model_module_version": "1.5.0",
            "_model_name": "DescriptionStyleModel",
            "_view_count": null,
            "_view_module": "@jupyter-widgets/base",
            "_view_module_version": "1.2.0",
            "_view_name": "StyleView",
            "description_width": ""
          }
        },
        "c96864da4b0746c2948773c34ea029f3": {
          "model_module": "@jupyter-widgets/controls",
          "model_name": "HBoxModel",
          "model_module_version": "1.5.0",
          "state": {
            "_dom_classes": [],
            "_model_module": "@jupyter-widgets/controls",
            "_model_module_version": "1.5.0",
            "_model_name": "HBoxModel",
            "_view_count": null,
            "_view_module": "@jupyter-widgets/controls",
            "_view_module_version": "1.5.0",
            "_view_name": "HBoxView",
            "box_style": "",
            "children": [
              "IPY_MODEL_33e54d2d5f4043c9b67cd6c90e0ef892",
              "IPY_MODEL_55e653779f0f4627a1a8617c1857e497",
              "IPY_MODEL_1ad3050ed5484243b363c913210ee224"
            ],
            "layout": "IPY_MODEL_76d7e677ed2f437bb6abc4d2a5d1b88e"
          }
        },
        "33e54d2d5f4043c9b67cd6c90e0ef892": {
          "model_module": "@jupyter-widgets/controls",
          "model_name": "HTMLModel",
          "model_module_version": "1.5.0",
          "state": {
            "_dom_classes": [],
            "_model_module": "@jupyter-widgets/controls",
            "_model_module_version": "1.5.0",
            "_model_name": "HTMLModel",
            "_view_count": null,
            "_view_module": "@jupyter-widgets/controls",
            "_view_module_version": "1.5.0",
            "_view_name": "HTMLView",
            "description": "",
            "description_tooltip": null,
            "layout": "IPY_MODEL_7831d17a4bf742ebae0753243dbc80bd",
            "placeholder": "​",
            "style": "IPY_MODEL_7ff1f03798c547c186b313b2e2988b2d",
            "value": "100%"
          }
        },
        "55e653779f0f4627a1a8617c1857e497": {
          "model_module": "@jupyter-widgets/controls",
          "model_name": "FloatProgressModel",
          "model_module_version": "1.5.0",
          "state": {
            "_dom_classes": [],
            "_model_module": "@jupyter-widgets/controls",
            "_model_module_version": "1.5.0",
            "_model_name": "FloatProgressModel",
            "_view_count": null,
            "_view_module": "@jupyter-widgets/controls",
            "_view_module_version": "1.5.0",
            "_view_name": "ProgressView",
            "bar_style": "success",
            "description": "",
            "description_tooltip": null,
            "layout": "IPY_MODEL_c475de8ba2394748a35b5be316bee5fe",
            "max": 1854,
            "min": 0,
            "orientation": "horizontal",
            "style": "IPY_MODEL_cb8d88da17724cd38c01aaebcb8eda4c",
            "value": 1854
          }
        },
        "1ad3050ed5484243b363c913210ee224": {
          "model_module": "@jupyter-widgets/controls",
          "model_name": "HTMLModel",
          "model_module_version": "1.5.0",
          "state": {
            "_dom_classes": [],
            "_model_module": "@jupyter-widgets/controls",
            "_model_module_version": "1.5.0",
            "_model_name": "HTMLModel",
            "_view_count": null,
            "_view_module": "@jupyter-widgets/controls",
            "_view_module_version": "1.5.0",
            "_view_name": "HTMLView",
            "description": "",
            "description_tooltip": null,
            "layout": "IPY_MODEL_aa7333037df942c6a958d09b69233830",
            "placeholder": "​",
            "style": "IPY_MODEL_8e800a7f63fc4b4e943aa4d5d4f40bf9",
            "value": " 1854/1854 [00:04&lt;00:00, 470.91ex/s]"
          }
        },
        "76d7e677ed2f437bb6abc4d2a5d1b88e": {
          "model_module": "@jupyter-widgets/base",
          "model_name": "LayoutModel",
          "model_module_version": "1.2.0",
          "state": {
            "_model_module": "@jupyter-widgets/base",
            "_model_module_version": "1.2.0",
            "_model_name": "LayoutModel",
            "_view_count": null,
            "_view_module": "@jupyter-widgets/base",
            "_view_module_version": "1.2.0",
            "_view_name": "LayoutView",
            "align_content": null,
            "align_items": null,
            "align_self": null,
            "border": null,
            "bottom": null,
            "display": null,
            "flex": null,
            "flex_flow": null,
            "grid_area": null,
            "grid_auto_columns": null,
            "grid_auto_flow": null,
            "grid_auto_rows": null,
            "grid_column": null,
            "grid_gap": null,
            "grid_row": null,
            "grid_template_areas": null,
            "grid_template_columns": null,
            "grid_template_rows": null,
            "height": null,
            "justify_content": null,
            "justify_items": null,
            "left": null,
            "margin": null,
            "max_height": null,
            "max_width": null,
            "min_height": null,
            "min_width": null,
            "object_fit": null,
            "object_position": null,
            "order": null,
            "overflow": null,
            "overflow_x": null,
            "overflow_y": null,
            "padding": null,
            "right": null,
            "top": null,
            "visibility": null,
            "width": null
          }
        },
        "7831d17a4bf742ebae0753243dbc80bd": {
          "model_module": "@jupyter-widgets/base",
          "model_name": "LayoutModel",
          "model_module_version": "1.2.0",
          "state": {
            "_model_module": "@jupyter-widgets/base",
            "_model_module_version": "1.2.0",
            "_model_name": "LayoutModel",
            "_view_count": null,
            "_view_module": "@jupyter-widgets/base",
            "_view_module_version": "1.2.0",
            "_view_name": "LayoutView",
            "align_content": null,
            "align_items": null,
            "align_self": null,
            "border": null,
            "bottom": null,
            "display": null,
            "flex": null,
            "flex_flow": null,
            "grid_area": null,
            "grid_auto_columns": null,
            "grid_auto_flow": null,
            "grid_auto_rows": null,
            "grid_column": null,
            "grid_gap": null,
            "grid_row": null,
            "grid_template_areas": null,
            "grid_template_columns": null,
            "grid_template_rows": null,
            "height": null,
            "justify_content": null,
            "justify_items": null,
            "left": null,
            "margin": null,
            "max_height": null,
            "max_width": null,
            "min_height": null,
            "min_width": null,
            "object_fit": null,
            "object_position": null,
            "order": null,
            "overflow": null,
            "overflow_x": null,
            "overflow_y": null,
            "padding": null,
            "right": null,
            "top": null,
            "visibility": null,
            "width": null
          }
        },
        "7ff1f03798c547c186b313b2e2988b2d": {
          "model_module": "@jupyter-widgets/controls",
          "model_name": "DescriptionStyleModel",
          "model_module_version": "1.5.0",
          "state": {
            "_model_module": "@jupyter-widgets/controls",
            "_model_module_version": "1.5.0",
            "_model_name": "DescriptionStyleModel",
            "_view_count": null,
            "_view_module": "@jupyter-widgets/base",
            "_view_module_version": "1.2.0",
            "_view_name": "StyleView",
            "description_width": ""
          }
        },
        "c475de8ba2394748a35b5be316bee5fe": {
          "model_module": "@jupyter-widgets/base",
          "model_name": "LayoutModel",
          "model_module_version": "1.2.0",
          "state": {
            "_model_module": "@jupyter-widgets/base",
            "_model_module_version": "1.2.0",
            "_model_name": "LayoutModel",
            "_view_count": null,
            "_view_module": "@jupyter-widgets/base",
            "_view_module_version": "1.2.0",
            "_view_name": "LayoutView",
            "align_content": null,
            "align_items": null,
            "align_self": null,
            "border": null,
            "bottom": null,
            "display": null,
            "flex": null,
            "flex_flow": null,
            "grid_area": null,
            "grid_auto_columns": null,
            "grid_auto_flow": null,
            "grid_auto_rows": null,
            "grid_column": null,
            "grid_gap": null,
            "grid_row": null,
            "grid_template_areas": null,
            "grid_template_columns": null,
            "grid_template_rows": null,
            "height": null,
            "justify_content": null,
            "justify_items": null,
            "left": null,
            "margin": null,
            "max_height": null,
            "max_width": null,
            "min_height": null,
            "min_width": null,
            "object_fit": null,
            "object_position": null,
            "order": null,
            "overflow": null,
            "overflow_x": null,
            "overflow_y": null,
            "padding": null,
            "right": null,
            "top": null,
            "visibility": null,
            "width": null
          }
        },
        "cb8d88da17724cd38c01aaebcb8eda4c": {
          "model_module": "@jupyter-widgets/controls",
          "model_name": "ProgressStyleModel",
          "model_module_version": "1.5.0",
          "state": {
            "_model_module": "@jupyter-widgets/controls",
            "_model_module_version": "1.5.0",
            "_model_name": "ProgressStyleModel",
            "_view_count": null,
            "_view_module": "@jupyter-widgets/base",
            "_view_module_version": "1.2.0",
            "_view_name": "StyleView",
            "bar_color": null,
            "description_width": ""
          }
        },
        "aa7333037df942c6a958d09b69233830": {
          "model_module": "@jupyter-widgets/base",
          "model_name": "LayoutModel",
          "model_module_version": "1.2.0",
          "state": {
            "_model_module": "@jupyter-widgets/base",
            "_model_module_version": "1.2.0",
            "_model_name": "LayoutModel",
            "_view_count": null,
            "_view_module": "@jupyter-widgets/base",
            "_view_module_version": "1.2.0",
            "_view_name": "LayoutView",
            "align_content": null,
            "align_items": null,
            "align_self": null,
            "border": null,
            "bottom": null,
            "display": null,
            "flex": null,
            "flex_flow": null,
            "grid_area": null,
            "grid_auto_columns": null,
            "grid_auto_flow": null,
            "grid_auto_rows": null,
            "grid_column": null,
            "grid_gap": null,
            "grid_row": null,
            "grid_template_areas": null,
            "grid_template_columns": null,
            "grid_template_rows": null,
            "height": null,
            "justify_content": null,
            "justify_items": null,
            "left": null,
            "margin": null,
            "max_height": null,
            "max_width": null,
            "min_height": null,
            "min_width": null,
            "object_fit": null,
            "object_position": null,
            "order": null,
            "overflow": null,
            "overflow_x": null,
            "overflow_y": null,
            "padding": null,
            "right": null,
            "top": null,
            "visibility": null,
            "width": null
          }
        },
        "8e800a7f63fc4b4e943aa4d5d4f40bf9": {
          "model_module": "@jupyter-widgets/controls",
          "model_name": "DescriptionStyleModel",
          "model_module_version": "1.5.0",
          "state": {
            "_model_module": "@jupyter-widgets/controls",
            "_model_module_version": "1.5.0",
            "_model_name": "DescriptionStyleModel",
            "_view_count": null,
            "_view_module": "@jupyter-widgets/base",
            "_view_module_version": "1.2.0",
            "_view_name": "StyleView",
            "description_width": ""
          }
        },
        "8c0f4ec8fb594b0b822d721f821dec56": {
          "model_module": "@jupyter-widgets/controls",
          "model_name": "HBoxModel",
          "model_module_version": "1.5.0",
          "state": {
            "_dom_classes": [],
            "_model_module": "@jupyter-widgets/controls",
            "_model_module_version": "1.5.0",
            "_model_name": "HBoxModel",
            "_view_count": null,
            "_view_module": "@jupyter-widgets/controls",
            "_view_module_version": "1.5.0",
            "_view_name": "HBoxView",
            "box_style": "",
            "children": [
              "IPY_MODEL_d52d511405b9428e86b1babdeffc5890",
              "IPY_MODEL_33b772c720984a478553a6b118cbfab8",
              "IPY_MODEL_3fcbe0380c22413e88e4437543795891"
            ],
            "layout": "IPY_MODEL_7ce29645b9a7486c9cd267d9fcc90cc3"
          }
        },
        "d52d511405b9428e86b1babdeffc5890": {
          "model_module": "@jupyter-widgets/controls",
          "model_name": "HTMLModel",
          "model_module_version": "1.5.0",
          "state": {
            "_dom_classes": [],
            "_model_module": "@jupyter-widgets/controls",
            "_model_module_version": "1.5.0",
            "_model_name": "HTMLModel",
            "_view_count": null,
            "_view_module": "@jupyter-widgets/controls",
            "_view_module_version": "1.5.0",
            "_view_name": "HTMLView",
            "description": "",
            "description_tooltip": null,
            "layout": "IPY_MODEL_897c6358b136469799e3cacabee58f54",
            "placeholder": "​",
            "style": "IPY_MODEL_eb42fd53ddee4d428109bdc4fbde6216",
            "value": "100%"
          }
        },
        "33b772c720984a478553a6b118cbfab8": {
          "model_module": "@jupyter-widgets/controls",
          "model_name": "FloatProgressModel",
          "model_module_version": "1.5.0",
          "state": {
            "_dom_classes": [],
            "_model_module": "@jupyter-widgets/controls",
            "_model_module_version": "1.5.0",
            "_model_name": "FloatProgressModel",
            "_view_count": null,
            "_view_module": "@jupyter-widgets/controls",
            "_view_module_version": "1.5.0",
            "_view_name": "ProgressView",
            "bar_style": "success",
            "description": "",
            "description_tooltip": null,
            "layout": "IPY_MODEL_a21b583d6f58440fba3fb9cf0e5a48ef",
            "max": 7413,
            "min": 0,
            "orientation": "horizontal",
            "style": "IPY_MODEL_0cbab0f9b61e451a80c95300b0392e39",
            "value": 7413
          }
        },
        "3fcbe0380c22413e88e4437543795891": {
          "model_module": "@jupyter-widgets/controls",
          "model_name": "HTMLModel",
          "model_module_version": "1.5.0",
          "state": {
            "_dom_classes": [],
            "_model_module": "@jupyter-widgets/controls",
            "_model_module_version": "1.5.0",
            "_model_name": "HTMLModel",
            "_view_count": null,
            "_view_module": "@jupyter-widgets/controls",
            "_view_module_version": "1.5.0",
            "_view_name": "HTMLView",
            "description": "",
            "description_tooltip": null,
            "layout": "IPY_MODEL_9b5ad37d77054319870a1dedfb7a7f60",
            "placeholder": "​",
            "style": "IPY_MODEL_ca9699e0fa56480fa64af8cbea8f7867",
            "value": " 7413/7413 [00:06&lt;00:00, 1101.19ex/s]"
          }
        },
        "7ce29645b9a7486c9cd267d9fcc90cc3": {
          "model_module": "@jupyter-widgets/base",
          "model_name": "LayoutModel",
          "model_module_version": "1.2.0",
          "state": {
            "_model_module": "@jupyter-widgets/base",
            "_model_module_version": "1.2.0",
            "_model_name": "LayoutModel",
            "_view_count": null,
            "_view_module": "@jupyter-widgets/base",
            "_view_module_version": "1.2.0",
            "_view_name": "LayoutView",
            "align_content": null,
            "align_items": null,
            "align_self": null,
            "border": null,
            "bottom": null,
            "display": null,
            "flex": null,
            "flex_flow": null,
            "grid_area": null,
            "grid_auto_columns": null,
            "grid_auto_flow": null,
            "grid_auto_rows": null,
            "grid_column": null,
            "grid_gap": null,
            "grid_row": null,
            "grid_template_areas": null,
            "grid_template_columns": null,
            "grid_template_rows": null,
            "height": null,
            "justify_content": null,
            "justify_items": null,
            "left": null,
            "margin": null,
            "max_height": null,
            "max_width": null,
            "min_height": null,
            "min_width": null,
            "object_fit": null,
            "object_position": null,
            "order": null,
            "overflow": null,
            "overflow_x": null,
            "overflow_y": null,
            "padding": null,
            "right": null,
            "top": null,
            "visibility": null,
            "width": null
          }
        },
        "897c6358b136469799e3cacabee58f54": {
          "model_module": "@jupyter-widgets/base",
          "model_name": "LayoutModel",
          "model_module_version": "1.2.0",
          "state": {
            "_model_module": "@jupyter-widgets/base",
            "_model_module_version": "1.2.0",
            "_model_name": "LayoutModel",
            "_view_count": null,
            "_view_module": "@jupyter-widgets/base",
            "_view_module_version": "1.2.0",
            "_view_name": "LayoutView",
            "align_content": null,
            "align_items": null,
            "align_self": null,
            "border": null,
            "bottom": null,
            "display": null,
            "flex": null,
            "flex_flow": null,
            "grid_area": null,
            "grid_auto_columns": null,
            "grid_auto_flow": null,
            "grid_auto_rows": null,
            "grid_column": null,
            "grid_gap": null,
            "grid_row": null,
            "grid_template_areas": null,
            "grid_template_columns": null,
            "grid_template_rows": null,
            "height": null,
            "justify_content": null,
            "justify_items": null,
            "left": null,
            "margin": null,
            "max_height": null,
            "max_width": null,
            "min_height": null,
            "min_width": null,
            "object_fit": null,
            "object_position": null,
            "order": null,
            "overflow": null,
            "overflow_x": null,
            "overflow_y": null,
            "padding": null,
            "right": null,
            "top": null,
            "visibility": null,
            "width": null
          }
        },
        "eb42fd53ddee4d428109bdc4fbde6216": {
          "model_module": "@jupyter-widgets/controls",
          "model_name": "DescriptionStyleModel",
          "model_module_version": "1.5.0",
          "state": {
            "_model_module": "@jupyter-widgets/controls",
            "_model_module_version": "1.5.0",
            "_model_name": "DescriptionStyleModel",
            "_view_count": null,
            "_view_module": "@jupyter-widgets/base",
            "_view_module_version": "1.2.0",
            "_view_name": "StyleView",
            "description_width": ""
          }
        },
        "a21b583d6f58440fba3fb9cf0e5a48ef": {
          "model_module": "@jupyter-widgets/base",
          "model_name": "LayoutModel",
          "model_module_version": "1.2.0",
          "state": {
            "_model_module": "@jupyter-widgets/base",
            "_model_module_version": "1.2.0",
            "_model_name": "LayoutModel",
            "_view_count": null,
            "_view_module": "@jupyter-widgets/base",
            "_view_module_version": "1.2.0",
            "_view_name": "LayoutView",
            "align_content": null,
            "align_items": null,
            "align_self": null,
            "border": null,
            "bottom": null,
            "display": null,
            "flex": null,
            "flex_flow": null,
            "grid_area": null,
            "grid_auto_columns": null,
            "grid_auto_flow": null,
            "grid_auto_rows": null,
            "grid_column": null,
            "grid_gap": null,
            "grid_row": null,
            "grid_template_areas": null,
            "grid_template_columns": null,
            "grid_template_rows": null,
            "height": null,
            "justify_content": null,
            "justify_items": null,
            "left": null,
            "margin": null,
            "max_height": null,
            "max_width": null,
            "min_height": null,
            "min_width": null,
            "object_fit": null,
            "object_position": null,
            "order": null,
            "overflow": null,
            "overflow_x": null,
            "overflow_y": null,
            "padding": null,
            "right": null,
            "top": null,
            "visibility": null,
            "width": null
          }
        },
        "0cbab0f9b61e451a80c95300b0392e39": {
          "model_module": "@jupyter-widgets/controls",
          "model_name": "ProgressStyleModel",
          "model_module_version": "1.5.0",
          "state": {
            "_model_module": "@jupyter-widgets/controls",
            "_model_module_version": "1.5.0",
            "_model_name": "ProgressStyleModel",
            "_view_count": null,
            "_view_module": "@jupyter-widgets/base",
            "_view_module_version": "1.2.0",
            "_view_name": "StyleView",
            "bar_color": null,
            "description_width": ""
          }
        },
        "9b5ad37d77054319870a1dedfb7a7f60": {
          "model_module": "@jupyter-widgets/base",
          "model_name": "LayoutModel",
          "model_module_version": "1.2.0",
          "state": {
            "_model_module": "@jupyter-widgets/base",
            "_model_module_version": "1.2.0",
            "_model_name": "LayoutModel",
            "_view_count": null,
            "_view_module": "@jupyter-widgets/base",
            "_view_module_version": "1.2.0",
            "_view_name": "LayoutView",
            "align_content": null,
            "align_items": null,
            "align_self": null,
            "border": null,
            "bottom": null,
            "display": null,
            "flex": null,
            "flex_flow": null,
            "grid_area": null,
            "grid_auto_columns": null,
            "grid_auto_flow": null,
            "grid_auto_rows": null,
            "grid_column": null,
            "grid_gap": null,
            "grid_row": null,
            "grid_template_areas": null,
            "grid_template_columns": null,
            "grid_template_rows": null,
            "height": null,
            "justify_content": null,
            "justify_items": null,
            "left": null,
            "margin": null,
            "max_height": null,
            "max_width": null,
            "min_height": null,
            "min_width": null,
            "object_fit": null,
            "object_position": null,
            "order": null,
            "overflow": null,
            "overflow_x": null,
            "overflow_y": null,
            "padding": null,
            "right": null,
            "top": null,
            "visibility": null,
            "width": null
          }
        },
        "ca9699e0fa56480fa64af8cbea8f7867": {
          "model_module": "@jupyter-widgets/controls",
          "model_name": "DescriptionStyleModel",
          "model_module_version": "1.5.0",
          "state": {
            "_model_module": "@jupyter-widgets/controls",
            "_model_module_version": "1.5.0",
            "_model_name": "DescriptionStyleModel",
            "_view_count": null,
            "_view_module": "@jupyter-widgets/base",
            "_view_module_version": "1.2.0",
            "_view_name": "StyleView",
            "description_width": ""
          }
        },
        "bc9352bf38c7487eab48c3cf8c67a76e": {
          "model_module": "@jupyter-widgets/controls",
          "model_name": "HBoxModel",
          "model_module_version": "1.5.0",
          "state": {
            "_dom_classes": [],
            "_model_module": "@jupyter-widgets/controls",
            "_model_module_version": "1.5.0",
            "_model_name": "HBoxModel",
            "_view_count": null,
            "_view_module": "@jupyter-widgets/controls",
            "_view_module_version": "1.5.0",
            "_view_name": "HBoxView",
            "box_style": "",
            "children": [
              "IPY_MODEL_f99273263c664e23bff0ef44f583c68f",
              "IPY_MODEL_d72513eb417344569fe2db124ed6da13",
              "IPY_MODEL_247fab01c3654c0f8b41f66688be13e8"
            ],
            "layout": "IPY_MODEL_a787a677906e4a60b1a457e4fb66bdfe"
          }
        },
        "f99273263c664e23bff0ef44f583c68f": {
          "model_module": "@jupyter-widgets/controls",
          "model_name": "HTMLModel",
          "model_module_version": "1.5.0",
          "state": {
            "_dom_classes": [],
            "_model_module": "@jupyter-widgets/controls",
            "_model_module_version": "1.5.0",
            "_model_name": "HTMLModel",
            "_view_count": null,
            "_view_module": "@jupyter-widgets/controls",
            "_view_module_version": "1.5.0",
            "_view_name": "HTMLView",
            "description": "",
            "description_tooltip": null,
            "layout": "IPY_MODEL_317c2207e1d742528fff20b30ee9989c",
            "placeholder": "​",
            "style": "IPY_MODEL_395bbdc42e544a808a4eb254a0d3137b",
            "value": "100%"
          }
        },
        "d72513eb417344569fe2db124ed6da13": {
          "model_module": "@jupyter-widgets/controls",
          "model_name": "FloatProgressModel",
          "model_module_version": "1.5.0",
          "state": {
            "_dom_classes": [],
            "_model_module": "@jupyter-widgets/controls",
            "_model_module_version": "1.5.0",
            "_model_name": "FloatProgressModel",
            "_view_count": null,
            "_view_module": "@jupyter-widgets/controls",
            "_view_module_version": "1.5.0",
            "_view_name": "ProgressView",
            "bar_style": "success",
            "description": "",
            "description_tooltip": null,
            "layout": "IPY_MODEL_b3eabb94f78447e8b8c2e8b9307481be",
            "max": 1854,
            "min": 0,
            "orientation": "horizontal",
            "style": "IPY_MODEL_570c4a034c424f3ca31c99ec0ccd918b",
            "value": 1854
          }
        },
        "247fab01c3654c0f8b41f66688be13e8": {
          "model_module": "@jupyter-widgets/controls",
          "model_name": "HTMLModel",
          "model_module_version": "1.5.0",
          "state": {
            "_dom_classes": [],
            "_model_module": "@jupyter-widgets/controls",
            "_model_module_version": "1.5.0",
            "_model_name": "HTMLModel",
            "_view_count": null,
            "_view_module": "@jupyter-widgets/controls",
            "_view_module_version": "1.5.0",
            "_view_name": "HTMLView",
            "description": "",
            "description_tooltip": null,
            "layout": "IPY_MODEL_d658660a831c4472afe8e27cf084a7ef",
            "placeholder": "​",
            "style": "IPY_MODEL_11b640d5e6964611abc2c84aced43d93",
            "value": " 1854/1854 [00:01&lt;00:00, 1224.69ex/s]"
          }
        },
        "a787a677906e4a60b1a457e4fb66bdfe": {
          "model_module": "@jupyter-widgets/base",
          "model_name": "LayoutModel",
          "model_module_version": "1.2.0",
          "state": {
            "_model_module": "@jupyter-widgets/base",
            "_model_module_version": "1.2.0",
            "_model_name": "LayoutModel",
            "_view_count": null,
            "_view_module": "@jupyter-widgets/base",
            "_view_module_version": "1.2.0",
            "_view_name": "LayoutView",
            "align_content": null,
            "align_items": null,
            "align_self": null,
            "border": null,
            "bottom": null,
            "display": null,
            "flex": null,
            "flex_flow": null,
            "grid_area": null,
            "grid_auto_columns": null,
            "grid_auto_flow": null,
            "grid_auto_rows": null,
            "grid_column": null,
            "grid_gap": null,
            "grid_row": null,
            "grid_template_areas": null,
            "grid_template_columns": null,
            "grid_template_rows": null,
            "height": null,
            "justify_content": null,
            "justify_items": null,
            "left": null,
            "margin": null,
            "max_height": null,
            "max_width": null,
            "min_height": null,
            "min_width": null,
            "object_fit": null,
            "object_position": null,
            "order": null,
            "overflow": null,
            "overflow_x": null,
            "overflow_y": null,
            "padding": null,
            "right": null,
            "top": null,
            "visibility": null,
            "width": null
          }
        },
        "317c2207e1d742528fff20b30ee9989c": {
          "model_module": "@jupyter-widgets/base",
          "model_name": "LayoutModel",
          "model_module_version": "1.2.0",
          "state": {
            "_model_module": "@jupyter-widgets/base",
            "_model_module_version": "1.2.0",
            "_model_name": "LayoutModel",
            "_view_count": null,
            "_view_module": "@jupyter-widgets/base",
            "_view_module_version": "1.2.0",
            "_view_name": "LayoutView",
            "align_content": null,
            "align_items": null,
            "align_self": null,
            "border": null,
            "bottom": null,
            "display": null,
            "flex": null,
            "flex_flow": null,
            "grid_area": null,
            "grid_auto_columns": null,
            "grid_auto_flow": null,
            "grid_auto_rows": null,
            "grid_column": null,
            "grid_gap": null,
            "grid_row": null,
            "grid_template_areas": null,
            "grid_template_columns": null,
            "grid_template_rows": null,
            "height": null,
            "justify_content": null,
            "justify_items": null,
            "left": null,
            "margin": null,
            "max_height": null,
            "max_width": null,
            "min_height": null,
            "min_width": null,
            "object_fit": null,
            "object_position": null,
            "order": null,
            "overflow": null,
            "overflow_x": null,
            "overflow_y": null,
            "padding": null,
            "right": null,
            "top": null,
            "visibility": null,
            "width": null
          }
        },
        "395bbdc42e544a808a4eb254a0d3137b": {
          "model_module": "@jupyter-widgets/controls",
          "model_name": "DescriptionStyleModel",
          "model_module_version": "1.5.0",
          "state": {
            "_model_module": "@jupyter-widgets/controls",
            "_model_module_version": "1.5.0",
            "_model_name": "DescriptionStyleModel",
            "_view_count": null,
            "_view_module": "@jupyter-widgets/base",
            "_view_module_version": "1.2.0",
            "_view_name": "StyleView",
            "description_width": ""
          }
        },
        "b3eabb94f78447e8b8c2e8b9307481be": {
          "model_module": "@jupyter-widgets/base",
          "model_name": "LayoutModel",
          "model_module_version": "1.2.0",
          "state": {
            "_model_module": "@jupyter-widgets/base",
            "_model_module_version": "1.2.0",
            "_model_name": "LayoutModel",
            "_view_count": null,
            "_view_module": "@jupyter-widgets/base",
            "_view_module_version": "1.2.0",
            "_view_name": "LayoutView",
            "align_content": null,
            "align_items": null,
            "align_self": null,
            "border": null,
            "bottom": null,
            "display": null,
            "flex": null,
            "flex_flow": null,
            "grid_area": null,
            "grid_auto_columns": null,
            "grid_auto_flow": null,
            "grid_auto_rows": null,
            "grid_column": null,
            "grid_gap": null,
            "grid_row": null,
            "grid_template_areas": null,
            "grid_template_columns": null,
            "grid_template_rows": null,
            "height": null,
            "justify_content": null,
            "justify_items": null,
            "left": null,
            "margin": null,
            "max_height": null,
            "max_width": null,
            "min_height": null,
            "min_width": null,
            "object_fit": null,
            "object_position": null,
            "order": null,
            "overflow": null,
            "overflow_x": null,
            "overflow_y": null,
            "padding": null,
            "right": null,
            "top": null,
            "visibility": null,
            "width": null
          }
        },
        "570c4a034c424f3ca31c99ec0ccd918b": {
          "model_module": "@jupyter-widgets/controls",
          "model_name": "ProgressStyleModel",
          "model_module_version": "1.5.0",
          "state": {
            "_model_module": "@jupyter-widgets/controls",
            "_model_module_version": "1.5.0",
            "_model_name": "ProgressStyleModel",
            "_view_count": null,
            "_view_module": "@jupyter-widgets/base",
            "_view_module_version": "1.2.0",
            "_view_name": "StyleView",
            "bar_color": null,
            "description_width": ""
          }
        },
        "d658660a831c4472afe8e27cf084a7ef": {
          "model_module": "@jupyter-widgets/base",
          "model_name": "LayoutModel",
          "model_module_version": "1.2.0",
          "state": {
            "_model_module": "@jupyter-widgets/base",
            "_model_module_version": "1.2.0",
            "_model_name": "LayoutModel",
            "_view_count": null,
            "_view_module": "@jupyter-widgets/base",
            "_view_module_version": "1.2.0",
            "_view_name": "LayoutView",
            "align_content": null,
            "align_items": null,
            "align_self": null,
            "border": null,
            "bottom": null,
            "display": null,
            "flex": null,
            "flex_flow": null,
            "grid_area": null,
            "grid_auto_columns": null,
            "grid_auto_flow": null,
            "grid_auto_rows": null,
            "grid_column": null,
            "grid_gap": null,
            "grid_row": null,
            "grid_template_areas": null,
            "grid_template_columns": null,
            "grid_template_rows": null,
            "height": null,
            "justify_content": null,
            "justify_items": null,
            "left": null,
            "margin": null,
            "max_height": null,
            "max_width": null,
            "min_height": null,
            "min_width": null,
            "object_fit": null,
            "object_position": null,
            "order": null,
            "overflow": null,
            "overflow_x": null,
            "overflow_y": null,
            "padding": null,
            "right": null,
            "top": null,
            "visibility": null,
            "width": null
          }
        },
        "11b640d5e6964611abc2c84aced43d93": {
          "model_module": "@jupyter-widgets/controls",
          "model_name": "DescriptionStyleModel",
          "model_module_version": "1.5.0",
          "state": {
            "_model_module": "@jupyter-widgets/controls",
            "_model_module_version": "1.5.0",
            "_model_name": "DescriptionStyleModel",
            "_view_count": null,
            "_view_module": "@jupyter-widgets/base",
            "_view_module_version": "1.2.0",
            "_view_name": "StyleView",
            "description_width": ""
          }
        }
      }
    }
  },
  "cells": [
    {
      "cell_type": "markdown",
      "metadata": {
        "id": "view-in-github",
        "colab_type": "text"
      },
      "source": [
        "<a href=\"https://colab.research.google.com/github/TurkuNLP/register-DeepL/blob/main/register_multilabel.ipynb\" target=\"_parent\"><img src=\"https://colab.research.google.com/assets/colab-badge.svg\" alt=\"Open In Colab\"/></a>"
      ]
    },
    {
      "cell_type": "markdown",
      "source": [
        "Before running this notebook put the file in the directory."
      ],
      "metadata": {
        "id": "1LhWBKyS9WI0"
      }
    },
    {
      "cell_type": "code",
      "source": [
        "!wget -nc https://github.com/TurkuNLP/register-DeepL/blob/main/AfterDeepL/es_FINAL.tsv.gz # the repo is private so this does not work lol"
      ],
      "metadata": {
        "colab": {
          "base_uri": "https://localhost:8080/"
        },
        "id": "xBO2gmCI5tr_",
        "outputId": "7c70d2e5-d441-4444-ef15-66ec69407dce"
      },
      "execution_count": 1,
      "outputs": [
        {
          "output_type": "stream",
          "name": "stdout",
          "text": [
            "File ‘es_FINAL.tsv.gz’ already there; not retrieving.\n",
            "\n"
          ]
        }
      ]
    },
    {
      "cell_type": "code",
      "source": [
        "!pip3 install -q transformers datasets"
      ],
      "metadata": {
        "id": "La1ni9EJt1r5"
      },
      "execution_count": 2,
      "outputs": []
    },
    {
      "cell_type": "code",
      "execution_count": 3,
      "metadata": {
        "id": "W97WvJelte9M"
      },
      "outputs": [],
      "source": [
        "import transformers\n",
        "import datasets\n",
        "import gzip \n",
        "import random\n",
        "import re\n",
        "import json\n",
        "import torch\n",
        "\n",
        "from pprint import PrettyPrinter\n",
        "import logging\n",
        "pprint = PrettyPrinter(compact=True).pprint\n",
        "logging.disable(logging.INFO)"
      ]
    },
    {
      "cell_type": "code",
      "source": [
        "file_name = \"es_FINAL.tsv.gz\"\n",
        "data=[]\n",
        "with gzip.open(file_name, 'rb') as f:\n",
        "    for line in f:\n",
        "        line = line.decode()\n",
        "        line=line.rstrip(\"\\n\")\n",
        "        if not line or line.startswith(\"#\"): #skip empty and comments (incl. header)\n",
        "            continue\n",
        "        cols=line.split(\"\\t\")\n",
        "        if len(cols)!=2: #skip weird lines that don't have the right number of columns\n",
        "            continue\n",
        "        data.append(cols)\n",
        "\n",
        "pprint(data[0])"
      ],
      "metadata": {
        "colab": {
          "base_uri": "https://localhost:8080/"
        },
        "id": "iBhPuid40fRJ",
        "outputId": "0a2ebffc-b14d-4c09-dbd3-fea440dfc52d"
      },
      "execution_count": 4,
      "outputs": [
        {
          "output_type": "stream",
          "name": "stdout",
          "text": [
            "['NA OP',\n",
            " \"El martes por la noche, Sarah Palin se pasó por el programa de Bill O'Reilly \"\n",
            " 'para hablar de algunos comentarios recientes de Laura Ingraham, así como del '\n",
            " 'enfoque que debería adoptar la candidatura de Romney/Ryan en la recta final '\n",
            " 'de la campaña. Insistiendo en el argumento de que Mitt Romney debe ser más '\n",
            " 'agresivo, Palin definió las elecciones como una elección entre \"cosas gratis '\n",
            " 'o libertad\". Preguntada por el comentario de Ingraham de que si los '\n",
            " 'republicanos no pueden ganar estas elecciones, deberían cerrar el partido, '\n",
            " 'Palin también estuvo de acuerdo en que estas elecciones deberían favorecer a '\n",
            " 'Romney. Rush Limbaugh dijo igualmente que la reelección del presidente '\n",
            " 'señalaría el fin del GOP. La cuestión, dijo, es que el mensaje llegue a los '\n",
            " 'votantes. \"Si no puedes hacer llegar tu mensaje a través de ese filtro de '\n",
            " 'los medios de comunicación, entonces estamos en un mundo de dolor\", dijo. Lo '\n",
            " 'que los republicanos no están haciendo, añadió, es explicar que los votantes '\n",
            " 'tienen que elegir: \"Cosas gratis o libertad. No se pueden tener las dos '\n",
            " 'cosas\". A este respecto, O\\'Reilly reflexionó sobre si es posible que el '\n",
            " 'país haya cambiado. Con la creciente dependencia de los programas '\n",
            " 'gubernamentales, dijo, quizás los votantes digan que quieren las cosas '\n",
            " 'gratis. Que están dispuestos a sacrificar la libertad. \"Es posible que '\n",
            " 'estemos tan lejos en ese camino, sí\", respondió Palin. Luego, hablando más '\n",
            " \"específicamente sobre la estrategia de campaña, O'Reilly cuestionó si Romney \"\n",
            " 'debería ir tras el presidente Barack Obama \"de una manera más personal\". Si '\n",
            " 'debería usar \"palabras de moda\" como \"incompetente\", \"peligroso\" y '\n",
            " '\"socialista\". Palin argumentó que esas no son palabras de moda: son la '\n",
            " 'verdad. Y sí, debería hacerlo: \"Tiene que ser muy agresivo en su '\n",
            " 'articulación\". Durante la convención, O\\'Reilly comentó que Clint Eastwood '\n",
            " 'fue el único orador que hizo al presidente \"personalmente responsable\" del '\n",
            " 'estado del país. No se trata \"tanto de las políticas, sino de él\", dijo '\n",
            " 'O\\'Reilly. \"Es un duro rellenador de espacios en blanco\". ¿Ir tras Obama de '\n",
            " '\"una manera más personal\"? Me pregunto qué significa eso. Republicanos, '\n",
            " 'explicad exactamente qué significa eso, por favor... '\n",
            " 'ttp://twitter.com/Lompemann Lompe Dejad que Sarah Palin haga llegar la '\n",
            " 'ensalada de palabras a la gente. Anónimo Por favor, Mitt sigue el consejo de '\n",
            " 'Sarah Palin Por favor, por favor... Anónimo Sí, porque llamarlo comunista '\n",
            " 'que odia a Estados Unidos y mostrar su \"golpe de puño terrorista\" no es '\n",
            " 'suficiente. O tal vez la FOX no consiguió suficiente personal cuando dijo '\n",
            " 'que era un racista. O que insinuaran que Obama era un \"matón\" cuando recibía '\n",
            " 'a raperos \"radicales\" como Common\". Yea....time para conseguir más personal '\n",
            " \"FOX. El anónimo Bill O'Reilly parece estar disfrutando tratando de conversar \"\n",
            " 'en tono serio con la \"estrella de la realidad televisiva\" de Fox, Sarah '\n",
            " 'Palin... ...¡Están clara y profundamente preocupados por Romney! Caribou '\n",
            " '\"QUIT\" BarbieT sp estuvo en las noticias de FOX esta noche? Espera, tengo '\n",
            " 'que cambiar mi avatar. Dios mío, esta chica no se va a ir. Anónima Sí, mira '\n",
            " 'a dónde ha llevado esa estrategia a BillO y Sarah. Claramente la crema de '\n",
            " 'sus profesiones. Anónimo Oye Bill, cuéntanos sobre ese caso de acoso sexual '\n",
            " 'que resolviste fuera de los tribunales por más de un millón de dólares. Oh, '\n",
            " 'lo siento, ¿es demasiado personal? Ve tras el presidente Obama \"de una '\n",
            " 'manera más personal\". Vaya, me pregunto a qué podría referirse eso. '\n",
            " '\"...incompetente\", \"peligroso\" y \"socialista\". ¿Lo mismo que hizo en menos '\n",
            " 'de medio mandato como \"gobernadora\" de Alaska? Vamos, Sarah, di lo que te '\n",
            " 'mueres por decir. Billo no lo hará, porque es un cobarde cobarde, tiene una '\n",
            " 'excusa incorporada, tú, Sarah, no. Ponlo, Sarah, pero nunca te callarás, por '\n",
            " 'eso Mitt nunca se acercará a menos de cien millas de ti. '\n",
            " 'ttp://twitter.com/veedahvandal veedahvandal smh..eso es todo lo que '\n",
            " 'digo..triste Anónimo Realmente le salió bien a Sarah Palin, que tuvo '\n",
            " 'problemas con la más simple de las preguntas sobre cualquier tema de '\n",
            " \"política... Horas después de que Bill O'Reilly la acusara de un intento de \"\n",
            " 'chantaje multimillonario, una productora de Fox News devolvió el golpe a la '\n",
            " 'estrella de la televisión, presentando una demanda en la que afirma que la '\n",
            " 'sometió a repetidos casos de acoso sexual']\n"
          ]
        }
      ]
    },
    {
      "cell_type": "code",
      "source": [
        "random.seed(1234) # remember to shuffle since the data is now in en,fi,swe,fre order\n",
        "random.shuffle(data) "
      ],
      "metadata": {
        "id": "N4FSpvtDIRPa"
      },
      "execution_count": 5,
      "outputs": []
    },
    {
      "cell_type": "code",
      "source": [
        "# get a list of all the unique labels in the data using set which does not allow duplicates\n",
        "\n",
        "labels = [one[0] for one in data]\n",
        "\n",
        "#this splits all of the labels into their own thing for multilabeling\n",
        "split_labels= []\n",
        "for labeled in labels:\n",
        "  labeleds = labeled.split()\n",
        "  for label in labeleds:\n",
        "    split_labels.append(label)\n",
        "print(split_labels[:10])\n",
        "\n",
        "labelset = set(split_labels) #split_labels\n",
        "unique_labels=list(labelset)\n",
        "\n",
        "# or make a label list from the picture which includes all the possibilities ? there should be 55 different but our dataset only has 43 which will do for now at least\n",
        "# format of the labels? base+sub together in the label list?\n",
        "\n",
        "texts= [one[1] for one in data]\n",
        "print(len(unique_labels)) \n",
        "print(unique_labels[:10])"
      ],
      "metadata": {
        "colab": {
          "base_uri": "https://localhost:8080/"
        },
        "id": "BI0rCcbz0sec",
        "outputId": "8c3b8e94-e65e-4910-b2ee-89635aade080"
      },
      "execution_count": 6,
      "outputs": [
        {
          "output_type": "stream",
          "name": "stdout",
          "text": [
            "['DT', 'IN', 'IP', 'IN', 'HI', 'LT', 'IP', 'DS', 'MT', 'OS']\n",
            "43\n",
            "['CM', 'IB', 'AV', 'IN', 'FC', 'NE', 'CB', 'JD', 'OS', 'DP']\n"
          ]
        }
      ]
    },
    {
      "cell_type": "code",
      "source": [
        "# split the labels into a list in the data\n",
        "for i in range(len(data)):\n",
        "  labeledlist = data[i][0]\n",
        "  lablist = labeledlist.split()\n",
        "  data[i][0] = lablist\n",
        "\n",
        "print(data[0][0])\n",
        "\n",
        "labels = [one[0] for one in data]\n",
        "print(labels[:10])"
      ],
      "metadata": {
        "colab": {
          "base_uri": "https://localhost:8080/"
        },
        "id": "Q6bkZqV_hU3W",
        "outputId": "7d82cccc-089c-47c4-aaf4-568dbf6e539c"
      },
      "execution_count": 7,
      "outputs": [
        {
          "output_type": "stream",
          "name": "stdout",
          "text": [
            "['DT', 'IN']\n",
            "[['DT', 'IN'], ['IP'], ['IN', 'HI', 'LT'], ['IP', 'DS'], ['MT', 'OS'], ['DT', 'IN'], ['IP'], ['HI'], ['IP', 'DS'], ['NA', 'IN']]\n"
          ]
        }
      ]
    },
    {
      "cell_type": "code",
      "source": [
        "# indexlist = []\n",
        "# line = []\n",
        "# for i in range(len(data)):\n",
        "#   lab = data[i][0]\n",
        "#   for j in range(len(lab)):\n",
        "#     line.append(unique_labels.index(lab[j]))\n",
        "#   indexlist.append(line)\n",
        "#   line= []\n",
        "# print(indexlist[0])\n",
        "\n",
        "\n",
        "# then one-hot encode all the labels in the data?\n",
        "# I guess I could use pandas for this, first change everything to pandas format and then encode the labels\n",
        "\n",
        "import pandas as pd\n",
        "\n",
        "df = pd.DataFrame({\n",
        "    \"text\": texts,\n",
        "    \"labels\": labels\n",
        "})\n",
        "print(df)\n",
        "\n",
        "from sklearn.preprocessing import MultiLabelBinarizer\n",
        "mlb = MultiLabelBinarizer()\n",
        "yt = mlb.fit_transform(df.labels)\n",
        "print(yt[0])\n",
        "print(mlb.inverse_transform(yt[0].reshape(1,-1)))\n",
        "print(mlb.classes_)\n",
        "\n",
        "ytlist= []\n",
        "for labs in yt:\n",
        "  ytlist.append(labs)\n",
        "\n",
        "\n",
        "df = pd.DataFrame({\n",
        "    \"text\": texts,\n",
        "    \"labels\": ytlist\n",
        "})"
      ],
      "metadata": {
        "colab": {
          "base_uri": "https://localhost:8080/"
        },
        "id": "yRmIrPxVezz0",
        "outputId": "83f839ff-ba4f-45be-d4af-0ae6c002dd49"
      },
      "execution_count": 8,
      "outputs": [
        {
          "output_type": "stream",
          "name": "stdout",
          "text": [
            "                                                   text            labels\n",
            "0     Otro tipo de jueves y el curso Hacia una vida ...          [DT, IN]\n",
            "1     Todavía quedan algunas plazas en la próxima se...              [IP]\n",
            "2     Introduce tu dirección de correo electrónico y...      [IN, HI, LT]\n",
            "3     - ASUPERMALL Bolsa de almacenamiento compatibl...          [IP, DS]\n",
            "4     Categorías Negocio en casa Tengo que admitir q...          [MT, OS]\n",
            "...                                                 ...               ...\n",
            "9262  Páginas Nov 17, 2012 Cortando tu prosa dorada ...              [NA]\n",
            "9263  Lyrics Depot es tu fuente de la letra de It Ha...              [LY]\n",
            "9264  ¿Qué es la idea de contactar? ¿Cuál es la idea...              [ID]\n",
            "9265  Mi hermano murió hace dos años Otras preguntas...              [ID]\n",
            "9266  Esperamos darle la bienvenida al Mercure Wagga...  [IP, OP, DS, RV]\n",
            "\n",
            "[9267 rows x 2 columns]\n",
            "[0 0 0 0 0 0 1 0 0 0 0 0 0 0 0 0 0 1 0 0 0 0 0 0 0 0 0 0 0 0 0 0 0 0 0 0 0\n",
            " 0 0 0 0 0 0]\n",
            "[('DT', 'IN')]\n",
            "['AV' 'CB' 'CM' 'DF' 'DP' 'DS' 'DT' 'EB' 'EN' 'FA' 'FC' 'FS' 'HA' 'HI'\n",
            " 'IB' 'ID' 'IG' 'IN' 'IP' 'IT' 'JD' 'LT' 'LY' 'MT' 'NA' 'NE' 'OA' 'OB'\n",
            " 'OP' 'OS' 'PB' 'PO' 'QA' 'RA' 'RE' 'RP' 'RS' 'RV' 'SO' 'SP' 'SR' 'TB'\n",
            " 'TV']\n"
          ]
        }
      ]
    },
    {
      "cell_type": "code",
      "source": [
        "#print(df)\n",
        "dataset = datasets.Dataset.from_pandas(df)\n",
        "print(dataset)"
      ],
      "metadata": {
        "colab": {
          "base_uri": "https://localhost:8080/"
        },
        "id": "tmhh3XuoFNBI",
        "outputId": "bca701e2-8255-4f77-bafd-58552fcab8c9"
      },
      "execution_count": 9,
      "outputs": [
        {
          "output_type": "stream",
          "name": "stdout",
          "text": [
            "Dataset({\n",
            "    features: ['text', 'labels'],\n",
            "    num_rows: 9267\n",
            "})\n"
          ]
        }
      ]
    },
    {
      "cell_type": "code",
      "source": [
        "# with open(\"translated-register-data.jsonl\", \"wt\") as f:\n",
        "#     for cols, labs in zip(data, yt):\n",
        "#         item = {\n",
        "#             \"text\": cols[1],\n",
        "#             \"labels\": labs.tolist() #labs #unique_labels.index(cols[0]),\n",
        "#              # change this to have the binary one-hot encoded list of the labels, or a list of the labels => anyway a list\n",
        "#         }\n",
        "#         print(json.dumps(item,ensure_ascii=False,sort_keys=True),file=f)"
      ],
      "metadata": {
        "id": "wzqyT4Hg00dt"
      },
      "execution_count": 10,
      "outputs": []
    },
    {
      "cell_type": "code",
      "source": [
        "# Dataset_ready = \"\"\n",
        "# for label in unique_labels:\n",
        "#   label = \"\\\"\" + label + \"\\\"\"\n",
        "#   Dataset_ready = Dataset_ready + label +\": datasets.Value(\\\"int64\\\"), \"\n",
        "\n",
        "# pprint(Dataset_ready)\n",
        "\n",
        "# # this makes the dataset ready to receive encoded data"
      ],
      "metadata": {
        "id": "svFwaeTUyncg"
      },
      "execution_count": 11,
      "outputs": []
    },
    {
      "cell_type": "code",
      "source": [
        "# file = \"translated-register-data.jsonl\"\n",
        "# dataset = datasets.load_dataset(\n",
        "#     'json',                             \n",
        "#     data_files={\"everything\":file}, # I need the test set from Veronika? ask Filip and Veronika\n",
        "#     split={\n",
        "#         \"train\":\"everything[:80%]\",  \n",
        "#         \"validation\":\"everything[80%:90%]\",   \n",
        "#         \"test\":\"everything[90%:]\"    \n",
        "#     }#,\n",
        "#     # features=datasets.Features({\n",
        "#     #     \"text\":datasets.Value(\"string\")   # glad I found out that this works even without the features specifically mentioned, huggingface documentation mentioned they were optional\n",
        "#     # })\n",
        "# )\n",
        "\n",
        "#         # \"labels\":datasets.Sequence(datasets.ClassLabel(names=unique_labels)}), #datasets.ClassLabel(names=unique_labels), \n",
        "#         # # change this somehow to take all labels into account??? => datasets.Sequence(feature={}) that should include all the label features I want to give\n",
        "\n",
        "# dataset     "
      ],
      "metadata": {
        "id": "XcL0B9NS2hes"
      },
      "execution_count": 12,
      "outputs": []
    },
    {
      "cell_type": "code",
      "source": [
        "dataset = dataset.train_test_split(test_size=0.2)\n",
        "print(dataset)"
      ],
      "metadata": {
        "colab": {
          "base_uri": "https://localhost:8080/"
        },
        "id": "bK0uo07IHSWz",
        "outputId": "e6ad385e-84c2-44c3-d90d-c77784cc90eb"
      },
      "execution_count": 13,
      "outputs": [
        {
          "output_type": "stream",
          "name": "stdout",
          "text": [
            "DatasetDict({\n",
            "    train: Dataset({\n",
            "        features: ['text', 'labels'],\n",
            "        num_rows: 7413\n",
            "    })\n",
            "    test: Dataset({\n",
            "        features: ['text', 'labels'],\n",
            "        num_rows: 1854\n",
            "    })\n",
            "})\n"
          ]
        }
      ]
    },
    {
      "cell_type": "code",
      "source": [
        "print(dataset[\"train\"][0])"
      ],
      "metadata": {
        "colab": {
          "base_uri": "https://localhost:8080/"
        },
        "id": "UdNwnFN0aZxX",
        "outputId": "89208282-95e2-41eb-c4f5-1edb7019e858"
      },
      "execution_count": 14,
      "outputs": [
        {
          "output_type": "stream",
          "name": "stdout",
          "text": [
            "{'text': 'AOC International ( Europe ) GmbH garantiza que este producto está libre de defectos de material y mano de obra durante un período de tres ( 3 ) años a partir de la fecha de compra original por parte del consumidor, durante el cual AOC International ( Europe ) GmbH, a su elección, reparará el producto defectuoso con piezas nuevas o reparadas, o lo sustituirá por un producto nuevo o reparado sin coste alguno, excepto en los casos indicados a continuación. Los productos defectuosos sustituidos pasan a ser propiedad de AOC International ( Europe ) GmbH. Si el producto parece defectuoso, póngase en contacto con su distribuidor local o consulte la tarjeta de garantía cuando la adjunte al producto. Entregue el producto a portes pagados junto con el comprobante de compra fechado a un centro de servicio autorizado por AOC . Si no puede entregar el producto en persona: AOC International ( Europe ) GmbH no se hace responsable de ningún daño o pérdida durante el transporte de entrada o del producto recibido que no haya sido embalado correctamente . AOC International ( Europe ) GmbH pagará los gastos de envío de la devolución dentro del país mencionado en este certificado de garantía . AOC International ( Europe ) GmbH no se hace responsable de los costes asociados al transporte del producto a través de las fronteras internacionales . Esto incluye las fronteras internacionales dentro de la Unión Europea. * Esta garantía limitada no cubre ninguna pérdida o daño que se produzca como resultado del envío o de una instalación inadecuada o de la negligencia en el servicio por cualquier motivo que no sea la reparación de ajuste de aplicaciones comerciales o industriales normales, la modificación o la instalación de accesorios o piezas por una fuente no autorizada por AOC:entorno defectuoso calefacción o ventilación excesiva o inadecuada o fallos eléctricos, subidas de tensión repentinas u otras irregularidades Esta garantía limitada no cubre el firmware o el hardware del producto que haya sido modificado o alterado por usted o por cualquier otro tercero; usted será el único responsable de dicha modificación o alteración.', 'labels': [0, 0, 0, 0, 0, 0, 0, 0, 0, 0, 0, 0, 0, 0, 0, 0, 0, 1, 0, 0, 0, 1, 0, 0, 0, 0, 0, 0, 0, 0, 0, 0, 0, 0, 0, 0, 0, 0, 0, 0, 0, 0, 0]}\n"
          ]
        }
      ]
    },
    {
      "cell_type": "code",
      "source": [
        "model_name = \"xlm-roberta-base\" # we use the xlmr for tokenizing (large)\n",
        "tokenizer = transformers.AutoTokenizer.from_pretrained(model_name)\n",
        "\n",
        "def tokenize(example):\n",
        "    return tokenizer(\n",
        "        example[\"text\"],\n",
        "        max_length=512,\n",
        "        truncation=True, # do something else other than truncating? the texts now have max 1024 tokens\n",
        "    )\n",
        "\n",
        "dataset = dataset.map(tokenize)"
      ],
      "metadata": {
        "colab": {
          "base_uri": "https://localhost:8080/",
          "height": 81,
          "referenced_widgets": [
            "4aba3afe8b4243c9a3ec7e4a4fe38802",
            "535e630d26ab494fa5c37ac717699d96",
            "b73a945dd92a49a18ba95e6bca23ba5e",
            "1ecff500fafd42bf8afb6d15975588ad",
            "3dd3869d847e45809efdaff4fdc500bc",
            "652b1faf29ab451e863cef41daf4bfb0",
            "89cd1248af3e4fdaba291ae76288951d",
            "827e197ad13b4fdcacff79769af58ce4",
            "ac89e9cc97314ad58dee4b272369ec7c",
            "2f91466ef2464531bb95b12b67c46c6f",
            "012ee91fbc5a4ba9b8d240099809d9e4",
            "c96864da4b0746c2948773c34ea029f3",
            "33e54d2d5f4043c9b67cd6c90e0ef892",
            "55e653779f0f4627a1a8617c1857e497",
            "1ad3050ed5484243b363c913210ee224",
            "76d7e677ed2f437bb6abc4d2a5d1b88e",
            "7831d17a4bf742ebae0753243dbc80bd",
            "7ff1f03798c547c186b313b2e2988b2d",
            "c475de8ba2394748a35b5be316bee5fe",
            "cb8d88da17724cd38c01aaebcb8eda4c",
            "aa7333037df942c6a958d09b69233830",
            "8e800a7f63fc4b4e943aa4d5d4f40bf9"
          ]
        },
        "id": "yyAGVb9g2mFw",
        "outputId": "3e458d50-78a7-402b-bf9a-9be4d3554bbd"
      },
      "execution_count": 15,
      "outputs": [
        {
          "output_type": "display_data",
          "data": {
            "text/plain": [
              "  0%|          | 0/7413 [00:00<?, ?ex/s]"
            ],
            "application/vnd.jupyter.widget-view+json": {
              "version_major": 2,
              "version_minor": 0,
              "model_id": "4aba3afe8b4243c9a3ec7e4a4fe38802"
            }
          },
          "metadata": {}
        },
        {
          "output_type": "display_data",
          "data": {
            "text/plain": [
              "  0%|          | 0/1854 [00:00<?, ?ex/s]"
            ],
            "application/vnd.jupyter.widget-view+json": {
              "version_major": 2,
              "version_minor": 0,
              "model_id": "c96864da4b0746c2948773c34ea029f3"
            }
          },
          "metadata": {}
        }
      ]
    },
    {
      "cell_type": "code",
      "source": [
        "# cast label IDs to floats\n",
        "#dataset.remove_columns(\"text\")\n",
        "dataset.reset_format()\n",
        "print(dataset[\"train\"].format)\n",
        "dataset.set_format(type=\"pandas\", columns=['labels', 'input_ids', 'attention_mask'])\n",
        "print(dataset[\"train\"].format)\n",
        "#print(dataset[\"train\"][0])\n",
        "dataset.set_format(type=\"torch\", columns=['labels', 'input_ids', 'attention_mask'])\n",
        "print(dataset[\"train\"].format)\n",
        "dataset = dataset.map(lambda x : {\"float_labels\": x[\"labels\"].to(torch.float32)}, remove_columns=[\"labels\", \"text\"])\n",
        "#dataset.remove_columns(\"labels\")\n",
        "print(dataset)\n",
        "dataset = dataset.rename_column(\"float_labels\", \"labels\")"
      ],
      "metadata": {
        "colab": {
          "base_uri": "https://localhost:8080/",
          "height": 307,
          "referenced_widgets": [
            "8c0f4ec8fb594b0b822d721f821dec56",
            "d52d511405b9428e86b1babdeffc5890",
            "33b772c720984a478553a6b118cbfab8",
            "3fcbe0380c22413e88e4437543795891",
            "7ce29645b9a7486c9cd267d9fcc90cc3",
            "897c6358b136469799e3cacabee58f54",
            "eb42fd53ddee4d428109bdc4fbde6216",
            "a21b583d6f58440fba3fb9cf0e5a48ef",
            "0cbab0f9b61e451a80c95300b0392e39",
            "9b5ad37d77054319870a1dedfb7a7f60",
            "ca9699e0fa56480fa64af8cbea8f7867",
            "bc9352bf38c7487eab48c3cf8c67a76e",
            "f99273263c664e23bff0ef44f583c68f",
            "d72513eb417344569fe2db124ed6da13",
            "247fab01c3654c0f8b41f66688be13e8",
            "a787a677906e4a60b1a457e4fb66bdfe",
            "317c2207e1d742528fff20b30ee9989c",
            "395bbdc42e544a808a4eb254a0d3137b",
            "b3eabb94f78447e8b8c2e8b9307481be",
            "570c4a034c424f3ca31c99ec0ccd918b",
            "d658660a831c4472afe8e27cf084a7ef",
            "11b640d5e6964611abc2c84aced43d93"
          ]
        },
        "id": "xBb93RxmfojL",
        "outputId": "36d0fab4-a2de-47fc-dbdd-6b8f72a6b7c8"
      },
      "execution_count": 16,
      "outputs": [
        {
          "output_type": "stream",
          "name": "stdout",
          "text": [
            "{'type': None, 'format_kwargs': {}, 'columns': ['text', 'labels', 'input_ids', 'attention_mask'], 'output_all_columns': False}\n",
            "{'type': 'pandas', 'format_kwargs': {}, 'columns': ['labels', 'input_ids', 'attention_mask'], 'output_all_columns': False}\n",
            "{'type': 'torch', 'format_kwargs': {}, 'columns': ['labels', 'input_ids', 'attention_mask'], 'output_all_columns': False}\n"
          ]
        },
        {
          "output_type": "display_data",
          "data": {
            "text/plain": [
              "  0%|          | 0/7413 [00:00<?, ?ex/s]"
            ],
            "application/vnd.jupyter.widget-view+json": {
              "version_major": 2,
              "version_minor": 0,
              "model_id": "8c0f4ec8fb594b0b822d721f821dec56"
            }
          },
          "metadata": {}
        },
        {
          "output_type": "display_data",
          "data": {
            "text/plain": [
              "  0%|          | 0/1854 [00:00<?, ?ex/s]"
            ],
            "application/vnd.jupyter.widget-view+json": {
              "version_major": 2,
              "version_minor": 0,
              "model_id": "bc9352bf38c7487eab48c3cf8c67a76e"
            }
          },
          "metadata": {}
        },
        {
          "output_type": "stream",
          "name": "stdout",
          "text": [
            "DatasetDict({\n",
            "    train: Dataset({\n",
            "        features: ['input_ids', 'attention_mask', 'float_labels'],\n",
            "        num_rows: 7413\n",
            "    })\n",
            "    test: Dataset({\n",
            "        features: ['input_ids', 'attention_mask', 'float_labels'],\n",
            "        num_rows: 1854\n",
            "    })\n",
            "})\n"
          ]
        }
      ]
    },
    {
      "cell_type": "code",
      "source": [
        "model = transformers.XLMRobertaForSequenceClassification.from_pretrained(model_name, num_labels=len(unique_labels), problem_type=\"multi_label_classification\")"
      ],
      "metadata": {
        "colab": {
          "base_uri": "https://localhost:8080/"
        },
        "id": "_2fDqich2rCd",
        "outputId": "dbd4f3fb-c4f0-45cf-b345-4d03a6190e65"
      },
      "execution_count": 17,
      "outputs": [
        {
          "output_type": "stream",
          "name": "stderr",
          "text": [
            "Some weights of the model checkpoint at xlm-roberta-base were not used when initializing XLMRobertaForSequenceClassification: ['lm_head.decoder.weight', 'lm_head.layer_norm.weight', 'roberta.pooler.dense.weight', 'lm_head.layer_norm.bias', 'lm_head.dense.bias', 'roberta.pooler.dense.bias', 'lm_head.bias', 'lm_head.dense.weight']\n",
            "- This IS expected if you are initializing XLMRobertaForSequenceClassification from the checkpoint of a model trained on another task or with another architecture (e.g. initializing a BertForSequenceClassification model from a BertForPreTraining model).\n",
            "- This IS NOT expected if you are initializing XLMRobertaForSequenceClassification from the checkpoint of a model that you expect to be exactly identical (initializing a BertForSequenceClassification model from a BertForSequenceClassification model).\n",
            "Some weights of XLMRobertaForSequenceClassification were not initialized from the model checkpoint at xlm-roberta-base and are newly initialized: ['classifier.dense.bias', 'classifier.dense.weight', 'classifier.out_proj.weight', 'classifier.out_proj.bias']\n",
            "You should probably TRAIN this model on a down-stream task to be able to use it for predictions and inference.\n"
          ]
        }
      ]
    },
    {
      "cell_type": "code",
      "source": [
        "trainer_args = transformers.TrainingArguments(\n",
        "    \"checkpoints\",\n",
        "    evaluation_strategy=\"steps\",\n",
        "    logging_strategy=\"steps\",\n",
        "    load_best_model_at_end=True,\n",
        "    eval_steps=100,\n",
        "    logging_steps=100,\n",
        "    learning_rate=0.00001,\n",
        "    per_device_train_batch_size=8,\n",
        "    per_device_eval_batch_size=32,\n",
        "    max_steps=1500\n",
        ")\n"
      ],
      "metadata": {
        "id": "tgf8tHN53k-N"
      },
      "execution_count": 18,
      "outputs": []
    },
    {
      "cell_type": "code",
      "source": [
        "# accuracy = datasets.load_metric(\"accuracy\")\n",
        "\n",
        "# def compute_accuracy(outputs_and_labels):\n",
        "#     outputs, labels = outputs_and_labels\n",
        "#     predictions = outputs.argmax(axis=-1) #pick the index of the \"winning\" label\n",
        "#     return accuracy.compute(predictions=predictions, references=labels)\n",
        "\n",
        "\n",
        "data_collator = transformers.DataCollatorWithPadding(tokenizer)\n",
        "\n",
        "\n",
        "# # for the actual multilabel thing we need to use another metric\n",
        "# #microF1\n",
        "# from sklearn.metrics import precision_recall_fscore_support\n",
        "# def compute_metrics(pred):\n",
        "#     labels = pred.label_ids\n",
        "#     preds = pred.predictions.argmax(-1)\n",
        "#     precision, recall, f1, _ = precision_recall_fscore_support(labels, preds, average='micro') # switch from binary to micro for multilabel at least\n",
        "#   #  acc = accuracy_score(labels, preds)\n",
        "#     return {\n",
        "#    #     'accuracy': acc,\n",
        "#         'f1': f1,\n",
        "#         'precision': precision,\n",
        "#         'recall': recall\n",
        "#     }\n",
        "import numpy as np\n",
        "from transformers import EvalPrediction\n",
        "from sklearn.metrics import f1_score, roc_auc_score, accuracy_score\n",
        "# source: https://jesusleal.io/2021/04/21/Longformer-multilabel-classification/\n",
        "def multi_label_metrics(predictions, labels, threshold=0.5):\n",
        "    # first, apply sigmoid on predictions which are of shape (batch_size, num_labels)\n",
        "    sigmoid = torch.nn.Sigmoid()\n",
        "    probs = sigmoid(torch.Tensor(predictions))\n",
        "    # next, use threshold to turn them into integer predictions\n",
        "    y_pred = np.zeros(probs.shape)\n",
        "    y_pred[np.where(probs >= threshold)] = 1\n",
        "    # finally, compute metrics\n",
        "    y_true = labels\n",
        "    f1_micro_average = f1_score(y_true=y_true, y_pred=y_pred, average='micro')\n",
        "    roc_auc = roc_auc_score(y_true, y_pred, average = 'micro')\n",
        "    accuracy = accuracy_score(y_true, y_pred)\n",
        "    # return as dictionary\n",
        "    metrics = {'f1': f1_micro_average,\n",
        "               'roc_auc': roc_auc,\n",
        "               'accuracy': accuracy}\n",
        "    return metrics\n",
        "\n",
        "def compute_metrics(p: EvalPrediction):\n",
        "    preds = p.predictions[0] if isinstance(p.predictions, \n",
        "            tuple) else p.predictions\n",
        "    result = multi_label_metrics(\n",
        "        predictions=preds, \n",
        "        labels=p.label_ids)\n",
        "    return result"
      ],
      "metadata": {
        "id": "LQZ3SWIz3n2l"
      },
      "execution_count": 24,
      "outputs": []
    },
    {
      "cell_type": "code",
      "source": [
        "from collections import defaultdict\n",
        "\n",
        "class LogSavingCallback(transformers.TrainerCallback):\n",
        "    def on_train_begin(self, *args, **kwargs):\n",
        "        self.logs = defaultdict(list)\n",
        "        self.training = True\n",
        "\n",
        "    def on_train_end(self, *args, **kwargs):\n",
        "        self.training = False\n",
        "\n",
        "    def on_log(self, args, state, control, logs, model=None, **kwargs):\n",
        "        if self.training:\n",
        "            for k, v in logs.items():\n",
        "                if k != \"epoch\" or v not in self.logs[k]:\n",
        "                    self.logs[k].append(v)\n",
        "\n",
        "training_logs = LogSavingCallback()\n",
        "\n",
        "early_stopping = transformers.EarlyStoppingCallback(\n",
        "    early_stopping_patience=5\n",
        ")"
      ],
      "metadata": {
        "id": "_GphLD_C8dF3"
      },
      "execution_count": 20,
      "outputs": []
    },
    {
      "cell_type": "code",
      "source": [
        "class MultilabelTrainer(transformers.Trainer):\n",
        "    def compute_loss(self, model, inputs, return_outputs=False):\n",
        "        labels = inputs.pop(\"labels\")\n",
        "        outputs = model(**inputs)\n",
        "        logits = outputs.logits\n",
        "        loss_fct = torch.nn.BCEWithLogitsLoss()\n",
        "        loss = loss_fct(logits.view(-1, self.model.config.num_labels), \n",
        "                        labels.float().view(-1, self.model.config.num_labels))\n",
        "        return (loss, outputs) if return_outputs else loss"
      ],
      "metadata": {
        "id": "O5Ct-tk8SysA"
      },
      "execution_count": 21,
      "outputs": []
    },
    {
      "cell_type": "code",
      "source": [
        "dataset"
      ],
      "metadata": {
        "colab": {
          "base_uri": "https://localhost:8080/"
        },
        "id": "LRLm4AlHUyp8",
        "outputId": "6e4bd03e-3430-4163-b762-834cbcb77416"
      },
      "execution_count": 22,
      "outputs": [
        {
          "output_type": "execute_result",
          "data": {
            "text/plain": [
              "DatasetDict({\n",
              "    train: Dataset({\n",
              "        features: ['input_ids', 'attention_mask', 'labels'],\n",
              "        num_rows: 7413\n",
              "    })\n",
              "    test: Dataset({\n",
              "        features: ['input_ids', 'attention_mask', 'labels'],\n",
              "        num_rows: 1854\n",
              "    })\n",
              "})"
            ]
          },
          "metadata": {},
          "execution_count": 22
        }
      ]
    },
    {
      "cell_type": "code",
      "source": [
        "trainer = MultilabelTrainer(\n",
        "    model=model,\n",
        "    args=trainer_args,\n",
        "    train_dataset=dataset[\"train\"],\n",
        "    eval_dataset=dataset[\"test\"],\n",
        "    compute_metrics=compute_metrics,\n",
        "    data_collator=data_collator,\n",
        "    tokenizer = tokenizer,\n",
        "    callbacks=[early_stopping, training_logs]\n",
        ")\n",
        "\n",
        "trainer.train()\n",
        "\n",
        "# I am glad I got the model working but something is still up with the metrics. Need to figure out a good way to implement them (because right now to my knowledge this should work)"
      ],
      "metadata": {
        "colab": {
          "base_uri": "https://localhost:8080/",
          "height": 618
        },
        "id": "s8HaeLy93rhS",
        "outputId": "c5866afc-4fe4-46e1-ad5c-ba36f8a975ae"
      },
      "execution_count": 25,
      "outputs": [
        {
          "output_type": "stream",
          "name": "stderr",
          "text": [
            "/usr/local/lib/python3.7/dist-packages/transformers/optimization.py:309: FutureWarning: This implementation of AdamW is deprecated and will be removed in a future version. Use the PyTorch implementation torch.optim.AdamW instead, or set `no_deprecation_warning=True` to disable this warning\n",
            "  FutureWarning,\n"
          ]
        },
        {
          "output_type": "display_data",
          "data": {
            "text/plain": [
              "<IPython.core.display.HTML object>"
            ],
            "text/html": [
              "\n",
              "    <div>\n",
              "      \n",
              "      <progress value='1500' max='1500' style='width:300px; height:20px; vertical-align: middle;'></progress>\n",
              "      [1500/1500 38:49, Epoch 1/2]\n",
              "    </div>\n",
              "    <table border=\"1\" class=\"dataframe\">\n",
              "  <thead>\n",
              " <tr style=\"text-align: left;\">\n",
              "      <th>Step</th>\n",
              "      <th>Training Loss</th>\n",
              "      <th>Validation Loss</th>\n",
              "      <th>F1</th>\n",
              "      <th>Roc Auc</th>\n",
              "      <th>Accuracy</th>\n",
              "    </tr>\n",
              "  </thead>\n",
              "  <tbody>\n",
              "    <tr>\n",
              "      <td>100</td>\n",
              "      <td>0.465600</td>\n",
              "      <td>0.285155</td>\n",
              "      <td>0.000000</td>\n",
              "      <td>0.500000</td>\n",
              "      <td>0.000000</td>\n",
              "    </tr>\n",
              "    <tr>\n",
              "      <td>200</td>\n",
              "      <td>0.247500</td>\n",
              "      <td>0.196542</td>\n",
              "      <td>0.000000</td>\n",
              "      <td>0.500000</td>\n",
              "      <td>0.000000</td>\n",
              "    </tr>\n",
              "    <tr>\n",
              "      <td>300</td>\n",
              "      <td>0.186100</td>\n",
              "      <td>0.168085</td>\n",
              "      <td>0.000000</td>\n",
              "      <td>0.500000</td>\n",
              "      <td>0.000000</td>\n",
              "    </tr>\n",
              "    <tr>\n",
              "      <td>400</td>\n",
              "      <td>0.167300</td>\n",
              "      <td>0.156640</td>\n",
              "      <td>0.000000</td>\n",
              "      <td>0.500000</td>\n",
              "      <td>0.000000</td>\n",
              "    </tr>\n",
              "    <tr>\n",
              "      <td>500</td>\n",
              "      <td>0.155200</td>\n",
              "      <td>0.151175</td>\n",
              "      <td>0.000000</td>\n",
              "      <td>0.500000</td>\n",
              "      <td>0.000000</td>\n",
              "    </tr>\n",
              "    <tr>\n",
              "      <td>600</td>\n",
              "      <td>0.149000</td>\n",
              "      <td>0.148092</td>\n",
              "      <td>0.000000</td>\n",
              "      <td>0.500000</td>\n",
              "      <td>0.000000</td>\n",
              "    </tr>\n",
              "    <tr>\n",
              "      <td>700</td>\n",
              "      <td>0.154700</td>\n",
              "      <td>0.146454</td>\n",
              "      <td>0.000000</td>\n",
              "      <td>0.500000</td>\n",
              "      <td>0.000000</td>\n",
              "    </tr>\n",
              "    <tr>\n",
              "      <td>800</td>\n",
              "      <td>0.146000</td>\n",
              "      <td>0.145316</td>\n",
              "      <td>0.000000</td>\n",
              "      <td>0.500000</td>\n",
              "      <td>0.000000</td>\n",
              "    </tr>\n",
              "    <tr>\n",
              "      <td>900</td>\n",
              "      <td>0.149200</td>\n",
              "      <td>0.144492</td>\n",
              "      <td>0.000000</td>\n",
              "      <td>0.500000</td>\n",
              "      <td>0.000000</td>\n",
              "    </tr>\n",
              "    <tr>\n",
              "      <td>1000</td>\n",
              "      <td>0.144400</td>\n",
              "      <td>0.143986</td>\n",
              "      <td>0.000000</td>\n",
              "      <td>0.500000</td>\n",
              "      <td>0.000000</td>\n",
              "    </tr>\n",
              "    <tr>\n",
              "      <td>1100</td>\n",
              "      <td>0.143500</td>\n",
              "      <td>0.143436</td>\n",
              "      <td>0.000000</td>\n",
              "      <td>0.500000</td>\n",
              "      <td>0.000000</td>\n",
              "    </tr>\n",
              "    <tr>\n",
              "      <td>1200</td>\n",
              "      <td>0.144800</td>\n",
              "      <td>0.143143</td>\n",
              "      <td>0.000000</td>\n",
              "      <td>0.500000</td>\n",
              "      <td>0.000000</td>\n",
              "    </tr>\n",
              "    <tr>\n",
              "      <td>1300</td>\n",
              "      <td>0.143600</td>\n",
              "      <td>0.142847</td>\n",
              "      <td>0.000000</td>\n",
              "      <td>0.500000</td>\n",
              "      <td>0.000000</td>\n",
              "    </tr>\n",
              "    <tr>\n",
              "      <td>1400</td>\n",
              "      <td>0.142500</td>\n",
              "      <td>0.142540</td>\n",
              "      <td>0.000000</td>\n",
              "      <td>0.500000</td>\n",
              "      <td>0.000000</td>\n",
              "    </tr>\n",
              "    <tr>\n",
              "      <td>1500</td>\n",
              "      <td>0.142400</td>\n",
              "      <td>0.142487</td>\n",
              "      <td>0.000000</td>\n",
              "      <td>0.500000</td>\n",
              "      <td>0.000000</td>\n",
              "    </tr>\n",
              "  </tbody>\n",
              "</table><p>"
            ]
          },
          "metadata": {}
        },
        {
          "output_type": "execute_result",
          "data": {
            "text/plain": [
              "TrainOutput(global_step=1500, training_loss=0.17879343859354654, metrics={'train_runtime': 2330.3034, 'train_samples_per_second': 5.15, 'train_steps_per_second': 0.644, 'total_flos': 3157549045940640.0, 'train_loss': 0.17879343859354654, 'epoch': 1.62})"
            ]
          },
          "metadata": {},
          "execution_count": 25
        }
      ]
    },
    {
      "cell_type": "code",
      "source": [
        "eval_results = trainer.evaluate(dataset[\"test\"])\n",
        "\n",
        "print(eval_results)"
      ],
      "metadata": {
        "colab": {
          "base_uri": "https://localhost:8080/",
          "height": 54
        },
        "id": "JtzDeGhQ3ufs",
        "outputId": "fe36ee0d-69fc-4b9a-e06d-162e4b18f359"
      },
      "execution_count": 26,
      "outputs": [
        {
          "output_type": "display_data",
          "data": {
            "text/plain": [
              "<IPython.core.display.HTML object>"
            ],
            "text/html": [
              "\n",
              "    <div>\n",
              "      \n",
              "      <progress value='58' max='58' style='width:300px; height:20px; vertical-align: middle;'></progress>\n",
              "      [58/58 00:56]\n",
              "    </div>\n",
              "    "
            ]
          },
          "metadata": {}
        },
        {
          "output_type": "stream",
          "name": "stdout",
          "text": [
            "{'eval_loss': 0.1424873322248459, 'eval_f1': 0.0, 'eval_roc_auc': 0.5, 'eval_accuracy': 0.0, 'eval_runtime': 57.5818, 'eval_samples_per_second': 32.198, 'eval_steps_per_second': 1.007, 'epoch': 1.62}\n"
          ]
        }
      ]
    },
    {
      "cell_type": "code",
      "source": [
        "%matplotlib inline\n",
        "import matplotlib.pyplot as plt\n",
        "\n",
        "def plot(logs, keys, labels):\n",
        "    values = sum([logs[k] for k in keys], [])\n",
        "    plt.ylim(max(min(values)-0.1, 0.0), min(max(values)+0.1, 1.0))\n",
        "    for key, label in zip(keys, labels):    \n",
        "        plt.plot(logs[\"epoch\"], logs[key], label=label)\n",
        "    plt.legend()\n",
        "    plt.show()\n",
        "\n",
        "plot(training_logs.logs, [\"loss\", \"eval_loss\"], [\"Training loss\", \"Evaluation loss\"])"
      ],
      "metadata": {
        "id": "zJP4s7hiDTye",
        "colab": {
          "base_uri": "https://localhost:8080/",
          "height": 265
        },
        "outputId": "b1f9a182-0126-4d19-a7d4-dbe96ed2c6e4"
      },
      "execution_count": 27,
      "outputs": [
        {
          "output_type": "display_data",
          "data": {
            "text/plain": [
              "<Figure size 432x288 with 1 Axes>"
            ],
            "image/png": "[encoded data removed]"
          },
          "metadata": {
            "needs_background": "light"
          }
        }
      ]
    },
    {
      "cell_type": "code",
      "source": [
        "#plot(training_logs.logs, [\"eval_accuracy\"], [\"Evaluation accuracy\"])"
      ],
      "metadata": {
        "id": "_3XCnTSxDZy3"
      },
      "execution_count": null,
      "outputs": []
    },
    {
      "cell_type": "markdown",
      "source": [
        "I think there are several reasons this does not work at all really:\n",
        "\n",
        "\n",
        "2.   I am also truncating it to 512 and the original texts have 1024 tokens as agreed with filip to save space when translating texts -> another way to do this?\n",
        "If I am truncating then it feels unnecessary to even have translated 1024 tokens but I guess more than 512 is needed although the beginning is apparently very telling when getting the register\n",
        "3.   Accuracy is also not the best metric for this because there are so many combinations -> should do true multilabel and use another metric for that\n",
        "4.   And for some registers (at least lyrical) the translations might not have been as good as hoped.\n",
        "\n",
        "All in all, true multilabel is the only solution to this really and even then english data only having base labels might be an issue when the others have sublabels (this also depends on the target language test set and how the annotations are done)\n",
        "\n"
      ],
      "metadata": {
        "id": "sma9e5Yy_8HT"
      }
    }
  ]
}