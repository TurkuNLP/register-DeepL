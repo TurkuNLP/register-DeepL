{
  "nbformat": 4,
  "nbformat_minor": 0,
  "metadata": {
    "colab": {
      "name": "register-multilabel.ipynb",
      "provenance": [],
      "collapsed_sections": [],
      "authorship_tag": "ABX9TyPAC5N0O9+QnNXTKl79KKsd",
      "include_colab_link": true
    },
    "kernelspec": {
      "name": "python3",
      "display_name": "Python 3"
    },
    "language_info": {
      "name": "python"
    },
    "accelerator": "GPU",
    "widgets": {
      "application/vnd.jupyter.widget-state+json": {
        "5629b418c06344d6ba073a13e6c62d0a": {
          "model_module": "@jupyter-widgets/controls",
          "model_name": "HBoxModel",
          "model_module_version": "1.5.0",
          "state": {
            "_dom_classes": [],
            "_model_module": "@jupyter-widgets/controls",
            "_model_module_version": "1.5.0",
            "_model_name": "HBoxModel",
            "_view_count": null,
            "_view_module": "@jupyter-widgets/controls",
            "_view_module_version": "1.5.0",
            "_view_name": "HBoxView",
            "box_style": "",
            "children": [
              "IPY_MODEL_00db2761461a4d8e960aa7835c919358",
              "IPY_MODEL_e81077d0cd7640fbb1ebd9664ad9b36e",
              "IPY_MODEL_2098527e07f747958fe0f64f99ced5a3"
            ],
            "layout": "IPY_MODEL_3f4c1845ab8546b8a21f2811ceb2ef1a"
          }
        },
        "00db2761461a4d8e960aa7835c919358": {
          "model_module": "@jupyter-widgets/controls",
          "model_name": "HTMLModel",
          "model_module_version": "1.5.0",
          "state": {
            "_dom_classes": [],
            "_model_module": "@jupyter-widgets/controls",
            "_model_module_version": "1.5.0",
            "_model_name": "HTMLModel",
            "_view_count": null,
            "_view_module": "@jupyter-widgets/controls",
            "_view_module_version": "1.5.0",
            "_view_name": "HTMLView",
            "description": "",
            "description_tooltip": null,
            "layout": "IPY_MODEL_da7da760ba2043e2b164e71ca96ef3d8",
            "placeholder": "​",
            "style": "IPY_MODEL_384751df39454e07a4ab377f8586d0ea",
            "value": "100%"
          }
        },
        "e81077d0cd7640fbb1ebd9664ad9b36e": {
          "model_module": "@jupyter-widgets/controls",
          "model_name": "FloatProgressModel",
          "model_module_version": "1.5.0",
          "state": {
            "_dom_classes": [],
            "_model_module": "@jupyter-widgets/controls",
            "_model_module_version": "1.5.0",
            "_model_name": "FloatProgressModel",
            "_view_count": null,
            "_view_module": "@jupyter-widgets/controls",
            "_view_module_version": "1.5.0",
            "_view_name": "ProgressView",
            "bar_style": "success",
            "description": "",
            "description_tooltip": null,
            "layout": "IPY_MODEL_9faf53fccf38438a89a8567b491b2070",
            "max": 7413,
            "min": 0,
            "orientation": "horizontal",
            "style": "IPY_MODEL_9821b92502504959ae3e225f6aa4220d",
            "value": 7413
          }
        },
        "2098527e07f747958fe0f64f99ced5a3": {
          "model_module": "@jupyter-widgets/controls",
          "model_name": "HTMLModel",
          "model_module_version": "1.5.0",
          "state": {
            "_dom_classes": [],
            "_model_module": "@jupyter-widgets/controls",
            "_model_module_version": "1.5.0",
            "_model_name": "HTMLModel",
            "_view_count": null,
            "_view_module": "@jupyter-widgets/controls",
            "_view_module_version": "1.5.0",
            "_view_name": "HTMLView",
            "description": "",
            "description_tooltip": null,
            "layout": "IPY_MODEL_cb65bcb7e18a4659aceb7b2b7e3ffddc",
            "placeholder": "​",
            "style": "IPY_MODEL_5e026264ef844a16913d0dd77b7b52d0",
            "value": " 7413/7413 [00:28&lt;00:00, 463.80ex/s]"
          }
        },
        "3f4c1845ab8546b8a21f2811ceb2ef1a": {
          "model_module": "@jupyter-widgets/base",
          "model_name": "LayoutModel",
          "model_module_version": "1.2.0",
          "state": {
            "_model_module": "@jupyter-widgets/base",
            "_model_module_version": "1.2.0",
            "_model_name": "LayoutModel",
            "_view_count": null,
            "_view_module": "@jupyter-widgets/base",
            "_view_module_version": "1.2.0",
            "_view_name": "LayoutView",
            "align_content": null,
            "align_items": null,
            "align_self": null,
            "border": null,
            "bottom": null,
            "display": null,
            "flex": null,
            "flex_flow": null,
            "grid_area": null,
            "grid_auto_columns": null,
            "grid_auto_flow": null,
            "grid_auto_rows": null,
            "grid_column": null,
            "grid_gap": null,
            "grid_row": null,
            "grid_template_areas": null,
            "grid_template_columns": null,
            "grid_template_rows": null,
            "height": null,
            "justify_content": null,
            "justify_items": null,
            "left": null,
            "margin": null,
            "max_height": null,
            "max_width": null,
            "min_height": null,
            "min_width": null,
            "object_fit": null,
            "object_position": null,
            "order": null,
            "overflow": null,
            "overflow_x": null,
            "overflow_y": null,
            "padding": null,
            "right": null,
            "top": null,
            "visibility": null,
            "width": null
          }
        },
        "da7da760ba2043e2b164e71ca96ef3d8": {
          "model_module": "@jupyter-widgets/base",
          "model_name": "LayoutModel",
          "model_module_version": "1.2.0",
          "state": {
            "_model_module": "@jupyter-widgets/base",
            "_model_module_version": "1.2.0",
            "_model_name": "LayoutModel",
            "_view_count": null,
            "_view_module": "@jupyter-widgets/base",
            "_view_module_version": "1.2.0",
            "_view_name": "LayoutView",
            "align_content": null,
            "align_items": null,
            "align_self": null,
            "border": null,
            "bottom": null,
            "display": null,
            "flex": null,
            "flex_flow": null,
            "grid_area": null,
            "grid_auto_columns": null,
            "grid_auto_flow": null,
            "grid_auto_rows": null,
            "grid_column": null,
            "grid_gap": null,
            "grid_row": null,
            "grid_template_areas": null,
            "grid_template_columns": null,
            "grid_template_rows": null,
            "height": null,
            "justify_content": null,
            "justify_items": null,
            "left": null,
            "margin": null,
            "max_height": null,
            "max_width": null,
            "min_height": null,
            "min_width": null,
            "object_fit": null,
            "object_position": null,
            "order": null,
            "overflow": null,
            "overflow_x": null,
            "overflow_y": null,
            "padding": null,
            "right": null,
            "top": null,
            "visibility": null,
            "width": null
          }
        },
        "384751df39454e07a4ab377f8586d0ea": {
          "model_module": "@jupyter-widgets/controls",
          "model_name": "DescriptionStyleModel",
          "model_module_version": "1.5.0",
          "state": {
            "_model_module": "@jupyter-widgets/controls",
            "_model_module_version": "1.5.0",
            "_model_name": "DescriptionStyleModel",
            "_view_count": null,
            "_view_module": "@jupyter-widgets/base",
            "_view_module_version": "1.2.0",
            "_view_name": "StyleView",
            "description_width": ""
          }
        },
        "9faf53fccf38438a89a8567b491b2070": {
          "model_module": "@jupyter-widgets/base",
          "model_name": "LayoutModel",
          "model_module_version": "1.2.0",
          "state": {
            "_model_module": "@jupyter-widgets/base",
            "_model_module_version": "1.2.0",
            "_model_name": "LayoutModel",
            "_view_count": null,
            "_view_module": "@jupyter-widgets/base",
            "_view_module_version": "1.2.0",
            "_view_name": "LayoutView",
            "align_content": null,
            "align_items": null,
            "align_self": null,
            "border": null,
            "bottom": null,
            "display": null,
            "flex": null,
            "flex_flow": null,
            "grid_area": null,
            "grid_auto_columns": null,
            "grid_auto_flow": null,
            "grid_auto_rows": null,
            "grid_column": null,
            "grid_gap": null,
            "grid_row": null,
            "grid_template_areas": null,
            "grid_template_columns": null,
            "grid_template_rows": null,
            "height": null,
            "justify_content": null,
            "justify_items": null,
            "left": null,
            "margin": null,
            "max_height": null,
            "max_width": null,
            "min_height": null,
            "min_width": null,
            "object_fit": null,
            "object_position": null,
            "order": null,
            "overflow": null,
            "overflow_x": null,
            "overflow_y": null,
            "padding": null,
            "right": null,
            "top": null,
            "visibility": null,
            "width": null
          }
        },
        "9821b92502504959ae3e225f6aa4220d": {
          "model_module": "@jupyter-widgets/controls",
          "model_name": "ProgressStyleModel",
          "model_module_version": "1.5.0",
          "state": {
            "_model_module": "@jupyter-widgets/controls",
            "_model_module_version": "1.5.0",
            "_model_name": "ProgressStyleModel",
            "_view_count": null,
            "_view_module": "@jupyter-widgets/base",
            "_view_module_version": "1.2.0",
            "_view_name": "StyleView",
            "bar_color": null,
            "description_width": ""
          }
        },
        "cb65bcb7e18a4659aceb7b2b7e3ffddc": {
          "model_module": "@jupyter-widgets/base",
          "model_name": "LayoutModel",
          "model_module_version": "1.2.0",
          "state": {
            "_model_module": "@jupyter-widgets/base",
            "_model_module_version": "1.2.0",
            "_model_name": "LayoutModel",
            "_view_count": null,
            "_view_module": "@jupyter-widgets/base",
            "_view_module_version": "1.2.0",
            "_view_name": "LayoutView",
            "align_content": null,
            "align_items": null,
            "align_self": null,
            "border": null,
            "bottom": null,
            "display": null,
            "flex": null,
            "flex_flow": null,
            "grid_area": null,
            "grid_auto_columns": null,
            "grid_auto_flow": null,
            "grid_auto_rows": null,
            "grid_column": null,
            "grid_gap": null,
            "grid_row": null,
            "grid_template_areas": null,
            "grid_template_columns": null,
            "grid_template_rows": null,
            "height": null,
            "justify_content": null,
            "justify_items": null,
            "left": null,
            "margin": null,
            "max_height": null,
            "max_width": null,
            "min_height": null,
            "min_width": null,
            "object_fit": null,
            "object_position": null,
            "order": null,
            "overflow": null,
            "overflow_x": null,
            "overflow_y": null,
            "padding": null,
            "right": null,
            "top": null,
            "visibility": null,
            "width": null
          }
        },
        "5e026264ef844a16913d0dd77b7b52d0": {
          "model_module": "@jupyter-widgets/controls",
          "model_name": "DescriptionStyleModel",
          "model_module_version": "1.5.0",
          "state": {
            "_model_module": "@jupyter-widgets/controls",
            "_model_module_version": "1.5.0",
            "_model_name": "DescriptionStyleModel",
            "_view_count": null,
            "_view_module": "@jupyter-widgets/base",
            "_view_module_version": "1.2.0",
            "_view_name": "StyleView",
            "description_width": ""
          }
        },
        "b70fdefd250d4741b2f5f80ab18974b9": {
          "model_module": "@jupyter-widgets/controls",
          "model_name": "HBoxModel",
          "model_module_version": "1.5.0",
          "state": {
            "_dom_classes": [],
            "_model_module": "@jupyter-widgets/controls",
            "_model_module_version": "1.5.0",
            "_model_name": "HBoxModel",
            "_view_count": null,
            "_view_module": "@jupyter-widgets/controls",
            "_view_module_version": "1.5.0",
            "_view_name": "HBoxView",
            "box_style": "",
            "children": [
              "IPY_MODEL_97c7da41430544d9bbbd7145cf9c0881",
              "IPY_MODEL_3a34392ad219436b8e833d1d52cdead9",
              "IPY_MODEL_0a33d23aec5d41b8851e901cd83f785c"
            ],
            "layout": "IPY_MODEL_dc49c3e50d4046158077abb9aa8a6f03"
          }
        },
        "97c7da41430544d9bbbd7145cf9c0881": {
          "model_module": "@jupyter-widgets/controls",
          "model_name": "HTMLModel",
          "model_module_version": "1.5.0",
          "state": {
            "_dom_classes": [],
            "_model_module": "@jupyter-widgets/controls",
            "_model_module_version": "1.5.0",
            "_model_name": "HTMLModel",
            "_view_count": null,
            "_view_module": "@jupyter-widgets/controls",
            "_view_module_version": "1.5.0",
            "_view_name": "HTMLView",
            "description": "",
            "description_tooltip": null,
            "layout": "IPY_MODEL_94e9efa3e77b455ea258f95431884d6d",
            "placeholder": "​",
            "style": "IPY_MODEL_db0a816c68e540f990272b0ea30e216e",
            "value": "100%"
          }
        },
        "3a34392ad219436b8e833d1d52cdead9": {
          "model_module": "@jupyter-widgets/controls",
          "model_name": "FloatProgressModel",
          "model_module_version": "1.5.0",
          "state": {
            "_dom_classes": [],
            "_model_module": "@jupyter-widgets/controls",
            "_model_module_version": "1.5.0",
            "_model_name": "FloatProgressModel",
            "_view_count": null,
            "_view_module": "@jupyter-widgets/controls",
            "_view_module_version": "1.5.0",
            "_view_name": "ProgressView",
            "bar_style": "success",
            "description": "",
            "description_tooltip": null,
            "layout": "IPY_MODEL_992cb40891b348669e05720c931a3063",
            "max": 1854,
            "min": 0,
            "orientation": "horizontal",
            "style": "IPY_MODEL_fb2fd96a208c4da8af2bc5981445bfc4",
            "value": 1854
          }
        },
        "0a33d23aec5d41b8851e901cd83f785c": {
          "model_module": "@jupyter-widgets/controls",
          "model_name": "HTMLModel",
          "model_module_version": "1.5.0",
          "state": {
            "_dom_classes": [],
            "_model_module": "@jupyter-widgets/controls",
            "_model_module_version": "1.5.0",
            "_model_name": "HTMLModel",
            "_view_count": null,
            "_view_module": "@jupyter-widgets/controls",
            "_view_module_version": "1.5.0",
            "_view_name": "HTMLView",
            "description": "",
            "description_tooltip": null,
            "layout": "IPY_MODEL_69a653993caf49c3909948ab32567996",
            "placeholder": "​",
            "style": "IPY_MODEL_93fbe9adc87e496b8661f8494d1ba6d0",
            "value": " 1854/1854 [00:04&lt;00:00, 461.08ex/s]"
          }
        },
        "dc49c3e50d4046158077abb9aa8a6f03": {
          "model_module": "@jupyter-widgets/base",
          "model_name": "LayoutModel",
          "model_module_version": "1.2.0",
          "state": {
            "_model_module": "@jupyter-widgets/base",
            "_model_module_version": "1.2.0",
            "_model_name": "LayoutModel",
            "_view_count": null,
            "_view_module": "@jupyter-widgets/base",
            "_view_module_version": "1.2.0",
            "_view_name": "LayoutView",
            "align_content": null,
            "align_items": null,
            "align_self": null,
            "border": null,
            "bottom": null,
            "display": null,
            "flex": null,
            "flex_flow": null,
            "grid_area": null,
            "grid_auto_columns": null,
            "grid_auto_flow": null,
            "grid_auto_rows": null,
            "grid_column": null,
            "grid_gap": null,
            "grid_row": null,
            "grid_template_areas": null,
            "grid_template_columns": null,
            "grid_template_rows": null,
            "height": null,
            "justify_content": null,
            "justify_items": null,
            "left": null,
            "margin": null,
            "max_height": null,
            "max_width": null,
            "min_height": null,
            "min_width": null,
            "object_fit": null,
            "object_position": null,
            "order": null,
            "overflow": null,
            "overflow_x": null,
            "overflow_y": null,
            "padding": null,
            "right": null,
            "top": null,
            "visibility": null,
            "width": null
          }
        },
        "94e9efa3e77b455ea258f95431884d6d": {
          "model_module": "@jupyter-widgets/base",
          "model_name": "LayoutModel",
          "model_module_version": "1.2.0",
          "state": {
            "_model_module": "@jupyter-widgets/base",
            "_model_module_version": "1.2.0",
            "_model_name": "LayoutModel",
            "_view_count": null,
            "_view_module": "@jupyter-widgets/base",
            "_view_module_version": "1.2.0",
            "_view_name": "LayoutView",
            "align_content": null,
            "align_items": null,
            "align_self": null,
            "border": null,
            "bottom": null,
            "display": null,
            "flex": null,
            "flex_flow": null,
            "grid_area": null,
            "grid_auto_columns": null,
            "grid_auto_flow": null,
            "grid_auto_rows": null,
            "grid_column": null,
            "grid_gap": null,
            "grid_row": null,
            "grid_template_areas": null,
            "grid_template_columns": null,
            "grid_template_rows": null,
            "height": null,
            "justify_content": null,
            "justify_items": null,
            "left": null,
            "margin": null,
            "max_height": null,
            "max_width": null,
            "min_height": null,
            "min_width": null,
            "object_fit": null,
            "object_position": null,
            "order": null,
            "overflow": null,
            "overflow_x": null,
            "overflow_y": null,
            "padding": null,
            "right": null,
            "top": null,
            "visibility": null,
            "width": null
          }
        },
        "db0a816c68e540f990272b0ea30e216e": {
          "model_module": "@jupyter-widgets/controls",
          "model_name": "DescriptionStyleModel",
          "model_module_version": "1.5.0",
          "state": {
            "_model_module": "@jupyter-widgets/controls",
            "_model_module_version": "1.5.0",
            "_model_name": "DescriptionStyleModel",
            "_view_count": null,
            "_view_module": "@jupyter-widgets/base",
            "_view_module_version": "1.2.0",
            "_view_name": "StyleView",
            "description_width": ""
          }
        },
        "992cb40891b348669e05720c931a3063": {
          "model_module": "@jupyter-widgets/base",
          "model_name": "LayoutModel",
          "model_module_version": "1.2.0",
          "state": {
            "_model_module": "@jupyter-widgets/base",
            "_model_module_version": "1.2.0",
            "_model_name": "LayoutModel",
            "_view_count": null,
            "_view_module": "@jupyter-widgets/base",
            "_view_module_version": "1.2.0",
            "_view_name": "LayoutView",
            "align_content": null,
            "align_items": null,
            "align_self": null,
            "border": null,
            "bottom": null,
            "display": null,
            "flex": null,
            "flex_flow": null,
            "grid_area": null,
            "grid_auto_columns": null,
            "grid_auto_flow": null,
            "grid_auto_rows": null,
            "grid_column": null,
            "grid_gap": null,
            "grid_row": null,
            "grid_template_areas": null,
            "grid_template_columns": null,
            "grid_template_rows": null,
            "height": null,
            "justify_content": null,
            "justify_items": null,
            "left": null,
            "margin": null,
            "max_height": null,
            "max_width": null,
            "min_height": null,
            "min_width": null,
            "object_fit": null,
            "object_position": null,
            "order": null,
            "overflow": null,
            "overflow_x": null,
            "overflow_y": null,
            "padding": null,
            "right": null,
            "top": null,
            "visibility": null,
            "width": null
          }
        },
        "fb2fd96a208c4da8af2bc5981445bfc4": {
          "model_module": "@jupyter-widgets/controls",
          "model_name": "ProgressStyleModel",
          "model_module_version": "1.5.0",
          "state": {
            "_model_module": "@jupyter-widgets/controls",
            "_model_module_version": "1.5.0",
            "_model_name": "ProgressStyleModel",
            "_view_count": null,
            "_view_module": "@jupyter-widgets/base",
            "_view_module_version": "1.2.0",
            "_view_name": "StyleView",
            "bar_color": null,
            "description_width": ""
          }
        },
        "69a653993caf49c3909948ab32567996": {
          "model_module": "@jupyter-widgets/base",
          "model_name": "LayoutModel",
          "model_module_version": "1.2.0",
          "state": {
            "_model_module": "@jupyter-widgets/base",
            "_model_module_version": "1.2.0",
            "_model_name": "LayoutModel",
            "_view_count": null,
            "_view_module": "@jupyter-widgets/base",
            "_view_module_version": "1.2.0",
            "_view_name": "LayoutView",
            "align_content": null,
            "align_items": null,
            "align_self": null,
            "border": null,
            "bottom": null,
            "display": null,
            "flex": null,
            "flex_flow": null,
            "grid_area": null,
            "grid_auto_columns": null,
            "grid_auto_flow": null,
            "grid_auto_rows": null,
            "grid_column": null,
            "grid_gap": null,
            "grid_row": null,
            "grid_template_areas": null,
            "grid_template_columns": null,
            "grid_template_rows": null,
            "height": null,
            "justify_content": null,
            "justify_items": null,
            "left": null,
            "margin": null,
            "max_height": null,
            "max_width": null,
            "min_height": null,
            "min_width": null,
            "object_fit": null,
            "object_position": null,
            "order": null,
            "overflow": null,
            "overflow_x": null,
            "overflow_y": null,
            "padding": null,
            "right": null,
            "top": null,
            "visibility": null,
            "width": null
          }
        },
        "93fbe9adc87e496b8661f8494d1ba6d0": {
          "model_module": "@jupyter-widgets/controls",
          "model_name": "DescriptionStyleModel",
          "model_module_version": "1.5.0",
          "state": {
            "_model_module": "@jupyter-widgets/controls",
            "_model_module_version": "1.5.0",
            "_model_name": "DescriptionStyleModel",
            "_view_count": null,
            "_view_module": "@jupyter-widgets/base",
            "_view_module_version": "1.2.0",
            "_view_name": "StyleView",
            "description_width": ""
          }
        },
        "3a51b1c061f842e3b3d4ad09e95ab7cc": {
          "model_module": "@jupyter-widgets/controls",
          "model_name": "HBoxModel",
          "model_module_version": "1.5.0",
          "state": {
            "_dom_classes": [],
            "_model_module": "@jupyter-widgets/controls",
            "_model_module_version": "1.5.0",
            "_model_name": "HBoxModel",
            "_view_count": null,
            "_view_module": "@jupyter-widgets/controls",
            "_view_module_version": "1.5.0",
            "_view_name": "HBoxView",
            "box_style": "",
            "children": [
              "IPY_MODEL_453c3b42102d4eb49f6c19b7ca550c67",
              "IPY_MODEL_660dbb7f9b0e450a9fbd8bb805c7b143",
              "IPY_MODEL_1065d62b1b834700b35608d3e4b22ce2"
            ],
            "layout": "IPY_MODEL_512889e651694a1aaded8fe197f9cbc6"
          }
        },
        "453c3b42102d4eb49f6c19b7ca550c67": {
          "model_module": "@jupyter-widgets/controls",
          "model_name": "HTMLModel",
          "model_module_version": "1.5.0",
          "state": {
            "_dom_classes": [],
            "_model_module": "@jupyter-widgets/controls",
            "_model_module_version": "1.5.0",
            "_model_name": "HTMLModel",
            "_view_count": null,
            "_view_module": "@jupyter-widgets/controls",
            "_view_module_version": "1.5.0",
            "_view_name": "HTMLView",
            "description": "",
            "description_tooltip": null,
            "layout": "IPY_MODEL_fc90a1b35e0943f2968628b882feaf4a",
            "placeholder": "​",
            "style": "IPY_MODEL_3378ee7e79d74152b39b8d3ee508f47e",
            "value": "100%"
          }
        },
        "660dbb7f9b0e450a9fbd8bb805c7b143": {
          "model_module": "@jupyter-widgets/controls",
          "model_name": "FloatProgressModel",
          "model_module_version": "1.5.0",
          "state": {
            "_dom_classes": [],
            "_model_module": "@jupyter-widgets/controls",
            "_model_module_version": "1.5.0",
            "_model_name": "FloatProgressModel",
            "_view_count": null,
            "_view_module": "@jupyter-widgets/controls",
            "_view_module_version": "1.5.0",
            "_view_name": "ProgressView",
            "bar_style": "success",
            "description": "",
            "description_tooltip": null,
            "layout": "IPY_MODEL_0f902fe0f8a740cd802048c284c769be",
            "max": 7413,
            "min": 0,
            "orientation": "horizontal",
            "style": "IPY_MODEL_819df2a48ebd4a3e9c15e89d83f9b3b2",
            "value": 7413
          }
        },
        "1065d62b1b834700b35608d3e4b22ce2": {
          "model_module": "@jupyter-widgets/controls",
          "model_name": "HTMLModel",
          "model_module_version": "1.5.0",
          "state": {
            "_dom_classes": [],
            "_model_module": "@jupyter-widgets/controls",
            "_model_module_version": "1.5.0",
            "_model_name": "HTMLModel",
            "_view_count": null,
            "_view_module": "@jupyter-widgets/controls",
            "_view_module_version": "1.5.0",
            "_view_name": "HTMLView",
            "description": "",
            "description_tooltip": null,
            "layout": "IPY_MODEL_c6048cf067354c65a953413c297e9e50",
            "placeholder": "​",
            "style": "IPY_MODEL_103bec9aa09d43d69d9f3ecfb2daefd5",
            "value": " 7413/7413 [00:06&lt;00:00, 1098.31ex/s]"
          }
        },
        "512889e651694a1aaded8fe197f9cbc6": {
          "model_module": "@jupyter-widgets/base",
          "model_name": "LayoutModel",
          "model_module_version": "1.2.0",
          "state": {
            "_model_module": "@jupyter-widgets/base",
            "_model_module_version": "1.2.0",
            "_model_name": "LayoutModel",
            "_view_count": null,
            "_view_module": "@jupyter-widgets/base",
            "_view_module_version": "1.2.0",
            "_view_name": "LayoutView",
            "align_content": null,
            "align_items": null,
            "align_self": null,
            "border": null,
            "bottom": null,
            "display": null,
            "flex": null,
            "flex_flow": null,
            "grid_area": null,
            "grid_auto_columns": null,
            "grid_auto_flow": null,
            "grid_auto_rows": null,
            "grid_column": null,
            "grid_gap": null,
            "grid_row": null,
            "grid_template_areas": null,
            "grid_template_columns": null,
            "grid_template_rows": null,
            "height": null,
            "justify_content": null,
            "justify_items": null,
            "left": null,
            "margin": null,
            "max_height": null,
            "max_width": null,
            "min_height": null,
            "min_width": null,
            "object_fit": null,
            "object_position": null,
            "order": null,
            "overflow": null,
            "overflow_x": null,
            "overflow_y": null,
            "padding": null,
            "right": null,
            "top": null,
            "visibility": null,
            "width": null
          }
        },
        "fc90a1b35e0943f2968628b882feaf4a": {
          "model_module": "@jupyter-widgets/base",
          "model_name": "LayoutModel",
          "model_module_version": "1.2.0",
          "state": {
            "_model_module": "@jupyter-widgets/base",
            "_model_module_version": "1.2.0",
            "_model_name": "LayoutModel",
            "_view_count": null,
            "_view_module": "@jupyter-widgets/base",
            "_view_module_version": "1.2.0",
            "_view_name": "LayoutView",
            "align_content": null,
            "align_items": null,
            "align_self": null,
            "border": null,
            "bottom": null,
            "display": null,
            "flex": null,
            "flex_flow": null,
            "grid_area": null,
            "grid_auto_columns": null,
            "grid_auto_flow": null,
            "grid_auto_rows": null,
            "grid_column": null,
            "grid_gap": null,
            "grid_row": null,
            "grid_template_areas": null,
            "grid_template_columns": null,
            "grid_template_rows": null,
            "height": null,
            "justify_content": null,
            "justify_items": null,
            "left": null,
            "margin": null,
            "max_height": null,
            "max_width": null,
            "min_height": null,
            "min_width": null,
            "object_fit": null,
            "object_position": null,
            "order": null,
            "overflow": null,
            "overflow_x": null,
            "overflow_y": null,
            "padding": null,
            "right": null,
            "top": null,
            "visibility": null,
            "width": null
          }
        },
        "3378ee7e79d74152b39b8d3ee508f47e": {
          "model_module": "@jupyter-widgets/controls",
          "model_name": "DescriptionStyleModel",
          "model_module_version": "1.5.0",
          "state": {
            "_model_module": "@jupyter-widgets/controls",
            "_model_module_version": "1.5.0",
            "_model_name": "DescriptionStyleModel",
            "_view_count": null,
            "_view_module": "@jupyter-widgets/base",
            "_view_module_version": "1.2.0",
            "_view_name": "StyleView",
            "description_width": ""
          }
        },
        "0f902fe0f8a740cd802048c284c769be": {
          "model_module": "@jupyter-widgets/base",
          "model_name": "LayoutModel",
          "model_module_version": "1.2.0",
          "state": {
            "_model_module": "@jupyter-widgets/base",
            "_model_module_version": "1.2.0",
            "_model_name": "LayoutModel",
            "_view_count": null,
            "_view_module": "@jupyter-widgets/base",
            "_view_module_version": "1.2.0",
            "_view_name": "LayoutView",
            "align_content": null,
            "align_items": null,
            "align_self": null,
            "border": null,
            "bottom": null,
            "display": null,
            "flex": null,
            "flex_flow": null,
            "grid_area": null,
            "grid_auto_columns": null,
            "grid_auto_flow": null,
            "grid_auto_rows": null,
            "grid_column": null,
            "grid_gap": null,
            "grid_row": null,
            "grid_template_areas": null,
            "grid_template_columns": null,
            "grid_template_rows": null,
            "height": null,
            "justify_content": null,
            "justify_items": null,
            "left": null,
            "margin": null,
            "max_height": null,
            "max_width": null,
            "min_height": null,
            "min_width": null,
            "object_fit": null,
            "object_position": null,
            "order": null,
            "overflow": null,
            "overflow_x": null,
            "overflow_y": null,
            "padding": null,
            "right": null,
            "top": null,
            "visibility": null,
            "width": null
          }
        },
        "819df2a48ebd4a3e9c15e89d83f9b3b2": {
          "model_module": "@jupyter-widgets/controls",
          "model_name": "ProgressStyleModel",
          "model_module_version": "1.5.0",
          "state": {
            "_model_module": "@jupyter-widgets/controls",
            "_model_module_version": "1.5.0",
            "_model_name": "ProgressStyleModel",
            "_view_count": null,
            "_view_module": "@jupyter-widgets/base",
            "_view_module_version": "1.2.0",
            "_view_name": "StyleView",
            "bar_color": null,
            "description_width": ""
          }
        },
        "c6048cf067354c65a953413c297e9e50": {
          "model_module": "@jupyter-widgets/base",
          "model_name": "LayoutModel",
          "model_module_version": "1.2.0",
          "state": {
            "_model_module": "@jupyter-widgets/base",
            "_model_module_version": "1.2.0",
            "_model_name": "LayoutModel",
            "_view_count": null,
            "_view_module": "@jupyter-widgets/base",
            "_view_module_version": "1.2.0",
            "_view_name": "LayoutView",
            "align_content": null,
            "align_items": null,
            "align_self": null,
            "border": null,
            "bottom": null,
            "display": null,
            "flex": null,
            "flex_flow": null,
            "grid_area": null,
            "grid_auto_columns": null,
            "grid_auto_flow": null,
            "grid_auto_rows": null,
            "grid_column": null,
            "grid_gap": null,
            "grid_row": null,
            "grid_template_areas": null,
            "grid_template_columns": null,
            "grid_template_rows": null,
            "height": null,
            "justify_content": null,
            "justify_items": null,
            "left": null,
            "margin": null,
            "max_height": null,
            "max_width": null,
            "min_height": null,
            "min_width": null,
            "object_fit": null,
            "object_position": null,
            "order": null,
            "overflow": null,
            "overflow_x": null,
            "overflow_y": null,
            "padding": null,
            "right": null,
            "top": null,
            "visibility": null,
            "width": null
          }
        },
        "103bec9aa09d43d69d9f3ecfb2daefd5": {
          "model_module": "@jupyter-widgets/controls",
          "model_name": "DescriptionStyleModel",
          "model_module_version": "1.5.0",
          "state": {
            "_model_module": "@jupyter-widgets/controls",
            "_model_module_version": "1.5.0",
            "_model_name": "DescriptionStyleModel",
            "_view_count": null,
            "_view_module": "@jupyter-widgets/base",
            "_view_module_version": "1.2.0",
            "_view_name": "StyleView",
            "description_width": ""
          }
        },
        "786e182637f24e4b8e260ce63dace2b4": {
          "model_module": "@jupyter-widgets/controls",
          "model_name": "HBoxModel",
          "model_module_version": "1.5.0",
          "state": {
            "_dom_classes": [],
            "_model_module": "@jupyter-widgets/controls",
            "_model_module_version": "1.5.0",
            "_model_name": "HBoxModel",
            "_view_count": null,
            "_view_module": "@jupyter-widgets/controls",
            "_view_module_version": "1.5.0",
            "_view_name": "HBoxView",
            "box_style": "",
            "children": [
              "IPY_MODEL_7c71b3e508b04c54bfb42f2320fba3d8",
              "IPY_MODEL_10d6294d7b074dc2898fca81113a51a8",
              "IPY_MODEL_37c4d1ec3b5f4b109d5107154f8d6f54"
            ],
            "layout": "IPY_MODEL_1dcc9ca4ef0d448681b2cf19be865fa4"
          }
        },
        "7c71b3e508b04c54bfb42f2320fba3d8": {
          "model_module": "@jupyter-widgets/controls",
          "model_name": "HTMLModel",
          "model_module_version": "1.5.0",
          "state": {
            "_dom_classes": [],
            "_model_module": "@jupyter-widgets/controls",
            "_model_module_version": "1.5.0",
            "_model_name": "HTMLModel",
            "_view_count": null,
            "_view_module": "@jupyter-widgets/controls",
            "_view_module_version": "1.5.0",
            "_view_name": "HTMLView",
            "description": "",
            "description_tooltip": null,
            "layout": "IPY_MODEL_e0432a75536c474e95e527bf7d015f85",
            "placeholder": "​",
            "style": "IPY_MODEL_d65c80a67bdd4c7cbe2fcae5399d9257",
            "value": "100%"
          }
        },
        "10d6294d7b074dc2898fca81113a51a8": {
          "model_module": "@jupyter-widgets/controls",
          "model_name": "FloatProgressModel",
          "model_module_version": "1.5.0",
          "state": {
            "_dom_classes": [],
            "_model_module": "@jupyter-widgets/controls",
            "_model_module_version": "1.5.0",
            "_model_name": "FloatProgressModel",
            "_view_count": null,
            "_view_module": "@jupyter-widgets/controls",
            "_view_module_version": "1.5.0",
            "_view_name": "ProgressView",
            "bar_style": "success",
            "description": "",
            "description_tooltip": null,
            "layout": "IPY_MODEL_6df42b5b4952466486783735b445dc27",
            "max": 1854,
            "min": 0,
            "orientation": "horizontal",
            "style": "IPY_MODEL_1c5c8370aa144c46888b2243c9608646",
            "value": 1854
          }
        },
        "37c4d1ec3b5f4b109d5107154f8d6f54": {
          "model_module": "@jupyter-widgets/controls",
          "model_name": "HTMLModel",
          "model_module_version": "1.5.0",
          "state": {
            "_dom_classes": [],
            "_model_module": "@jupyter-widgets/controls",
            "_model_module_version": "1.5.0",
            "_model_name": "HTMLModel",
            "_view_count": null,
            "_view_module": "@jupyter-widgets/controls",
            "_view_module_version": "1.5.0",
            "_view_name": "HTMLView",
            "description": "",
            "description_tooltip": null,
            "layout": "IPY_MODEL_90c54469ac2f41aa8bcdc9e0ea03092d",
            "placeholder": "​",
            "style": "IPY_MODEL_e4af3b059c1841aa9d1dbaedb8ace969",
            "value": " 1854/1854 [00:01&lt;00:00, 1194.54ex/s]"
          }
        },
        "1dcc9ca4ef0d448681b2cf19be865fa4": {
          "model_module": "@jupyter-widgets/base",
          "model_name": "LayoutModel",
          "model_module_version": "1.2.0",
          "state": {
            "_model_module": "@jupyter-widgets/base",
            "_model_module_version": "1.2.0",
            "_model_name": "LayoutModel",
            "_view_count": null,
            "_view_module": "@jupyter-widgets/base",
            "_view_module_version": "1.2.0",
            "_view_name": "LayoutView",
            "align_content": null,
            "align_items": null,
            "align_self": null,
            "border": null,
            "bottom": null,
            "display": null,
            "flex": null,
            "flex_flow": null,
            "grid_area": null,
            "grid_auto_columns": null,
            "grid_auto_flow": null,
            "grid_auto_rows": null,
            "grid_column": null,
            "grid_gap": null,
            "grid_row": null,
            "grid_template_areas": null,
            "grid_template_columns": null,
            "grid_template_rows": null,
            "height": null,
            "justify_content": null,
            "justify_items": null,
            "left": null,
            "margin": null,
            "max_height": null,
            "max_width": null,
            "min_height": null,
            "min_width": null,
            "object_fit": null,
            "object_position": null,
            "order": null,
            "overflow": null,
            "overflow_x": null,
            "overflow_y": null,
            "padding": null,
            "right": null,
            "top": null,
            "visibility": null,
            "width": null
          }
        },
        "e0432a75536c474e95e527bf7d015f85": {
          "model_module": "@jupyter-widgets/base",
          "model_name": "LayoutModel",
          "model_module_version": "1.2.0",
          "state": {
            "_model_module": "@jupyter-widgets/base",
            "_model_module_version": "1.2.0",
            "_model_name": "LayoutModel",
            "_view_count": null,
            "_view_module": "@jupyter-widgets/base",
            "_view_module_version": "1.2.0",
            "_view_name": "LayoutView",
            "align_content": null,
            "align_items": null,
            "align_self": null,
            "border": null,
            "bottom": null,
            "display": null,
            "flex": null,
            "flex_flow": null,
            "grid_area": null,
            "grid_auto_columns": null,
            "grid_auto_flow": null,
            "grid_auto_rows": null,
            "grid_column": null,
            "grid_gap": null,
            "grid_row": null,
            "grid_template_areas": null,
            "grid_template_columns": null,
            "grid_template_rows": null,
            "height": null,
            "justify_content": null,
            "justify_items": null,
            "left": null,
            "margin": null,
            "max_height": null,
            "max_width": null,
            "min_height": null,
            "min_width": null,
            "object_fit": null,
            "object_position": null,
            "order": null,
            "overflow": null,
            "overflow_x": null,
            "overflow_y": null,
            "padding": null,
            "right": null,
            "top": null,
            "visibility": null,
            "width": null
          }
        },
        "d65c80a67bdd4c7cbe2fcae5399d9257": {
          "model_module": "@jupyter-widgets/controls",
          "model_name": "DescriptionStyleModel",
          "model_module_version": "1.5.0",
          "state": {
            "_model_module": "@jupyter-widgets/controls",
            "_model_module_version": "1.5.0",
            "_model_name": "DescriptionStyleModel",
            "_view_count": null,
            "_view_module": "@jupyter-widgets/base",
            "_view_module_version": "1.2.0",
            "_view_name": "StyleView",
            "description_width": ""
          }
        },
        "6df42b5b4952466486783735b445dc27": {
          "model_module": "@jupyter-widgets/base",
          "model_name": "LayoutModel",
          "model_module_version": "1.2.0",
          "state": {
            "_model_module": "@jupyter-widgets/base",
            "_model_module_version": "1.2.0",
            "_model_name": "LayoutModel",
            "_view_count": null,
            "_view_module": "@jupyter-widgets/base",
            "_view_module_version": "1.2.0",
            "_view_name": "LayoutView",
            "align_content": null,
            "align_items": null,
            "align_self": null,
            "border": null,
            "bottom": null,
            "display": null,
            "flex": null,
            "flex_flow": null,
            "grid_area": null,
            "grid_auto_columns": null,
            "grid_auto_flow": null,
            "grid_auto_rows": null,
            "grid_column": null,
            "grid_gap": null,
            "grid_row": null,
            "grid_template_areas": null,
            "grid_template_columns": null,
            "grid_template_rows": null,
            "height": null,
            "justify_content": null,
            "justify_items": null,
            "left": null,
            "margin": null,
            "max_height": null,
            "max_width": null,
            "min_height": null,
            "min_width": null,
            "object_fit": null,
            "object_position": null,
            "order": null,
            "overflow": null,
            "overflow_x": null,
            "overflow_y": null,
            "padding": null,
            "right": null,
            "top": null,
            "visibility": null,
            "width": null
          }
        },
        "1c5c8370aa144c46888b2243c9608646": {
          "model_module": "@jupyter-widgets/controls",
          "model_name": "ProgressStyleModel",
          "model_module_version": "1.5.0",
          "state": {
            "_model_module": "@jupyter-widgets/controls",
            "_model_module_version": "1.5.0",
            "_model_name": "ProgressStyleModel",
            "_view_count": null,
            "_view_module": "@jupyter-widgets/base",
            "_view_module_version": "1.2.0",
            "_view_name": "StyleView",
            "bar_color": null,
            "description_width": ""
          }
        },
        "90c54469ac2f41aa8bcdc9e0ea03092d": {
          "model_module": "@jupyter-widgets/base",
          "model_name": "LayoutModel",
          "model_module_version": "1.2.0",
          "state": {
            "_model_module": "@jupyter-widgets/base",
            "_model_module_version": "1.2.0",
            "_model_name": "LayoutModel",
            "_view_count": null,
            "_view_module": "@jupyter-widgets/base",
            "_view_module_version": "1.2.0",
            "_view_name": "LayoutView",
            "align_content": null,
            "align_items": null,
            "align_self": null,
            "border": null,
            "bottom": null,
            "display": null,
            "flex": null,
            "flex_flow": null,
            "grid_area": null,
            "grid_auto_columns": null,
            "grid_auto_flow": null,
            "grid_auto_rows": null,
            "grid_column": null,
            "grid_gap": null,
            "grid_row": null,
            "grid_template_areas": null,
            "grid_template_columns": null,
            "grid_template_rows": null,
            "height": null,
            "justify_content": null,
            "justify_items": null,
            "left": null,
            "margin": null,
            "max_height": null,
            "max_width": null,
            "min_height": null,
            "min_width": null,
            "object_fit": null,
            "object_position": null,
            "order": null,
            "overflow": null,
            "overflow_x": null,
            "overflow_y": null,
            "padding": null,
            "right": null,
            "top": null,
            "visibility": null,
            "width": null
          }
        },
        "e4af3b059c1841aa9d1dbaedb8ace969": {
          "model_module": "@jupyter-widgets/controls",
          "model_name": "DescriptionStyleModel",
          "model_module_version": "1.5.0",
          "state": {
            "_model_module": "@jupyter-widgets/controls",
            "_model_module_version": "1.5.0",
            "_model_name": "DescriptionStyleModel",
            "_view_count": null,
            "_view_module": "@jupyter-widgets/base",
            "_view_module_version": "1.2.0",
            "_view_name": "StyleView",
            "description_width": ""
          }
        }
      }
    }
  },
  "cells": [
    {
      "cell_type": "markdown",
      "metadata": {
        "id": "view-in-github",
        "colab_type": "text"
      },
      "source": [
        "<a href=\"https://colab.research.google.com/github/TurkuNLP/register-DeepL/blob/main/register_multilabel.ipynb\" target=\"_parent\"><img src=\"https://colab.research.google.com/assets/colab-badge.svg\" alt=\"Open In Colab\"/></a>"
      ]
    },
    {
      "cell_type": "markdown",
      "source": [
        "Before running this notebook put the file in the directory."
      ],
      "metadata": {
        "id": "1LhWBKyS9WI0"
      }
    },
    {
      "cell_type": "code",
      "source": [
        "!wget -nc https://github.com/TurkuNLP/register-DeepL/blob/main/AfterDeepL/es_FINAL.tsv.gz # the repo is private so this does not work lol"
      ],
      "metadata": {
        "colab": {
          "base_uri": "https://localhost:8080/"
        },
        "id": "xBO2gmCI5tr_",
        "outputId": "78402628-8cdf-4938-ba23-f9822f643517"
      },
      "execution_count": 1,
      "outputs": [
        {
          "output_type": "stream",
          "name": "stdout",
          "text": [
            "File ‘es_FINAL.tsv.gz’ already there; not retrieving.\n",
            "\n"
          ]
        }
      ]
    },
    {
      "cell_type": "code",
      "source": [
        "!pip3 install -q transformers datasets"
      ],
      "metadata": {
        "id": "La1ni9EJt1r5"
      },
      "execution_count": 2,
      "outputs": []
    },
    {
      "cell_type": "code",
      "execution_count": 3,
      "metadata": {
        "id": "W97WvJelte9M"
      },
      "outputs": [],
      "source": [
        "import transformers\n",
        "import datasets\n",
        "import gzip \n",
        "import random\n",
        "import re\n",
        "import json\n",
        "import torch\n",
        "\n",
        "from pprint import PrettyPrinter\n",
        "import logging\n",
        "pprint = PrettyPrinter(compact=True).pprint\n",
        "logging.disable(logging.INFO)"
      ]
    },
    {
      "cell_type": "code",
      "source": [
        "file_name = \"es_FINAL.tsv.gz\"\n",
        "data=[]\n",
        "with gzip.open(file_name, 'rb') as f:\n",
        "    for line in f:\n",
        "        line = line.decode()\n",
        "        line=line.rstrip(\"\\n\")\n",
        "        if not line or line.startswith(\"#\"): #skip empty and comments (incl. header)\n",
        "            continue\n",
        "        cols=line.split(\"\\t\")\n",
        "        if len(cols)!=2: #skip weird lines that don't have the right number of columns\n",
        "            continue\n",
        "        data.append(cols)\n",
        "\n",
        "pprint(data[0])"
      ],
      "metadata": {
        "colab": {
          "base_uri": "https://localhost:8080/"
        },
        "id": "iBhPuid40fRJ",
        "outputId": "f969c78b-2ee5-41ea-95d0-930c67a31d07"
      },
      "execution_count": 4,
      "outputs": [
        {
          "output_type": "stream",
          "name": "stdout",
          "text": [
            "['NA OP',\n",
            " \"El martes por la noche, Sarah Palin se pasó por el programa de Bill O'Reilly \"\n",
            " 'para hablar de algunos comentarios recientes de Laura Ingraham, así como del '\n",
            " 'enfoque que debería adoptar la candidatura de Romney/Ryan en la recta final '\n",
            " 'de la campaña. Insistiendo en el argumento de que Mitt Romney debe ser más '\n",
            " 'agresivo, Palin definió las elecciones como una elección entre \"cosas gratis '\n",
            " 'o libertad\". Preguntada por el comentario de Ingraham de que si los '\n",
            " 'republicanos no pueden ganar estas elecciones, deberían cerrar el partido, '\n",
            " 'Palin también estuvo de acuerdo en que estas elecciones deberían favorecer a '\n",
            " 'Romney. Rush Limbaugh dijo igualmente que la reelección del presidente '\n",
            " 'señalaría el fin del GOP. La cuestión, dijo, es que el mensaje llegue a los '\n",
            " 'votantes. \"Si no puedes hacer llegar tu mensaje a través de ese filtro de '\n",
            " 'los medios de comunicación, entonces estamos en un mundo de dolor\", dijo. Lo '\n",
            " 'que los republicanos no están haciendo, añadió, es explicar que los votantes '\n",
            " 'tienen que elegir: \"Cosas gratis o libertad. No se pueden tener las dos '\n",
            " 'cosas\". A este respecto, O\\'Reilly reflexionó sobre si es posible que el '\n",
            " 'país haya cambiado. Con la creciente dependencia de los programas '\n",
            " 'gubernamentales, dijo, quizás los votantes digan que quieren las cosas '\n",
            " 'gratis. Que están dispuestos a sacrificar la libertad. \"Es posible que '\n",
            " 'estemos tan lejos en ese camino, sí\", respondió Palin. Luego, hablando más '\n",
            " \"específicamente sobre la estrategia de campaña, O'Reilly cuestionó si Romney \"\n",
            " 'debería ir tras el presidente Barack Obama \"de una manera más personal\". Si '\n",
            " 'debería usar \"palabras de moda\" como \"incompetente\", \"peligroso\" y '\n",
            " '\"socialista\". Palin argumentó que esas no son palabras de moda: son la '\n",
            " 'verdad. Y sí, debería hacerlo: \"Tiene que ser muy agresivo en su '\n",
            " 'articulación\". Durante la convención, O\\'Reilly comentó que Clint Eastwood '\n",
            " 'fue el único orador que hizo al presidente \"personalmente responsable\" del '\n",
            " 'estado del país. No se trata \"tanto de las políticas, sino de él\", dijo '\n",
            " 'O\\'Reilly. \"Es un duro rellenador de espacios en blanco\". ¿Ir tras Obama de '\n",
            " '\"una manera más personal\"? Me pregunto qué significa eso. Republicanos, '\n",
            " 'explicad exactamente qué significa eso, por favor... '\n",
            " 'ttp://twitter.com/Lompemann Lompe Dejad que Sarah Palin haga llegar la '\n",
            " 'ensalada de palabras a la gente. Anónimo Por favor, Mitt sigue el consejo de '\n",
            " 'Sarah Palin Por favor, por favor... Anónimo Sí, porque llamarlo comunista '\n",
            " 'que odia a Estados Unidos y mostrar su \"golpe de puño terrorista\" no es '\n",
            " 'suficiente. O tal vez la FOX no consiguió suficiente personal cuando dijo '\n",
            " 'que era un racista. O que insinuaran que Obama era un \"matón\" cuando recibía '\n",
            " 'a raperos \"radicales\" como Common\". Yea....time para conseguir más personal '\n",
            " \"FOX. El anónimo Bill O'Reilly parece estar disfrutando tratando de conversar \"\n",
            " 'en tono serio con la \"estrella de la realidad televisiva\" de Fox, Sarah '\n",
            " 'Palin... ...¡Están clara y profundamente preocupados por Romney! Caribou '\n",
            " '\"QUIT\" BarbieT sp estuvo en las noticias de FOX esta noche? Espera, tengo '\n",
            " 'que cambiar mi avatar. Dios mío, esta chica no se va a ir. Anónima Sí, mira '\n",
            " 'a dónde ha llevado esa estrategia a BillO y Sarah. Claramente la crema de '\n",
            " 'sus profesiones. Anónimo Oye Bill, cuéntanos sobre ese caso de acoso sexual '\n",
            " 'que resolviste fuera de los tribunales por más de un millón de dólares. Oh, '\n",
            " 'lo siento, ¿es demasiado personal? Ve tras el presidente Obama \"de una '\n",
            " 'manera más personal\". Vaya, me pregunto a qué podría referirse eso. '\n",
            " '\"...incompetente\", \"peligroso\" y \"socialista\". ¿Lo mismo que hizo en menos '\n",
            " 'de medio mandato como \"gobernadora\" de Alaska? Vamos, Sarah, di lo que te '\n",
            " 'mueres por decir. Billo no lo hará, porque es un cobarde cobarde, tiene una '\n",
            " 'excusa incorporada, tú, Sarah, no. Ponlo, Sarah, pero nunca te callarás, por '\n",
            " 'eso Mitt nunca se acercará a menos de cien millas de ti. '\n",
            " 'ttp://twitter.com/veedahvandal veedahvandal smh..eso es todo lo que '\n",
            " 'digo..triste Anónimo Realmente le salió bien a Sarah Palin, que tuvo '\n",
            " 'problemas con la más simple de las preguntas sobre cualquier tema de '\n",
            " \"política... Horas después de que Bill O'Reilly la acusara de un intento de \"\n",
            " 'chantaje multimillonario, una productora de Fox News devolvió el golpe a la '\n",
            " 'estrella de la televisión, presentando una demanda en la que afirma que la '\n",
            " 'sometió a repetidos casos de acoso sexual']\n"
          ]
        }
      ]
    },
    {
      "cell_type": "code",
      "source": [
        "random.seed(1234) # remember to shuffle since the data is now in en,fi,swe,fre order\n",
        "random.shuffle(data) "
      ],
      "metadata": {
        "id": "N4FSpvtDIRPa"
      },
      "execution_count": 5,
      "outputs": []
    },
    {
      "cell_type": "code",
      "source": [
        "# get a list of all the unique labels in the data using set which does not allow duplicates\n",
        "\n",
        "labels = [one[0] for one in data]\n",
        "\n",
        "#this splits all of the labels into their own thing for multilabeling\n",
        "split_labels= []\n",
        "for labeled in labels:\n",
        "  labeleds = labeled.split()\n",
        "  for label in labeleds:\n",
        "    split_labels.append(label)\n",
        "print(split_labels[:10])\n",
        "\n",
        "labelset = set(split_labels) #split_labels\n",
        "unique_labels=list(labelset)\n",
        "\n",
        "# or make a label list from the picture which includes all the possibilities ? there should be 55 different but our dataset only has 43 which will do for now at least\n",
        "# format of the labels? base+sub together in the label list?\n",
        "\n",
        "texts= [one[1] for one in data]\n",
        "print(len(unique_labels)) \n",
        "print(unique_labels[:10])"
      ],
      "metadata": {
        "colab": {
          "base_uri": "https://localhost:8080/"
        },
        "id": "BI0rCcbz0sec",
        "outputId": "205bb5e4-f393-40ae-c068-34e95ba2a4ee"
      },
      "execution_count": 6,
      "outputs": [
        {
          "output_type": "stream",
          "name": "stdout",
          "text": [
            "['DT', 'IN', 'IP', 'IN', 'HI', 'LT', 'IP', 'DS', 'MT', 'OS']\n",
            "43\n",
            "['CM', 'DF', 'PB', 'AV', 'QA', 'EN', 'FA', 'PO', 'OS', 'IG']\n"
          ]
        }
      ]
    },
    {
      "cell_type": "code",
      "source": [
        "# split the labels into a list in the data\n",
        "for i in range(len(data)):\n",
        "  labeledlist = data[i][0]\n",
        "  lablist = labeledlist.split()\n",
        "  data[i][0] = lablist\n",
        "\n",
        "print(data[0][0])\n",
        "\n",
        "labels = [one[0] for one in data]\n",
        "print(labels[:10])"
      ],
      "metadata": {
        "colab": {
          "base_uri": "https://localhost:8080/"
        },
        "id": "Q6bkZqV_hU3W",
        "outputId": "c4e4d54a-f2f3-427a-e615-cac8581c1c23"
      },
      "execution_count": 7,
      "outputs": [
        {
          "output_type": "stream",
          "name": "stdout",
          "text": [
            "['DT', 'IN']\n",
            "[['DT', 'IN'], ['IP'], ['IN', 'HI', 'LT'], ['IP', 'DS'], ['MT', 'OS'], ['DT', 'IN'], ['IP'], ['HI'], ['IP', 'DS'], ['NA', 'IN']]\n"
          ]
        }
      ]
    },
    {
      "cell_type": "code",
      "source": [
        "# indexlist = []\n",
        "# line = []\n",
        "# for i in range(len(data)):\n",
        "#   lab = data[i][0]\n",
        "#   for j in range(len(lab)):\n",
        "#     line.append(unique_labels.index(lab[j]))\n",
        "#   indexlist.append(line)\n",
        "#   line= []\n",
        "# print(indexlist[0])\n",
        "\n",
        "\n",
        "# then one-hot encode all the labels in the data?\n",
        "# I guess I could use pandas for this, first change everything to pandas format and then encode the labels\n",
        "\n",
        "import pandas as pd\n",
        "\n",
        "df = pd.DataFrame({\n",
        "    \"text\": texts,\n",
        "    \"labels\": labels\n",
        "})\n",
        "print(df)\n",
        "\n",
        "from sklearn.preprocessing import MultiLabelBinarizer\n",
        "mlb = MultiLabelBinarizer()\n",
        "yt = mlb.fit_transform(df.labels)\n",
        "print(yt[0])\n",
        "print(mlb.inverse_transform(yt[0].reshape(1,-1)))\n",
        "print(mlb.classes_)\n",
        "\n",
        "ytlist= []\n",
        "for labs in yt:\n",
        "  ytlist.append(labs)\n",
        "\n",
        "\n",
        "df = pd.DataFrame({\n",
        "    \"text\": texts,\n",
        "    \"labels\": ytlist\n",
        "})"
      ],
      "metadata": {
        "colab": {
          "base_uri": "https://localhost:8080/"
        },
        "id": "yRmIrPxVezz0",
        "outputId": "91ff5968-0d0d-430b-c47f-2841fc33e985"
      },
      "execution_count": 8,
      "outputs": [
        {
          "output_type": "stream",
          "name": "stdout",
          "text": [
            "                                                   text            labels\n",
            "0     Otro tipo de jueves y el curso Hacia una vida ...          [DT, IN]\n",
            "1     Todavía quedan algunas plazas en la próxima se...              [IP]\n",
            "2     Introduce tu dirección de correo electrónico y...      [IN, HI, LT]\n",
            "3     - ASUPERMALL Bolsa de almacenamiento compatibl...          [IP, DS]\n",
            "4     Categorías Negocio en casa Tengo que admitir q...          [MT, OS]\n",
            "...                                                 ...               ...\n",
            "9262  Páginas Nov 17, 2012 Cortando tu prosa dorada ...              [NA]\n",
            "9263  Lyrics Depot es tu fuente de la letra de It Ha...              [LY]\n",
            "9264  ¿Qué es la idea de contactar? ¿Cuál es la idea...              [ID]\n",
            "9265  Mi hermano murió hace dos años Otras preguntas...              [ID]\n",
            "9266  Esperamos darle la bienvenida al Mercure Wagga...  [IP, OP, DS, RV]\n",
            "\n",
            "[9267 rows x 2 columns]\n",
            "[0 0 0 0 0 0 1 0 0 0 0 0 0 0 0 0 0 1 0 0 0 0 0 0 0 0 0 0 0 0 0 0 0 0 0 0 0\n",
            " 0 0 0 0 0 0]\n",
            "[('DT', 'IN')]\n",
            "['AV' 'CB' 'CM' 'DF' 'DP' 'DS' 'DT' 'EB' 'EN' 'FA' 'FC' 'FS' 'HA' 'HI'\n",
            " 'IB' 'ID' 'IG' 'IN' 'IP' 'IT' 'JD' 'LT' 'LY' 'MT' 'NA' 'NE' 'OA' 'OB'\n",
            " 'OP' 'OS' 'PB' 'PO' 'QA' 'RA' 'RE' 'RP' 'RS' 'RV' 'SO' 'SP' 'SR' 'TB'\n",
            " 'TV']\n"
          ]
        }
      ]
    },
    {
      "cell_type": "code",
      "source": [
        "#print(df)\n",
        "dataset = datasets.Dataset.from_pandas(df)\n",
        "print(dataset)"
      ],
      "metadata": {
        "colab": {
          "base_uri": "https://localhost:8080/"
        },
        "id": "tmhh3XuoFNBI",
        "outputId": "61611098-cbc1-4d1c-9a53-5dd6d00f4fe1"
      },
      "execution_count": 9,
      "outputs": [
        {
          "output_type": "stream",
          "name": "stdout",
          "text": [
            "Dataset({\n",
            "    features: ['text', 'labels'],\n",
            "    num_rows: 9267\n",
            "})\n"
          ]
        }
      ]
    },
    {
      "cell_type": "code",
      "source": [
        "# with open(\"translated-register-data.jsonl\", \"wt\") as f:\n",
        "#     for cols, labs in zip(data, yt):\n",
        "#         item = {\n",
        "#             \"text\": cols[1],\n",
        "#             \"labels\": labs.tolist() #labs #unique_labels.index(cols[0]),\n",
        "#              # change this to have the binary one-hot encoded list of the labels, or a list of the labels => anyway a list\n",
        "#         }\n",
        "#         print(json.dumps(item,ensure_ascii=False,sort_keys=True),file=f)"
      ],
      "metadata": {
        "id": "wzqyT4Hg00dt"
      },
      "execution_count": 10,
      "outputs": []
    },
    {
      "cell_type": "code",
      "source": [
        "# Dataset_ready = \"\"\n",
        "# for label in unique_labels:\n",
        "#   label = \"\\\"\" + label + \"\\\"\"\n",
        "#   Dataset_ready = Dataset_ready + label +\": datasets.Value(\\\"int64\\\"), \"\n",
        "\n",
        "# pprint(Dataset_ready)\n",
        "\n",
        "# # this makes the dataset ready to receive encoded data"
      ],
      "metadata": {
        "id": "svFwaeTUyncg"
      },
      "execution_count": 11,
      "outputs": []
    },
    {
      "cell_type": "code",
      "source": [
        "# file = \"translated-register-data.jsonl\"\n",
        "# dataset = datasets.load_dataset(\n",
        "#     'json',                             \n",
        "#     data_files={\"everything\":file}, # I need the test set from Veronika? ask Filip and Veronika\n",
        "#     split={\n",
        "#         \"train\":\"everything[:80%]\",  \n",
        "#         \"validation\":\"everything[80%:90%]\",   \n",
        "#         \"test\":\"everything[90%:]\"    \n",
        "#     }#,\n",
        "#     # features=datasets.Features({\n",
        "#     #     \"text\":datasets.Value(\"string\")   # glad I found out that this works even without the features specifically mentioned, huggingface documentation mentioned they were optional\n",
        "#     # })\n",
        "# )\n",
        "\n",
        "#         # \"labels\":datasets.Sequence(datasets.ClassLabel(names=unique_labels)}), #datasets.ClassLabel(names=unique_labels), \n",
        "#         # # change this somehow to take all labels into account??? => datasets.Sequence(feature={}) that should include all the label features I want to give\n",
        "\n",
        "# dataset     "
      ],
      "metadata": {
        "id": "XcL0B9NS2hes"
      },
      "execution_count": 12,
      "outputs": []
    },
    {
      "cell_type": "code",
      "source": [
        "dataset = dataset.train_test_split(test_size=0.2) # change name of test to dev and later append the test set here (change the labels like below )\n",
        "print(dataset)"
      ],
      "metadata": {
        "colab": {
          "base_uri": "https://localhost:8080/"
        },
        "id": "bK0uo07IHSWz",
        "outputId": "6aa2fc79-ccae-4d57-ad80-4eb7c16b9ccc"
      },
      "execution_count": 13,
      "outputs": [
        {
          "output_type": "stream",
          "name": "stdout",
          "text": [
            "DatasetDict({\n",
            "    train: Dataset({\n",
            "        features: ['text', 'labels'],\n",
            "        num_rows: 7413\n",
            "    })\n",
            "    test: Dataset({\n",
            "        features: ['text', 'labels'],\n",
            "        num_rows: 1854\n",
            "    })\n",
            "})\n"
          ]
        }
      ]
    },
    {
      "cell_type": "code",
      "source": [
        "print(dataset[\"train\"][0])"
      ],
      "metadata": {
        "colab": {
          "base_uri": "https://localhost:8080/"
        },
        "id": "UdNwnFN0aZxX",
        "outputId": "1dec55bf-f76a-4ed6-c41b-94940cb29e99"
      },
      "execution_count": 14,
      "outputs": [
        {
          "output_type": "stream",
          "name": "stdout",
          "text": [
            "{'text': 'No te preocupes. Entregamos a los minoristas de Postnord en toda Suecia. Para algunos códigos postales también ofrecemos la entrega exprés en su domicilio en un plazo de 4 horas. Vaya a la caja para ver las opciones que tiene.', 'labels': [0, 0, 0, 0, 0, 1, 0, 0, 0, 0, 0, 0, 0, 0, 0, 0, 0, 0, 1, 0, 0, 0, 0, 0, 0, 0, 0, 0, 0, 0, 0, 0, 0, 0, 0, 0, 0, 0, 0, 0, 0, 0, 0]}\n"
          ]
        }
      ]
    },
    {
      "cell_type": "code",
      "source": [
        "model_name = \"xlm-roberta-base\" # we use the xlmr for tokenizing (large)\n",
        "tokenizer = transformers.AutoTokenizer.from_pretrained(model_name)\n",
        "\n",
        "def tokenize(example):\n",
        "    return tokenizer(\n",
        "        example[\"text\"],\n",
        "        max_length=512,\n",
        "        truncation=True, # do something else other than truncating? the texts now have max 1024 tokens\n",
        "    )\n",
        "\n",
        "dataset = dataset.map(tokenize)"
      ],
      "metadata": {
        "colab": {
          "base_uri": "https://localhost:8080/",
          "height": 81,
          "referenced_widgets": [
            "5629b418c06344d6ba073a13e6c62d0a",
            "00db2761461a4d8e960aa7835c919358",
            "e81077d0cd7640fbb1ebd9664ad9b36e",
            "2098527e07f747958fe0f64f99ced5a3",
            "3f4c1845ab8546b8a21f2811ceb2ef1a",
            "da7da760ba2043e2b164e71ca96ef3d8",
            "384751df39454e07a4ab377f8586d0ea",
            "9faf53fccf38438a89a8567b491b2070",
            "9821b92502504959ae3e225f6aa4220d",
            "cb65bcb7e18a4659aceb7b2b7e3ffddc",
            "5e026264ef844a16913d0dd77b7b52d0",
            "b70fdefd250d4741b2f5f80ab18974b9",
            "97c7da41430544d9bbbd7145cf9c0881",
            "3a34392ad219436b8e833d1d52cdead9",
            "0a33d23aec5d41b8851e901cd83f785c",
            "dc49c3e50d4046158077abb9aa8a6f03",
            "94e9efa3e77b455ea258f95431884d6d",
            "db0a816c68e540f990272b0ea30e216e",
            "992cb40891b348669e05720c931a3063",
            "fb2fd96a208c4da8af2bc5981445bfc4",
            "69a653993caf49c3909948ab32567996",
            "93fbe9adc87e496b8661f8494d1ba6d0"
          ]
        },
        "id": "yyAGVb9g2mFw",
        "outputId": "df937fc9-025f-4bd5-ffa0-e21148d48f9b"
      },
      "execution_count": 15,
      "outputs": [
        {
          "output_type": "display_data",
          "data": {
            "text/plain": [
              "  0%|          | 0/7413 [00:00<?, ?ex/s]"
            ],
            "application/vnd.jupyter.widget-view+json": {
              "version_major": 2,
              "version_minor": 0,
              "model_id": "5629b418c06344d6ba073a13e6c62d0a"
            }
          },
          "metadata": {}
        },
        {
          "output_type": "display_data",
          "data": {
            "text/plain": [
              "  0%|          | 0/1854 [00:00<?, ?ex/s]"
            ],
            "application/vnd.jupyter.widget-view+json": {
              "version_major": 2,
              "version_minor": 0,
              "model_id": "b70fdefd250d4741b2f5f80ab18974b9"
            }
          },
          "metadata": {}
        }
      ]
    },
    {
      "cell_type": "code",
      "source": [
        "# cast label IDs to floats\n",
        "#dataset.remove_columns(\"text\")\n",
        "dataset.reset_format()\n",
        "print(dataset[\"train\"].format)\n",
        "dataset.set_format(type=\"pandas\", columns=['labels', 'input_ids', 'attention_mask'])\n",
        "print(dataset[\"train\"].format)\n",
        "#print(dataset[\"train\"][0])\n",
        "dataset.set_format(type=\"torch\", columns=['labels', 'input_ids', 'attention_mask'])\n",
        "print(dataset[\"train\"].format)\n",
        "dataset = dataset.map(lambda x : {\"float_labels\": x[\"labels\"].to(torch.float32)}, remove_columns=[\"labels\", \"text\"])\n",
        "#dataset.remove_columns(\"labels\")\n",
        "print(dataset)\n",
        "dataset = dataset.rename_column(\"float_labels\", \"labels\")"
      ],
      "metadata": {
        "colab": {
          "base_uri": "https://localhost:8080/",
          "height": 307,
          "referenced_widgets": [
            "3a51b1c061f842e3b3d4ad09e95ab7cc",
            "453c3b42102d4eb49f6c19b7ca550c67",
            "660dbb7f9b0e450a9fbd8bb805c7b143",
            "1065d62b1b834700b35608d3e4b22ce2",
            "512889e651694a1aaded8fe197f9cbc6",
            "fc90a1b35e0943f2968628b882feaf4a",
            "3378ee7e79d74152b39b8d3ee508f47e",
            "0f902fe0f8a740cd802048c284c769be",
            "819df2a48ebd4a3e9c15e89d83f9b3b2",
            "c6048cf067354c65a953413c297e9e50",
            "103bec9aa09d43d69d9f3ecfb2daefd5",
            "786e182637f24e4b8e260ce63dace2b4",
            "7c71b3e508b04c54bfb42f2320fba3d8",
            "10d6294d7b074dc2898fca81113a51a8",
            "37c4d1ec3b5f4b109d5107154f8d6f54",
            "1dcc9ca4ef0d448681b2cf19be865fa4",
            "e0432a75536c474e95e527bf7d015f85",
            "d65c80a67bdd4c7cbe2fcae5399d9257",
            "6df42b5b4952466486783735b445dc27",
            "1c5c8370aa144c46888b2243c9608646",
            "90c54469ac2f41aa8bcdc9e0ea03092d",
            "e4af3b059c1841aa9d1dbaedb8ace969"
          ]
        },
        "id": "xBb93RxmfojL",
        "outputId": "6c4cb380-930c-4f73-9138-2623b3d3388e"
      },
      "execution_count": 16,
      "outputs": [
        {
          "output_type": "stream",
          "name": "stdout",
          "text": [
            "{'type': None, 'format_kwargs': {}, 'columns': ['text', 'labels', 'input_ids', 'attention_mask'], 'output_all_columns': False}\n",
            "{'type': 'pandas', 'format_kwargs': {}, 'columns': ['labels', 'input_ids', 'attention_mask'], 'output_all_columns': False}\n",
            "{'type': 'torch', 'format_kwargs': {}, 'columns': ['labels', 'input_ids', 'attention_mask'], 'output_all_columns': False}\n"
          ]
        },
        {
          "output_type": "display_data",
          "data": {
            "text/plain": [
              "  0%|          | 0/7413 [00:00<?, ?ex/s]"
            ],
            "application/vnd.jupyter.widget-view+json": {
              "version_major": 2,
              "version_minor": 0,
              "model_id": "3a51b1c061f842e3b3d4ad09e95ab7cc"
            }
          },
          "metadata": {}
        },
        {
          "output_type": "display_data",
          "data": {
            "text/plain": [
              "  0%|          | 0/1854 [00:00<?, ?ex/s]"
            ],
            "application/vnd.jupyter.widget-view+json": {
              "version_major": 2,
              "version_minor": 0,
              "model_id": "786e182637f24e4b8e260ce63dace2b4"
            }
          },
          "metadata": {}
        },
        {
          "output_type": "stream",
          "name": "stdout",
          "text": [
            "DatasetDict({\n",
            "    train: Dataset({\n",
            "        features: ['input_ids', 'attention_mask', 'float_labels'],\n",
            "        num_rows: 7413\n",
            "    })\n",
            "    test: Dataset({\n",
            "        features: ['input_ids', 'attention_mask', 'float_labels'],\n",
            "        num_rows: 1854\n",
            "    })\n",
            "})\n"
          ]
        }
      ]
    },
    {
      "cell_type": "code",
      "source": [
        "model = transformers.XLMRobertaForSequenceClassification.from_pretrained(model_name, num_labels=len(unique_labels), problem_type=\"multi_label_classification\")"
      ],
      "metadata": {
        "colab": {
          "base_uri": "https://localhost:8080/"
        },
        "id": "_2fDqich2rCd",
        "outputId": "ae3288dc-a558-4fde-d5c6-f76b014fc883"
      },
      "execution_count": 17,
      "outputs": [
        {
          "output_type": "stream",
          "name": "stderr",
          "text": [
            "Some weights of the model checkpoint at xlm-roberta-base were not used when initializing XLMRobertaForSequenceClassification: ['lm_head.dense.weight', 'lm_head.decoder.weight', 'roberta.pooler.dense.bias', 'roberta.pooler.dense.weight', 'lm_head.dense.bias', 'lm_head.layer_norm.bias', 'lm_head.bias', 'lm_head.layer_norm.weight']\n",
            "- This IS expected if you are initializing XLMRobertaForSequenceClassification from the checkpoint of a model trained on another task or with another architecture (e.g. initializing a BertForSequenceClassification model from a BertForPreTraining model).\n",
            "- This IS NOT expected if you are initializing XLMRobertaForSequenceClassification from the checkpoint of a model that you expect to be exactly identical (initializing a BertForSequenceClassification model from a BertForSequenceClassification model).\n",
            "Some weights of XLMRobertaForSequenceClassification were not initialized from the model checkpoint at xlm-roberta-base and are newly initialized: ['classifier.out_proj.weight', 'classifier.out_proj.bias', 'classifier.dense.weight', 'classifier.dense.bias']\n",
            "You should probably TRAIN this model on a down-stream task to be able to use it for predictions and inference.\n"
          ]
        }
      ]
    },
    {
      "cell_type": "code",
      "source": [
        "# I should change these eventually to find the best hyperparameters\n",
        "\n",
        "trainer_args = transformers.TrainingArguments(\n",
        "    \"checkpoints\",\n",
        "    evaluation_strategy=\"steps\",\n",
        "    logging_strategy=\"steps\",\n",
        "    load_best_model_at_end=True,\n",
        "    eval_steps=100,\n",
        "    logging_steps=100,\n",
        "    learning_rate=0.00001,\n",
        "    per_device_train_batch_size=8,\n",
        "    per_device_eval_batch_size=32,\n",
        "    max_steps=1500\n",
        ")\n"
      ],
      "metadata": {
        "id": "tgf8tHN53k-N"
      },
      "execution_count": 18,
      "outputs": []
    },
    {
      "cell_type": "code",
      "source": [
        "# accuracy = datasets.load_metric(\"accuracy\")\n",
        "\n",
        "# def compute_accuracy(outputs_and_labels):\n",
        "#     outputs, labels = outputs_and_labels\n",
        "#     predictions = outputs.argmax(axis=-1) #pick the index of the \"winning\" label\n",
        "#     return accuracy.compute(predictions=predictions, references=labels)\n",
        "\n",
        "\n",
        "data_collator = transformers.DataCollatorWithPadding(tokenizer)\n",
        "\n",
        "\n",
        "# # for the actual multilabel thing we need to use another metric\n",
        "# #microF1\n",
        "# from sklearn.metrics import precision_recall_fscore_support\n",
        "# def compute_metrics(pred):\n",
        "#     labels = pred.label_ids\n",
        "#     preds = pred.predictions.argmax(-1)\n",
        "#     precision, recall, f1, _ = precision_recall_fscore_support(labels, preds, average='micro') # switch from binary to micro for multilabel at least\n",
        "#   #  acc = accuracy_score(labels, preds)\n",
        "#     return {\n",
        "#    #     'accuracy': acc,\n",
        "#         'f1': f1,\n",
        "#         'precision': precision,\n",
        "#         'recall': recall\n",
        "#     }\n",
        "import numpy as np\n",
        "from transformers import EvalPrediction\n",
        "from sklearn.metrics import f1_score, roc_auc_score, accuracy_score\n",
        "# source: https://jesusleal.io/2021/04/21/Longformer-multilabel-classification/\n",
        "def multi_label_metrics(predictions, labels, threshold=0.3):  # with 0.1 the spanish data is not doing great\n",
        "    # the treshold has to be really low because the probabilities of the predictions are not great, could even do without any treshold then? or find one that works best between 0.1 and 0.5 (with english)\n",
        "    # first, apply sigmoid on predictions which are of shape (batch_size, num_labels) # why is the sigmoid applies? could do without it\n",
        "    sigmoid = torch.nn.Sigmoid()\n",
        "    probs = sigmoid(torch.Tensor(predictions))\n",
        "    #next, use threshold to turn them into integer predictions\n",
        "    y_pred = np.zeros(probs.shape)\n",
        "    y_pred[np.where(probs >= threshold)] = 1\n",
        "    # finally, compute metrics\n",
        "    y_true = labels\n",
        "    f1_micro_average = f1_score(y_true=y_true, y_pred=y_pred, average='micro')\n",
        "    roc_auc = roc_auc_score(y_true, y_pred, average = 'micro')\n",
        "    accuracy = accuracy_score(y_true, y_pred)\n",
        "    # return as dictionary\n",
        "    metrics = {'f1': f1_micro_average,\n",
        "               'roc_auc': roc_auc,\n",
        "               'accuracy': accuracy}\n",
        "    return metrics\n",
        "\n",
        "def compute_metrics(p: EvalPrediction):\n",
        "    preds = p.predictions[0] if isinstance(p.predictions, \n",
        "            tuple) else p.predictions\n",
        "    result = multi_label_metrics(\n",
        "        predictions=preds, \n",
        "        labels=p.label_ids)\n",
        "    return result"
      ],
      "metadata": {
        "id": "LQZ3SWIz3n2l"
      },
      "execution_count": 24,
      "outputs": []
    },
    {
      "cell_type": "code",
      "source": [
        "from collections import defaultdict\n",
        "\n",
        "class LogSavingCallback(transformers.TrainerCallback):\n",
        "    def on_train_begin(self, *args, **kwargs):\n",
        "        self.logs = defaultdict(list)\n",
        "        self.training = True\n",
        "\n",
        "    def on_train_end(self, *args, **kwargs):\n",
        "        self.training = False\n",
        "\n",
        "    def on_log(self, args, state, control, logs, model=None, **kwargs):\n",
        "        if self.training:\n",
        "            for k, v in logs.items():\n",
        "                if k != \"epoch\" or v not in self.logs[k]:\n",
        "                    self.logs[k].append(v)\n",
        "\n",
        "training_logs = LogSavingCallback()\n",
        "\n",
        "early_stopping = transformers.EarlyStoppingCallback(\n",
        "    early_stopping_patience=5\n",
        ")"
      ],
      "metadata": {
        "id": "_GphLD_C8dF3"
      },
      "execution_count": 20,
      "outputs": []
    },
    {
      "cell_type": "code",
      "source": [
        "class MultilabelTrainer(transformers.Trainer):\n",
        "    def compute_loss(self, model, inputs, return_outputs=False):\n",
        "        labels = inputs.pop(\"labels\")\n",
        "        outputs = model(**inputs)\n",
        "        logits = outputs.logits\n",
        "        loss_fct = torch.nn.BCEWithLogitsLoss()\n",
        "        loss = loss_fct(logits.view(-1, self.model.config.num_labels), \n",
        "                        labels.float().view(-1, self.model.config.num_labels))\n",
        "        return (loss, outputs) if return_outputs else loss"
      ],
      "metadata": {
        "id": "O5Ct-tk8SysA"
      },
      "execution_count": 21,
      "outputs": []
    },
    {
      "cell_type": "code",
      "source": [
        "dataset"
      ],
      "metadata": {
        "colab": {
          "base_uri": "https://localhost:8080/"
        },
        "id": "LRLm4AlHUyp8",
        "outputId": "bd0118cc-cb84-4c76-cdbe-ec8e0f3be5a5"
      },
      "execution_count": 22,
      "outputs": [
        {
          "output_type": "execute_result",
          "data": {
            "text/plain": [
              "DatasetDict({\n",
              "    train: Dataset({\n",
              "        features: ['input_ids', 'attention_mask', 'labels'],\n",
              "        num_rows: 7413\n",
              "    })\n",
              "    test: Dataset({\n",
              "        features: ['input_ids', 'attention_mask', 'labels'],\n",
              "        num_rows: 1854\n",
              "    })\n",
              "})"
            ]
          },
          "metadata": {},
          "execution_count": 22
        }
      ]
    },
    {
      "cell_type": "code",
      "source": [
        "trainer = MultilabelTrainer(\n",
        "    model=model,\n",
        "    args=trainer_args,\n",
        "    train_dataset=dataset[\"train\"],\n",
        "    eval_dataset=dataset[\"test\"],\n",
        "    compute_metrics=compute_metrics,\n",
        "    data_collator=data_collator,\n",
        "    tokenizer = tokenizer,\n",
        "    callbacks=[early_stopping, training_logs]\n",
        ")\n",
        "\n",
        "trainer.train()"
      ],
      "metadata": {
        "colab": {
          "base_uri": "https://localhost:8080/",
          "height": 618
        },
        "id": "s8HaeLy93rhS",
        "outputId": "08ac298b-91c7-4fad-cc3f-b61b2aa1ceeb"
      },
      "execution_count": 25,
      "outputs": [
        {
          "output_type": "stream",
          "name": "stderr",
          "text": [
            "/usr/local/lib/python3.7/dist-packages/transformers/optimization.py:309: FutureWarning: This implementation of AdamW is deprecated and will be removed in a future version. Use the PyTorch implementation torch.optim.AdamW instead, or set `no_deprecation_warning=True` to disable this warning\n",
            "  FutureWarning,\n"
          ]
        },
        {
          "output_type": "display_data",
          "data": {
            "text/plain": [
              "<IPython.core.display.HTML object>"
            ],
            "text/html": [
              "\n",
              "    <div>\n",
              "      \n",
              "      <progress value='1500' max='1500' style='width:300px; height:20px; vertical-align: middle;'></progress>\n",
              "      [1500/1500 39:47, Epoch 1/2]\n",
              "    </div>\n",
              "    <table border=\"1\" class=\"dataframe\">\n",
              "  <thead>\n",
              " <tr style=\"text-align: left;\">\n",
              "      <th>Step</th>\n",
              "      <th>Training Loss</th>\n",
              "      <th>Validation Loss</th>\n",
              "      <th>F1</th>\n",
              "      <th>Roc Auc</th>\n",
              "      <th>Accuracy</th>\n",
              "    </tr>\n",
              "  </thead>\n",
              "  <tbody>\n",
              "    <tr>\n",
              "      <td>100</td>\n",
              "      <td>0.185400</td>\n",
              "      <td>0.162668</td>\n",
              "      <td>0.214259</td>\n",
              "      <td>0.574156</td>\n",
              "      <td>0.042071</td>\n",
              "    </tr>\n",
              "    <tr>\n",
              "      <td>200</td>\n",
              "      <td>0.161000</td>\n",
              "      <td>0.150821</td>\n",
              "      <td>0.214259</td>\n",
              "      <td>0.574156</td>\n",
              "      <td>0.042071</td>\n",
              "    </tr>\n",
              "    <tr>\n",
              "      <td>300</td>\n",
              "      <td>0.151600</td>\n",
              "      <td>0.146512</td>\n",
              "      <td>0.214259</td>\n",
              "      <td>0.574156</td>\n",
              "      <td>0.042071</td>\n",
              "    </tr>\n",
              "    <tr>\n",
              "      <td>400</td>\n",
              "      <td>0.146500</td>\n",
              "      <td>0.143824</td>\n",
              "      <td>0.213941</td>\n",
              "      <td>0.573098</td>\n",
              "      <td>0.041532</td>\n",
              "    </tr>\n",
              "    <tr>\n",
              "      <td>500</td>\n",
              "      <td>0.146800</td>\n",
              "      <td>0.142144</td>\n",
              "      <td>0.215894</td>\n",
              "      <td>0.574049</td>\n",
              "      <td>0.042071</td>\n",
              "    </tr>\n",
              "    <tr>\n",
              "      <td>600</td>\n",
              "      <td>0.145100</td>\n",
              "      <td>0.140247</td>\n",
              "      <td>0.207724</td>\n",
              "      <td>0.565089</td>\n",
              "      <td>0.039374</td>\n",
              "    </tr>\n",
              "    <tr>\n",
              "      <td>700</td>\n",
              "      <td>0.142900</td>\n",
              "      <td>0.137416</td>\n",
              "      <td>0.305122</td>\n",
              "      <td>0.612666</td>\n",
              "      <td>0.066343</td>\n",
              "    </tr>\n",
              "    <tr>\n",
              "      <td>800</td>\n",
              "      <td>0.141300</td>\n",
              "      <td>0.134947</td>\n",
              "      <td>0.325822</td>\n",
              "      <td>0.621661</td>\n",
              "      <td>0.063646</td>\n",
              "    </tr>\n",
              "    <tr>\n",
              "      <td>900</td>\n",
              "      <td>0.138400</td>\n",
              "      <td>0.133239</td>\n",
              "      <td>0.348962</td>\n",
              "      <td>0.634726</td>\n",
              "      <td>0.067422</td>\n",
              "    </tr>\n",
              "    <tr>\n",
              "      <td>1000</td>\n",
              "      <td>0.132700</td>\n",
              "      <td>0.131838</td>\n",
              "      <td>0.368237</td>\n",
              "      <td>0.646016</td>\n",
              "      <td>0.066882</td>\n",
              "    </tr>\n",
              "    <tr>\n",
              "      <td>1100</td>\n",
              "      <td>0.133300</td>\n",
              "      <td>0.130584</td>\n",
              "      <td>0.379906</td>\n",
              "      <td>0.651190</td>\n",
              "      <td>0.072276</td>\n",
              "    </tr>\n",
              "    <tr>\n",
              "      <td>1200</td>\n",
              "      <td>0.134200</td>\n",
              "      <td>0.129242</td>\n",
              "      <td>0.387562</td>\n",
              "      <td>0.656570</td>\n",
              "      <td>0.066343</td>\n",
              "    </tr>\n",
              "    <tr>\n",
              "      <td>1300</td>\n",
              "      <td>0.132300</td>\n",
              "      <td>0.128802</td>\n",
              "      <td>0.397445</td>\n",
              "      <td>0.660274</td>\n",
              "      <td>0.087918</td>\n",
              "    </tr>\n",
              "    <tr>\n",
              "      <td>1400</td>\n",
              "      <td>0.131300</td>\n",
              "      <td>0.127818</td>\n",
              "      <td>0.396266</td>\n",
              "      <td>0.659562</td>\n",
              "      <td>0.086839</td>\n",
              "    </tr>\n",
              "    <tr>\n",
              "      <td>1500</td>\n",
              "      <td>0.130100</td>\n",
              "      <td>0.127640</td>\n",
              "      <td>0.400901</td>\n",
              "      <td>0.661321</td>\n",
              "      <td>0.087379</td>\n",
              "    </tr>\n",
              "  </tbody>\n",
              "</table><p>"
            ]
          },
          "metadata": {}
        },
        {
          "output_type": "execute_result",
          "data": {
            "text/plain": [
              "TrainOutput(global_step=1500, training_loss=0.14352548535664877, metrics={'train_runtime': 2388.2874, 'train_samples_per_second': 5.025, 'train_steps_per_second': 0.628, 'total_flos': 3156467425925424.0, 'train_loss': 0.14352548535664877, 'epoch': 1.62})"
            ]
          },
          "metadata": {},
          "execution_count": 25
        }
      ]
    },
    {
      "cell_type": "code",
      "source": [
        "eval_results = trainer.evaluate(dataset[\"test\"])\n",
        "\n",
        "print(eval_results)\n",
        "# with eng downsampled the f1 ended up at 51%, with spanish at 40%"
      ],
      "metadata": {
        "colab": {
          "base_uri": "https://localhost:8080/",
          "height": 74
        },
        "id": "JtzDeGhQ3ufs",
        "outputId": "3af1435b-22c1-4cae-f8c2-9ae6146b466e"
      },
      "execution_count": 28,
      "outputs": [
        {
          "output_type": "display_data",
          "data": {
            "text/plain": [
              "<IPython.core.display.HTML object>"
            ],
            "text/html": [
              "\n",
              "    <div>\n",
              "      \n",
              "      <progress value='58' max='58' style='width:300px; height:20px; vertical-align: middle;'></progress>\n",
              "      [58/58 01:05]\n",
              "    </div>\n",
              "    "
            ]
          },
          "metadata": {}
        },
        {
          "output_type": "stream",
          "name": "stdout",
          "text": [
            "{'eval_loss': 0.1276398003101349, 'eval_f1': 0.40090090090090086, 'eval_roc_auc': 0.6613213215077482, 'eval_accuracy': 0.08737864077669903, 'eval_runtime': 67.2021, 'eval_samples_per_second': 27.588, 'eval_steps_per_second': 0.863, 'epoch': 1.62}\n"
          ]
        }
      ]
    },
    {
      "cell_type": "code",
      "source": [
        "%matplotlib inline\n",
        "import matplotlib.pyplot as plt\n",
        "\n",
        "def plot(logs, keys, labels):\n",
        "    values = sum([logs[k] for k in keys], [])\n",
        "    plt.ylim(max(min(values)-0.1, 0.0), min(max(values)+0.1, 1.0))\n",
        "    for key, label in zip(keys, labels):    \n",
        "        plt.plot(logs[\"epoch\"], logs[key], label=label)\n",
        "    plt.legend()\n",
        "    plt.show()\n",
        "\n",
        "plot(training_logs.logs, [\"loss\", \"eval_loss\"], [\"Training loss\", \"Evaluation loss\"])"
      ],
      "metadata": {
        "id": "zJP4s7hiDTye",
        "colab": {
          "base_uri": "https://localhost:8080/",
          "height": 265
        },
        "outputId": "71e6dfa0-7b54-4f39-907e-21ca0b6806dd"
      },
      "execution_count": 26,
      "outputs": [
        {
          "output_type": "display_data",
          "data": {
            "text/plain": [
              "<Figure size 432x288 with 1 Axes>"
            ],
            "image/png": "[encoded data removed]"
          },
          "metadata": {
            "needs_background": "light"
          }
        }
      ]
    },
    {
      "cell_type": "code",
      "source": [
        "plot(training_logs.logs, [\"eval_f1\"], [\"Evaluation f1\"])"
      ],
      "metadata": {
        "id": "_3XCnTSxDZy3",
        "colab": {
          "base_uri": "https://localhost:8080/",
          "height": 269
        },
        "outputId": "db1f854a-26d9-447e-e339-2659ebb53d62"
      },
      "execution_count": 29,
      "outputs": [
        {
          "output_type": "display_data",
          "data": {
            "text/plain": [
              "<Figure size 432x288 with 1 Axes>"
            ],
            "image/png": "[encoded data removed]"
          },
          "metadata": {
            "needs_background": "light"
          }
        }
      ]
    },
    {
      "cell_type": "markdown",
      "source": [
        "I think there are several reasons this does not work at all really:\n",
        "\n",
        "\n",
        "1.   I am also truncating it to 512 and the original texts have 1024 tokens as agreed with filip to save space when translating texts -> another way to do this?\n",
        "If I am truncating then it feels unnecessary to even have translated 1024 tokens but I guess more than 512 is needed although the beginning is apparently very telling when getting the register\n",
        "2.   And for some registers (at least lyrical) the translations might not have been as good as hoped.\n",
        "\n",
        "All in all, true multilabel is the only solution to this really and even then english data only having base labels might be an issue when the others have sublabels (this also depends on the target language test set and how the annotations are done)\n",
        "\n"
      ],
      "metadata": {
        "id": "sma9e5Yy_8HT"
      }
    },
    {
      "cell_type": "markdown",
      "source": [
        "It seems that whether I do multilabel or just multiclass the results stay relatively the same which is surprising to me (the results are always kind of shitty then). I guess it could have to do with the downsampling and the fact that the translation included different labeling tactics. BUT that shouldn't be a problem here (only with multiclass) since we use the binary in the multilabeling (except english still only has base labels which might have an effect).\n",
        "For F1, Eng gets about 50% (starts from 40ish) and spanish gets 20ish THEN suddenly jumps to 30% and above and ends with 40% which is better than with multiclass!!!. Accuracy is similar for both (6%). \n",
        "\n",
        "\n",
        "I should test this on the spanish test set that Veronika has? https://github.com/TurkuNLP/SpaCORE\n",
        "=> that one has different labeling at least sublabels are in lowercase so that has to be changed and the labels are also different from the picture that I have of the labelling????? ask Veronika\n",
        "\n",
        "\n",
        "\n",
        "https://github.com/TurkuNLP/SimChiCORE\n",
        "https://github.com/TurkuNLP/JpnCORE\n",
        "Portuguese?\n",
        "\n",
        "\n",
        "\n",
        "https://github.com/TurkuNLP/bert-for-core/blob/master/multilingual.md this could help me?"
      ],
      "metadata": {
        "id": "Dz2FG0WG1DmS"
      }
    }
  ]
}