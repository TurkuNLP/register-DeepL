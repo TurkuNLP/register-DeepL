{
  "nbformat": 4,
  "nbformat_minor": 0,
  "metadata": {
    "colab": {
      "name": "register-multilabel.ipynb",
      "provenance": [],
      "collapsed_sections": [],
      "authorship_tag": "ABX9TyNJlxrjkIDBztx4K4D4AUq6",
      "include_colab_link": true
    },
    "kernelspec": {
      "name": "python3",
      "display_name": "Python 3"
    },
    "language_info": {
      "name": "python"
    },
    "accelerator": "GPU",
    "widgets": {
      "application/vnd.jupyter.widget-state+json": {
        "ee107d7703d649519884809f990c5598": {
          "model_module": "@jupyter-widgets/controls",
          "model_name": "HBoxModel",
          "model_module_version": "1.5.0",
          "state": {
            "_dom_classes": [],
            "_model_module": "@jupyter-widgets/controls",
            "_model_module_version": "1.5.0",
            "_model_name": "HBoxModel",
            "_view_count": null,
            "_view_module": "@jupyter-widgets/controls",
            "_view_module_version": "1.5.0",
            "_view_name": "HBoxView",
            "box_style": "",
            "children": [
              "IPY_MODEL_84e26177fff147b4acabf0a3ac4a13ce",
              "IPY_MODEL_54bb21ebdedf4be29182d58f0905bb20",
              "IPY_MODEL_a049a7ad682d4b459c59dec98622b82d"
            ],
            "layout": "IPY_MODEL_e2feb224850d4f78adf958ad6563ed9c"
          }
        },
        "84e26177fff147b4acabf0a3ac4a13ce": {
          "model_module": "@jupyter-widgets/controls",
          "model_name": "HTMLModel",
          "model_module_version": "1.5.0",
          "state": {
            "_dom_classes": [],
            "_model_module": "@jupyter-widgets/controls",
            "_model_module_version": "1.5.0",
            "_model_name": "HTMLModel",
            "_view_count": null,
            "_view_module": "@jupyter-widgets/controls",
            "_view_module_version": "1.5.0",
            "_view_name": "HTMLView",
            "description": "",
            "description_tooltip": null,
            "layout": "IPY_MODEL_4c43e20351b5433699375f0b648065af",
            "placeholder": "​",
            "style": "IPY_MODEL_ad4345ae8e1a45379a1b48f26afb60b9",
            "value": "100%"
          }
        },
        "54bb21ebdedf4be29182d58f0905bb20": {
          "model_module": "@jupyter-widgets/controls",
          "model_name": "FloatProgressModel",
          "model_module_version": "1.5.0",
          "state": {
            "_dom_classes": [],
            "_model_module": "@jupyter-widgets/controls",
            "_model_module_version": "1.5.0",
            "_model_name": "FloatProgressModel",
            "_view_count": null,
            "_view_module": "@jupyter-widgets/controls",
            "_view_module_version": "1.5.0",
            "_view_name": "ProgressView",
            "bar_style": "success",
            "description": "",
            "description_tooltip": null,
            "layout": "IPY_MODEL_259e7b19786a4b46b4d407dca7706e54",
            "max": 2230,
            "min": 0,
            "orientation": "horizontal",
            "style": "IPY_MODEL_96e8faefd80e428aa9c68798328cb84c",
            "value": 2230
          }
        },
        "a049a7ad682d4b459c59dec98622b82d": {
          "model_module": "@jupyter-widgets/controls",
          "model_name": "HTMLModel",
          "model_module_version": "1.5.0",
          "state": {
            "_dom_classes": [],
            "_model_module": "@jupyter-widgets/controls",
            "_model_module_version": "1.5.0",
            "_model_name": "HTMLModel",
            "_view_count": null,
            "_view_module": "@jupyter-widgets/controls",
            "_view_module_version": "1.5.0",
            "_view_name": "HTMLView",
            "description": "",
            "description_tooltip": null,
            "layout": "IPY_MODEL_976ced2479e6451b9dd225b311bd2b72",
            "placeholder": "​",
            "style": "IPY_MODEL_8795be1899b748358ada87019b16df33",
            "value": " 2230/2230 [00:11&lt;00:00, 231.74ex/s]"
          }
        },
        "e2feb224850d4f78adf958ad6563ed9c": {
          "model_module": "@jupyter-widgets/base",
          "model_name": "LayoutModel",
          "model_module_version": "1.2.0",
          "state": {
            "_model_module": "@jupyter-widgets/base",
            "_model_module_version": "1.2.0",
            "_model_name": "LayoutModel",
            "_view_count": null,
            "_view_module": "@jupyter-widgets/base",
            "_view_module_version": "1.2.0",
            "_view_name": "LayoutView",
            "align_content": null,
            "align_items": null,
            "align_self": null,
            "border": null,
            "bottom": null,
            "display": null,
            "flex": null,
            "flex_flow": null,
            "grid_area": null,
            "grid_auto_columns": null,
            "grid_auto_flow": null,
            "grid_auto_rows": null,
            "grid_column": null,
            "grid_gap": null,
            "grid_row": null,
            "grid_template_areas": null,
            "grid_template_columns": null,
            "grid_template_rows": null,
            "height": null,
            "justify_content": null,
            "justify_items": null,
            "left": null,
            "margin": null,
            "max_height": null,
            "max_width": null,
            "min_height": null,
            "min_width": null,
            "object_fit": null,
            "object_position": null,
            "order": null,
            "overflow": null,
            "overflow_x": null,
            "overflow_y": null,
            "padding": null,
            "right": null,
            "top": null,
            "visibility": null,
            "width": null
          }
        },
        "4c43e20351b5433699375f0b648065af": {
          "model_module": "@jupyter-widgets/base",
          "model_name": "LayoutModel",
          "model_module_version": "1.2.0",
          "state": {
            "_model_module": "@jupyter-widgets/base",
            "_model_module_version": "1.2.0",
            "_model_name": "LayoutModel",
            "_view_count": null,
            "_view_module": "@jupyter-widgets/base",
            "_view_module_version": "1.2.0",
            "_view_name": "LayoutView",
            "align_content": null,
            "align_items": null,
            "align_self": null,
            "border": null,
            "bottom": null,
            "display": null,
            "flex": null,
            "flex_flow": null,
            "grid_area": null,
            "grid_auto_columns": null,
            "grid_auto_flow": null,
            "grid_auto_rows": null,
            "grid_column": null,
            "grid_gap": null,
            "grid_row": null,
            "grid_template_areas": null,
            "grid_template_columns": null,
            "grid_template_rows": null,
            "height": null,
            "justify_content": null,
            "justify_items": null,
            "left": null,
            "margin": null,
            "max_height": null,
            "max_width": null,
            "min_height": null,
            "min_width": null,
            "object_fit": null,
            "object_position": null,
            "order": null,
            "overflow": null,
            "overflow_x": null,
            "overflow_y": null,
            "padding": null,
            "right": null,
            "top": null,
            "visibility": null,
            "width": null
          }
        },
        "ad4345ae8e1a45379a1b48f26afb60b9": {
          "model_module": "@jupyter-widgets/controls",
          "model_name": "DescriptionStyleModel",
          "model_module_version": "1.5.0",
          "state": {
            "_model_module": "@jupyter-widgets/controls",
            "_model_module_version": "1.5.0",
            "_model_name": "DescriptionStyleModel",
            "_view_count": null,
            "_view_module": "@jupyter-widgets/base",
            "_view_module_version": "1.2.0",
            "_view_name": "StyleView",
            "description_width": ""
          }
        },
        "259e7b19786a4b46b4d407dca7706e54": {
          "model_module": "@jupyter-widgets/base",
          "model_name": "LayoutModel",
          "model_module_version": "1.2.0",
          "state": {
            "_model_module": "@jupyter-widgets/base",
            "_model_module_version": "1.2.0",
            "_model_name": "LayoutModel",
            "_view_count": null,
            "_view_module": "@jupyter-widgets/base",
            "_view_module_version": "1.2.0",
            "_view_name": "LayoutView",
            "align_content": null,
            "align_items": null,
            "align_self": null,
            "border": null,
            "bottom": null,
            "display": null,
            "flex": null,
            "flex_flow": null,
            "grid_area": null,
            "grid_auto_columns": null,
            "grid_auto_flow": null,
            "grid_auto_rows": null,
            "grid_column": null,
            "grid_gap": null,
            "grid_row": null,
            "grid_template_areas": null,
            "grid_template_columns": null,
            "grid_template_rows": null,
            "height": null,
            "justify_content": null,
            "justify_items": null,
            "left": null,
            "margin": null,
            "max_height": null,
            "max_width": null,
            "min_height": null,
            "min_width": null,
            "object_fit": null,
            "object_position": null,
            "order": null,
            "overflow": null,
            "overflow_x": null,
            "overflow_y": null,
            "padding": null,
            "right": null,
            "top": null,
            "visibility": null,
            "width": null
          }
        },
        "96e8faefd80e428aa9c68798328cb84c": {
          "model_module": "@jupyter-widgets/controls",
          "model_name": "ProgressStyleModel",
          "model_module_version": "1.5.0",
          "state": {
            "_model_module": "@jupyter-widgets/controls",
            "_model_module_version": "1.5.0",
            "_model_name": "ProgressStyleModel",
            "_view_count": null,
            "_view_module": "@jupyter-widgets/base",
            "_view_module_version": "1.2.0",
            "_view_name": "StyleView",
            "bar_color": null,
            "description_width": ""
          }
        },
        "976ced2479e6451b9dd225b311bd2b72": {
          "model_module": "@jupyter-widgets/base",
          "model_name": "LayoutModel",
          "model_module_version": "1.2.0",
          "state": {
            "_model_module": "@jupyter-widgets/base",
            "_model_module_version": "1.2.0",
            "_model_name": "LayoutModel",
            "_view_count": null,
            "_view_module": "@jupyter-widgets/base",
            "_view_module_version": "1.2.0",
            "_view_name": "LayoutView",
            "align_content": null,
            "align_items": null,
            "align_self": null,
            "border": null,
            "bottom": null,
            "display": null,
            "flex": null,
            "flex_flow": null,
            "grid_area": null,
            "grid_auto_columns": null,
            "grid_auto_flow": null,
            "grid_auto_rows": null,
            "grid_column": null,
            "grid_gap": null,
            "grid_row": null,
            "grid_template_areas": null,
            "grid_template_columns": null,
            "grid_template_rows": null,
            "height": null,
            "justify_content": null,
            "justify_items": null,
            "left": null,
            "margin": null,
            "max_height": null,
            "max_width": null,
            "min_height": null,
            "min_width": null,
            "object_fit": null,
            "object_position": null,
            "order": null,
            "overflow": null,
            "overflow_x": null,
            "overflow_y": null,
            "padding": null,
            "right": null,
            "top": null,
            "visibility": null,
            "width": null
          }
        },
        "8795be1899b748358ada87019b16df33": {
          "model_module": "@jupyter-widgets/controls",
          "model_name": "DescriptionStyleModel",
          "model_module_version": "1.5.0",
          "state": {
            "_model_module": "@jupyter-widgets/controls",
            "_model_module_version": "1.5.0",
            "_model_name": "DescriptionStyleModel",
            "_view_count": null,
            "_view_module": "@jupyter-widgets/base",
            "_view_module_version": "1.2.0",
            "_view_name": "StyleView",
            "description_width": ""
          }
        },
        "c5a3fd7f95ef42d38e5416087ef14358": {
          "model_module": "@jupyter-widgets/controls",
          "model_name": "HBoxModel",
          "model_module_version": "1.5.0",
          "state": {
            "_dom_classes": [],
            "_model_module": "@jupyter-widgets/controls",
            "_model_module_version": "1.5.0",
            "_model_name": "HBoxModel",
            "_view_count": null,
            "_view_module": "@jupyter-widgets/controls",
            "_view_module_version": "1.5.0",
            "_view_name": "HBoxView",
            "box_style": "",
            "children": [
              "IPY_MODEL_7bed2dc515a94e8abbab5d50984d26ea",
              "IPY_MODEL_42d7eeb432004baf8fddcc4d1118b709",
              "IPY_MODEL_52ee8e3a02cf4c938d4999c1c2a2c462"
            ],
            "layout": "IPY_MODEL_f64aa72cae0849f88477da29adb34597"
          }
        },
        "7bed2dc515a94e8abbab5d50984d26ea": {
          "model_module": "@jupyter-widgets/controls",
          "model_name": "HTMLModel",
          "model_module_version": "1.5.0",
          "state": {
            "_dom_classes": [],
            "_model_module": "@jupyter-widgets/controls",
            "_model_module_version": "1.5.0",
            "_model_name": "HTMLModel",
            "_view_count": null,
            "_view_module": "@jupyter-widgets/controls",
            "_view_module_version": "1.5.0",
            "_view_name": "HTMLView",
            "description": "",
            "description_tooltip": null,
            "layout": "IPY_MODEL_50e64b157c934df88b354354e8d6f529",
            "placeholder": "​",
            "style": "IPY_MODEL_91275b17ee4f4b989a6997982f80b140",
            "value": "100%"
          }
        },
        "42d7eeb432004baf8fddcc4d1118b709": {
          "model_module": "@jupyter-widgets/controls",
          "model_name": "FloatProgressModel",
          "model_module_version": "1.5.0",
          "state": {
            "_dom_classes": [],
            "_model_module": "@jupyter-widgets/controls",
            "_model_module_version": "1.5.0",
            "_model_name": "FloatProgressModel",
            "_view_count": null,
            "_view_module": "@jupyter-widgets/controls",
            "_view_module_version": "1.5.0",
            "_view_name": "ProgressView",
            "bar_style": "success",
            "description": "",
            "description_tooltip": null,
            "layout": "IPY_MODEL_1516e1880b0a46fdb87d21d700bf356a",
            "max": 558,
            "min": 0,
            "orientation": "horizontal",
            "style": "IPY_MODEL_eb8b8fd14f20409697dc1ca866634a4e",
            "value": 558
          }
        },
        "52ee8e3a02cf4c938d4999c1c2a2c462": {
          "model_module": "@jupyter-widgets/controls",
          "model_name": "HTMLModel",
          "model_module_version": "1.5.0",
          "state": {
            "_dom_classes": [],
            "_model_module": "@jupyter-widgets/controls",
            "_model_module_version": "1.5.0",
            "_model_name": "HTMLModel",
            "_view_count": null,
            "_view_module": "@jupyter-widgets/controls",
            "_view_module_version": "1.5.0",
            "_view_name": "HTMLView",
            "description": "",
            "description_tooltip": null,
            "layout": "IPY_MODEL_f733311820b84b8a98680c0aa9e47504",
            "placeholder": "​",
            "style": "IPY_MODEL_a7686fc29f3e4c9189387acb2d39dbef",
            "value": " 558/558 [00:03&lt;00:00, 182.71ex/s]"
          }
        },
        "f64aa72cae0849f88477da29adb34597": {
          "model_module": "@jupyter-widgets/base",
          "model_name": "LayoutModel",
          "model_module_version": "1.2.0",
          "state": {
            "_model_module": "@jupyter-widgets/base",
            "_model_module_version": "1.2.0",
            "_model_name": "LayoutModel",
            "_view_count": null,
            "_view_module": "@jupyter-widgets/base",
            "_view_module_version": "1.2.0",
            "_view_name": "LayoutView",
            "align_content": null,
            "align_items": null,
            "align_self": null,
            "border": null,
            "bottom": null,
            "display": null,
            "flex": null,
            "flex_flow": null,
            "grid_area": null,
            "grid_auto_columns": null,
            "grid_auto_flow": null,
            "grid_auto_rows": null,
            "grid_column": null,
            "grid_gap": null,
            "grid_row": null,
            "grid_template_areas": null,
            "grid_template_columns": null,
            "grid_template_rows": null,
            "height": null,
            "justify_content": null,
            "justify_items": null,
            "left": null,
            "margin": null,
            "max_height": null,
            "max_width": null,
            "min_height": null,
            "min_width": null,
            "object_fit": null,
            "object_position": null,
            "order": null,
            "overflow": null,
            "overflow_x": null,
            "overflow_y": null,
            "padding": null,
            "right": null,
            "top": null,
            "visibility": null,
            "width": null
          }
        },
        "50e64b157c934df88b354354e8d6f529": {
          "model_module": "@jupyter-widgets/base",
          "model_name": "LayoutModel",
          "model_module_version": "1.2.0",
          "state": {
            "_model_module": "@jupyter-widgets/base",
            "_model_module_version": "1.2.0",
            "_model_name": "LayoutModel",
            "_view_count": null,
            "_view_module": "@jupyter-widgets/base",
            "_view_module_version": "1.2.0",
            "_view_name": "LayoutView",
            "align_content": null,
            "align_items": null,
            "align_self": null,
            "border": null,
            "bottom": null,
            "display": null,
            "flex": null,
            "flex_flow": null,
            "grid_area": null,
            "grid_auto_columns": null,
            "grid_auto_flow": null,
            "grid_auto_rows": null,
            "grid_column": null,
            "grid_gap": null,
            "grid_row": null,
            "grid_template_areas": null,
            "grid_template_columns": null,
            "grid_template_rows": null,
            "height": null,
            "justify_content": null,
            "justify_items": null,
            "left": null,
            "margin": null,
            "max_height": null,
            "max_width": null,
            "min_height": null,
            "min_width": null,
            "object_fit": null,
            "object_position": null,
            "order": null,
            "overflow": null,
            "overflow_x": null,
            "overflow_y": null,
            "padding": null,
            "right": null,
            "top": null,
            "visibility": null,
            "width": null
          }
        },
        "91275b17ee4f4b989a6997982f80b140": {
          "model_module": "@jupyter-widgets/controls",
          "model_name": "DescriptionStyleModel",
          "model_module_version": "1.5.0",
          "state": {
            "_model_module": "@jupyter-widgets/controls",
            "_model_module_version": "1.5.0",
            "_model_name": "DescriptionStyleModel",
            "_view_count": null,
            "_view_module": "@jupyter-widgets/base",
            "_view_module_version": "1.2.0",
            "_view_name": "StyleView",
            "description_width": ""
          }
        },
        "1516e1880b0a46fdb87d21d700bf356a": {
          "model_module": "@jupyter-widgets/base",
          "model_name": "LayoutModel",
          "model_module_version": "1.2.0",
          "state": {
            "_model_module": "@jupyter-widgets/base",
            "_model_module_version": "1.2.0",
            "_model_name": "LayoutModel",
            "_view_count": null,
            "_view_module": "@jupyter-widgets/base",
            "_view_module_version": "1.2.0",
            "_view_name": "LayoutView",
            "align_content": null,
            "align_items": null,
            "align_self": null,
            "border": null,
            "bottom": null,
            "display": null,
            "flex": null,
            "flex_flow": null,
            "grid_area": null,
            "grid_auto_columns": null,
            "grid_auto_flow": null,
            "grid_auto_rows": null,
            "grid_column": null,
            "grid_gap": null,
            "grid_row": null,
            "grid_template_areas": null,
            "grid_template_columns": null,
            "grid_template_rows": null,
            "height": null,
            "justify_content": null,
            "justify_items": null,
            "left": null,
            "margin": null,
            "max_height": null,
            "max_width": null,
            "min_height": null,
            "min_width": null,
            "object_fit": null,
            "object_position": null,
            "order": null,
            "overflow": null,
            "overflow_x": null,
            "overflow_y": null,
            "padding": null,
            "right": null,
            "top": null,
            "visibility": null,
            "width": null
          }
        },
        "eb8b8fd14f20409697dc1ca866634a4e": {
          "model_module": "@jupyter-widgets/controls",
          "model_name": "ProgressStyleModel",
          "model_module_version": "1.5.0",
          "state": {
            "_model_module": "@jupyter-widgets/controls",
            "_model_module_version": "1.5.0",
            "_model_name": "ProgressStyleModel",
            "_view_count": null,
            "_view_module": "@jupyter-widgets/base",
            "_view_module_version": "1.2.0",
            "_view_name": "StyleView",
            "bar_color": null,
            "description_width": ""
          }
        },
        "f733311820b84b8a98680c0aa9e47504": {
          "model_module": "@jupyter-widgets/base",
          "model_name": "LayoutModel",
          "model_module_version": "1.2.0",
          "state": {
            "_model_module": "@jupyter-widgets/base",
            "_model_module_version": "1.2.0",
            "_model_name": "LayoutModel",
            "_view_count": null,
            "_view_module": "@jupyter-widgets/base",
            "_view_module_version": "1.2.0",
            "_view_name": "LayoutView",
            "align_content": null,
            "align_items": null,
            "align_self": null,
            "border": null,
            "bottom": null,
            "display": null,
            "flex": null,
            "flex_flow": null,
            "grid_area": null,
            "grid_auto_columns": null,
            "grid_auto_flow": null,
            "grid_auto_rows": null,
            "grid_column": null,
            "grid_gap": null,
            "grid_row": null,
            "grid_template_areas": null,
            "grid_template_columns": null,
            "grid_template_rows": null,
            "height": null,
            "justify_content": null,
            "justify_items": null,
            "left": null,
            "margin": null,
            "max_height": null,
            "max_width": null,
            "min_height": null,
            "min_width": null,
            "object_fit": null,
            "object_position": null,
            "order": null,
            "overflow": null,
            "overflow_x": null,
            "overflow_y": null,
            "padding": null,
            "right": null,
            "top": null,
            "visibility": null,
            "width": null
          }
        },
        "a7686fc29f3e4c9189387acb2d39dbef": {
          "model_module": "@jupyter-widgets/controls",
          "model_name": "DescriptionStyleModel",
          "model_module_version": "1.5.0",
          "state": {
            "_model_module": "@jupyter-widgets/controls",
            "_model_module_version": "1.5.0",
            "_model_name": "DescriptionStyleModel",
            "_view_count": null,
            "_view_module": "@jupyter-widgets/base",
            "_view_module_version": "1.2.0",
            "_view_name": "StyleView",
            "description_width": ""
          }
        },
        "689daac118d242dc99c6963da11b7ad6": {
          "model_module": "@jupyter-widgets/controls",
          "model_name": "HBoxModel",
          "model_module_version": "1.5.0",
          "state": {
            "_dom_classes": [],
            "_model_module": "@jupyter-widgets/controls",
            "_model_module_version": "1.5.0",
            "_model_name": "HBoxModel",
            "_view_count": null,
            "_view_module": "@jupyter-widgets/controls",
            "_view_module_version": "1.5.0",
            "_view_name": "HBoxView",
            "box_style": "",
            "children": [
              "IPY_MODEL_77a95751425d428599112d2b4fd92269",
              "IPY_MODEL_3e72617ee4ed42fcaabe80ac1477f532",
              "IPY_MODEL_cb88a9d3b6604f66b0328234dad266c4"
            ],
            "layout": "IPY_MODEL_aadd078d81fb4b6a83062e7e3c0c7f94"
          }
        },
        "77a95751425d428599112d2b4fd92269": {
          "model_module": "@jupyter-widgets/controls",
          "model_name": "HTMLModel",
          "model_module_version": "1.5.0",
          "state": {
            "_dom_classes": [],
            "_model_module": "@jupyter-widgets/controls",
            "_model_module_version": "1.5.0",
            "_model_name": "HTMLModel",
            "_view_count": null,
            "_view_module": "@jupyter-widgets/controls",
            "_view_module_version": "1.5.0",
            "_view_name": "HTMLView",
            "description": "",
            "description_tooltip": null,
            "layout": "IPY_MODEL_b7a8714e81774751b90a3fa600048a1e",
            "placeholder": "​",
            "style": "IPY_MODEL_5e567fde6e6849068eb5009d48a0779c",
            "value": "100%"
          }
        },
        "3e72617ee4ed42fcaabe80ac1477f532": {
          "model_module": "@jupyter-widgets/controls",
          "model_name": "FloatProgressModel",
          "model_module_version": "1.5.0",
          "state": {
            "_dom_classes": [],
            "_model_module": "@jupyter-widgets/controls",
            "_model_module_version": "1.5.0",
            "_model_name": "FloatProgressModel",
            "_view_count": null,
            "_view_module": "@jupyter-widgets/controls",
            "_view_module_version": "1.5.0",
            "_view_name": "ProgressView",
            "bar_style": "success",
            "description": "",
            "description_tooltip": null,
            "layout": "IPY_MODEL_387d84c7231b476b96dd811d02215836",
            "max": 2230,
            "min": 0,
            "orientation": "horizontal",
            "style": "IPY_MODEL_8193e2d2bea548c0a202447db10e5cc4",
            "value": 2230
          }
        },
        "cb88a9d3b6604f66b0328234dad266c4": {
          "model_module": "@jupyter-widgets/controls",
          "model_name": "HTMLModel",
          "model_module_version": "1.5.0",
          "state": {
            "_dom_classes": [],
            "_model_module": "@jupyter-widgets/controls",
            "_model_module_version": "1.5.0",
            "_model_name": "HTMLModel",
            "_view_count": null,
            "_view_module": "@jupyter-widgets/controls",
            "_view_module_version": "1.5.0",
            "_view_name": "HTMLView",
            "description": "",
            "description_tooltip": null,
            "layout": "IPY_MODEL_0cefeed2a9594577b7405b2f8bd2e5ab",
            "placeholder": "​",
            "style": "IPY_MODEL_7e827c0dbe914af990a1e46b7752553f",
            "value": " 2230/2230 [00:05&lt;00:00, 465.25ex/s]"
          }
        },
        "aadd078d81fb4b6a83062e7e3c0c7f94": {
          "model_module": "@jupyter-widgets/base",
          "model_name": "LayoutModel",
          "model_module_version": "1.2.0",
          "state": {
            "_model_module": "@jupyter-widgets/base",
            "_model_module_version": "1.2.0",
            "_model_name": "LayoutModel",
            "_view_count": null,
            "_view_module": "@jupyter-widgets/base",
            "_view_module_version": "1.2.0",
            "_view_name": "LayoutView",
            "align_content": null,
            "align_items": null,
            "align_self": null,
            "border": null,
            "bottom": null,
            "display": null,
            "flex": null,
            "flex_flow": null,
            "grid_area": null,
            "grid_auto_columns": null,
            "grid_auto_flow": null,
            "grid_auto_rows": null,
            "grid_column": null,
            "grid_gap": null,
            "grid_row": null,
            "grid_template_areas": null,
            "grid_template_columns": null,
            "grid_template_rows": null,
            "height": null,
            "justify_content": null,
            "justify_items": null,
            "left": null,
            "margin": null,
            "max_height": null,
            "max_width": null,
            "min_height": null,
            "min_width": null,
            "object_fit": null,
            "object_position": null,
            "order": null,
            "overflow": null,
            "overflow_x": null,
            "overflow_y": null,
            "padding": null,
            "right": null,
            "top": null,
            "visibility": null,
            "width": null
          }
        },
        "b7a8714e81774751b90a3fa600048a1e": {
          "model_module": "@jupyter-widgets/base",
          "model_name": "LayoutModel",
          "model_module_version": "1.2.0",
          "state": {
            "_model_module": "@jupyter-widgets/base",
            "_model_module_version": "1.2.0",
            "_model_name": "LayoutModel",
            "_view_count": null,
            "_view_module": "@jupyter-widgets/base",
            "_view_module_version": "1.2.0",
            "_view_name": "LayoutView",
            "align_content": null,
            "align_items": null,
            "align_self": null,
            "border": null,
            "bottom": null,
            "display": null,
            "flex": null,
            "flex_flow": null,
            "grid_area": null,
            "grid_auto_columns": null,
            "grid_auto_flow": null,
            "grid_auto_rows": null,
            "grid_column": null,
            "grid_gap": null,
            "grid_row": null,
            "grid_template_areas": null,
            "grid_template_columns": null,
            "grid_template_rows": null,
            "height": null,
            "justify_content": null,
            "justify_items": null,
            "left": null,
            "margin": null,
            "max_height": null,
            "max_width": null,
            "min_height": null,
            "min_width": null,
            "object_fit": null,
            "object_position": null,
            "order": null,
            "overflow": null,
            "overflow_x": null,
            "overflow_y": null,
            "padding": null,
            "right": null,
            "top": null,
            "visibility": null,
            "width": null
          }
        },
        "5e567fde6e6849068eb5009d48a0779c": {
          "model_module": "@jupyter-widgets/controls",
          "model_name": "DescriptionStyleModel",
          "model_module_version": "1.5.0",
          "state": {
            "_model_module": "@jupyter-widgets/controls",
            "_model_module_version": "1.5.0",
            "_model_name": "DescriptionStyleModel",
            "_view_count": null,
            "_view_module": "@jupyter-widgets/base",
            "_view_module_version": "1.2.0",
            "_view_name": "StyleView",
            "description_width": ""
          }
        },
        "387d84c7231b476b96dd811d02215836": {
          "model_module": "@jupyter-widgets/base",
          "model_name": "LayoutModel",
          "model_module_version": "1.2.0",
          "state": {
            "_model_module": "@jupyter-widgets/base",
            "_model_module_version": "1.2.0",
            "_model_name": "LayoutModel",
            "_view_count": null,
            "_view_module": "@jupyter-widgets/base",
            "_view_module_version": "1.2.0",
            "_view_name": "LayoutView",
            "align_content": null,
            "align_items": null,
            "align_self": null,
            "border": null,
            "bottom": null,
            "display": null,
            "flex": null,
            "flex_flow": null,
            "grid_area": null,
            "grid_auto_columns": null,
            "grid_auto_flow": null,
            "grid_auto_rows": null,
            "grid_column": null,
            "grid_gap": null,
            "grid_row": null,
            "grid_template_areas": null,
            "grid_template_columns": null,
            "grid_template_rows": null,
            "height": null,
            "justify_content": null,
            "justify_items": null,
            "left": null,
            "margin": null,
            "max_height": null,
            "max_width": null,
            "min_height": null,
            "min_width": null,
            "object_fit": null,
            "object_position": null,
            "order": null,
            "overflow": null,
            "overflow_x": null,
            "overflow_y": null,
            "padding": null,
            "right": null,
            "top": null,
            "visibility": null,
            "width": null
          }
        },
        "8193e2d2bea548c0a202447db10e5cc4": {
          "model_module": "@jupyter-widgets/controls",
          "model_name": "ProgressStyleModel",
          "model_module_version": "1.5.0",
          "state": {
            "_model_module": "@jupyter-widgets/controls",
            "_model_module_version": "1.5.0",
            "_model_name": "ProgressStyleModel",
            "_view_count": null,
            "_view_module": "@jupyter-widgets/base",
            "_view_module_version": "1.2.0",
            "_view_name": "StyleView",
            "bar_color": null,
            "description_width": ""
          }
        },
        "0cefeed2a9594577b7405b2f8bd2e5ab": {
          "model_module": "@jupyter-widgets/base",
          "model_name": "LayoutModel",
          "model_module_version": "1.2.0",
          "state": {
            "_model_module": "@jupyter-widgets/base",
            "_model_module_version": "1.2.0",
            "_model_name": "LayoutModel",
            "_view_count": null,
            "_view_module": "@jupyter-widgets/base",
            "_view_module_version": "1.2.0",
            "_view_name": "LayoutView",
            "align_content": null,
            "align_items": null,
            "align_self": null,
            "border": null,
            "bottom": null,
            "display": null,
            "flex": null,
            "flex_flow": null,
            "grid_area": null,
            "grid_auto_columns": null,
            "grid_auto_flow": null,
            "grid_auto_rows": null,
            "grid_column": null,
            "grid_gap": null,
            "grid_row": null,
            "grid_template_areas": null,
            "grid_template_columns": null,
            "grid_template_rows": null,
            "height": null,
            "justify_content": null,
            "justify_items": null,
            "left": null,
            "margin": null,
            "max_height": null,
            "max_width": null,
            "min_height": null,
            "min_width": null,
            "object_fit": null,
            "object_position": null,
            "order": null,
            "overflow": null,
            "overflow_x": null,
            "overflow_y": null,
            "padding": null,
            "right": null,
            "top": null,
            "visibility": null,
            "width": null
          }
        },
        "7e827c0dbe914af990a1e46b7752553f": {
          "model_module": "@jupyter-widgets/controls",
          "model_name": "DescriptionStyleModel",
          "model_module_version": "1.5.0",
          "state": {
            "_model_module": "@jupyter-widgets/controls",
            "_model_module_version": "1.5.0",
            "_model_name": "DescriptionStyleModel",
            "_view_count": null,
            "_view_module": "@jupyter-widgets/base",
            "_view_module_version": "1.2.0",
            "_view_name": "StyleView",
            "description_width": ""
          }
        },
        "144746418782469eb14515636e81b28d": {
          "model_module": "@jupyter-widgets/controls",
          "model_name": "HBoxModel",
          "model_module_version": "1.5.0",
          "state": {
            "_dom_classes": [],
            "_model_module": "@jupyter-widgets/controls",
            "_model_module_version": "1.5.0",
            "_model_name": "HBoxModel",
            "_view_count": null,
            "_view_module": "@jupyter-widgets/controls",
            "_view_module_version": "1.5.0",
            "_view_name": "HBoxView",
            "box_style": "",
            "children": [
              "IPY_MODEL_b09284d32df6415ca190e22489c44656",
              "IPY_MODEL_ff3773488c4b4d12919e8b86a1c97c67",
              "IPY_MODEL_2cf3bc30de0e41c8b7979d7865b345f1"
            ],
            "layout": "IPY_MODEL_65fe680b625e46a9b2c589f12638fbf8"
          }
        },
        "b09284d32df6415ca190e22489c44656": {
          "model_module": "@jupyter-widgets/controls",
          "model_name": "HTMLModel",
          "model_module_version": "1.5.0",
          "state": {
            "_dom_classes": [],
            "_model_module": "@jupyter-widgets/controls",
            "_model_module_version": "1.5.0",
            "_model_name": "HTMLModel",
            "_view_count": null,
            "_view_module": "@jupyter-widgets/controls",
            "_view_module_version": "1.5.0",
            "_view_name": "HTMLView",
            "description": "",
            "description_tooltip": null,
            "layout": "IPY_MODEL_99c739ca2d34453989775fb42c2254e1",
            "placeholder": "​",
            "style": "IPY_MODEL_eeb8f369c6754bd684d6d0468844db10",
            "value": "100%"
          }
        },
        "ff3773488c4b4d12919e8b86a1c97c67": {
          "model_module": "@jupyter-widgets/controls",
          "model_name": "FloatProgressModel",
          "model_module_version": "1.5.0",
          "state": {
            "_dom_classes": [],
            "_model_module": "@jupyter-widgets/controls",
            "_model_module_version": "1.5.0",
            "_model_name": "FloatProgressModel",
            "_view_count": null,
            "_view_module": "@jupyter-widgets/controls",
            "_view_module_version": "1.5.0",
            "_view_name": "ProgressView",
            "bar_style": "success",
            "description": "",
            "description_tooltip": null,
            "layout": "IPY_MODEL_d4a9e9e0714d4b73917f547eb6a6226c",
            "max": 558,
            "min": 0,
            "orientation": "horizontal",
            "style": "IPY_MODEL_9a0f38796f6649bab4e9815be2796c17",
            "value": 558
          }
        },
        "2cf3bc30de0e41c8b7979d7865b345f1": {
          "model_module": "@jupyter-widgets/controls",
          "model_name": "HTMLModel",
          "model_module_version": "1.5.0",
          "state": {
            "_dom_classes": [],
            "_model_module": "@jupyter-widgets/controls",
            "_model_module_version": "1.5.0",
            "_model_name": "HTMLModel",
            "_view_count": null,
            "_view_module": "@jupyter-widgets/controls",
            "_view_module_version": "1.5.0",
            "_view_name": "HTMLView",
            "description": "",
            "description_tooltip": null,
            "layout": "IPY_MODEL_7d1ac6bcf6a446a3a771338b6c9e34e0",
            "placeholder": "​",
            "style": "IPY_MODEL_db2ea7b9ed974f898fb6cbefcdc35bd1",
            "value": " 558/558 [00:00&lt;00:00, 1080.99ex/s]"
          }
        },
        "65fe680b625e46a9b2c589f12638fbf8": {
          "model_module": "@jupyter-widgets/base",
          "model_name": "LayoutModel",
          "model_module_version": "1.2.0",
          "state": {
            "_model_module": "@jupyter-widgets/base",
            "_model_module_version": "1.2.0",
            "_model_name": "LayoutModel",
            "_view_count": null,
            "_view_module": "@jupyter-widgets/base",
            "_view_module_version": "1.2.0",
            "_view_name": "LayoutView",
            "align_content": null,
            "align_items": null,
            "align_self": null,
            "border": null,
            "bottom": null,
            "display": null,
            "flex": null,
            "flex_flow": null,
            "grid_area": null,
            "grid_auto_columns": null,
            "grid_auto_flow": null,
            "grid_auto_rows": null,
            "grid_column": null,
            "grid_gap": null,
            "grid_row": null,
            "grid_template_areas": null,
            "grid_template_columns": null,
            "grid_template_rows": null,
            "height": null,
            "justify_content": null,
            "justify_items": null,
            "left": null,
            "margin": null,
            "max_height": null,
            "max_width": null,
            "min_height": null,
            "min_width": null,
            "object_fit": null,
            "object_position": null,
            "order": null,
            "overflow": null,
            "overflow_x": null,
            "overflow_y": null,
            "padding": null,
            "right": null,
            "top": null,
            "visibility": null,
            "width": null
          }
        },
        "99c739ca2d34453989775fb42c2254e1": {
          "model_module": "@jupyter-widgets/base",
          "model_name": "LayoutModel",
          "model_module_version": "1.2.0",
          "state": {
            "_model_module": "@jupyter-widgets/base",
            "_model_module_version": "1.2.0",
            "_model_name": "LayoutModel",
            "_view_count": null,
            "_view_module": "@jupyter-widgets/base",
            "_view_module_version": "1.2.0",
            "_view_name": "LayoutView",
            "align_content": null,
            "align_items": null,
            "align_self": null,
            "border": null,
            "bottom": null,
            "display": null,
            "flex": null,
            "flex_flow": null,
            "grid_area": null,
            "grid_auto_columns": null,
            "grid_auto_flow": null,
            "grid_auto_rows": null,
            "grid_column": null,
            "grid_gap": null,
            "grid_row": null,
            "grid_template_areas": null,
            "grid_template_columns": null,
            "grid_template_rows": null,
            "height": null,
            "justify_content": null,
            "justify_items": null,
            "left": null,
            "margin": null,
            "max_height": null,
            "max_width": null,
            "min_height": null,
            "min_width": null,
            "object_fit": null,
            "object_position": null,
            "order": null,
            "overflow": null,
            "overflow_x": null,
            "overflow_y": null,
            "padding": null,
            "right": null,
            "top": null,
            "visibility": null,
            "width": null
          }
        },
        "eeb8f369c6754bd684d6d0468844db10": {
          "model_module": "@jupyter-widgets/controls",
          "model_name": "DescriptionStyleModel",
          "model_module_version": "1.5.0",
          "state": {
            "_model_module": "@jupyter-widgets/controls",
            "_model_module_version": "1.5.0",
            "_model_name": "DescriptionStyleModel",
            "_view_count": null,
            "_view_module": "@jupyter-widgets/base",
            "_view_module_version": "1.2.0",
            "_view_name": "StyleView",
            "description_width": ""
          }
        },
        "d4a9e9e0714d4b73917f547eb6a6226c": {
          "model_module": "@jupyter-widgets/base",
          "model_name": "LayoutModel",
          "model_module_version": "1.2.0",
          "state": {
            "_model_module": "@jupyter-widgets/base",
            "_model_module_version": "1.2.0",
            "_model_name": "LayoutModel",
            "_view_count": null,
            "_view_module": "@jupyter-widgets/base",
            "_view_module_version": "1.2.0",
            "_view_name": "LayoutView",
            "align_content": null,
            "align_items": null,
            "align_self": null,
            "border": null,
            "bottom": null,
            "display": null,
            "flex": null,
            "flex_flow": null,
            "grid_area": null,
            "grid_auto_columns": null,
            "grid_auto_flow": null,
            "grid_auto_rows": null,
            "grid_column": null,
            "grid_gap": null,
            "grid_row": null,
            "grid_template_areas": null,
            "grid_template_columns": null,
            "grid_template_rows": null,
            "height": null,
            "justify_content": null,
            "justify_items": null,
            "left": null,
            "margin": null,
            "max_height": null,
            "max_width": null,
            "min_height": null,
            "min_width": null,
            "object_fit": null,
            "object_position": null,
            "order": null,
            "overflow": null,
            "overflow_x": null,
            "overflow_y": null,
            "padding": null,
            "right": null,
            "top": null,
            "visibility": null,
            "width": null
          }
        },
        "9a0f38796f6649bab4e9815be2796c17": {
          "model_module": "@jupyter-widgets/controls",
          "model_name": "ProgressStyleModel",
          "model_module_version": "1.5.0",
          "state": {
            "_model_module": "@jupyter-widgets/controls",
            "_model_module_version": "1.5.0",
            "_model_name": "ProgressStyleModel",
            "_view_count": null,
            "_view_module": "@jupyter-widgets/base",
            "_view_module_version": "1.2.0",
            "_view_name": "StyleView",
            "bar_color": null,
            "description_width": ""
          }
        },
        "7d1ac6bcf6a446a3a771338b6c9e34e0": {
          "model_module": "@jupyter-widgets/base",
          "model_name": "LayoutModel",
          "model_module_version": "1.2.0",
          "state": {
            "_model_module": "@jupyter-widgets/base",
            "_model_module_version": "1.2.0",
            "_model_name": "LayoutModel",
            "_view_count": null,
            "_view_module": "@jupyter-widgets/base",
            "_view_module_version": "1.2.0",
            "_view_name": "LayoutView",
            "align_content": null,
            "align_items": null,
            "align_self": null,
            "border": null,
            "bottom": null,
            "display": null,
            "flex": null,
            "flex_flow": null,
            "grid_area": null,
            "grid_auto_columns": null,
            "grid_auto_flow": null,
            "grid_auto_rows": null,
            "grid_column": null,
            "grid_gap": null,
            "grid_row": null,
            "grid_template_areas": null,
            "grid_template_columns": null,
            "grid_template_rows": null,
            "height": null,
            "justify_content": null,
            "justify_items": null,
            "left": null,
            "margin": null,
            "max_height": null,
            "max_width": null,
            "min_height": null,
            "min_width": null,
            "object_fit": null,
            "object_position": null,
            "order": null,
            "overflow": null,
            "overflow_x": null,
            "overflow_y": null,
            "padding": null,
            "right": null,
            "top": null,
            "visibility": null,
            "width": null
          }
        },
        "db2ea7b9ed974f898fb6cbefcdc35bd1": {
          "model_module": "@jupyter-widgets/controls",
          "model_name": "DescriptionStyleModel",
          "model_module_version": "1.5.0",
          "state": {
            "_model_module": "@jupyter-widgets/controls",
            "_model_module_version": "1.5.0",
            "_model_name": "DescriptionStyleModel",
            "_view_count": null,
            "_view_module": "@jupyter-widgets/base",
            "_view_module_version": "1.2.0",
            "_view_name": "StyleView",
            "description_width": ""
          }
        }
      }
    }
  },
  "cells": [
    {
      "cell_type": "markdown",
      "metadata": {
        "id": "view-in-github",
        "colab_type": "text"
      },
      "source": [
        "<a href=\"https://colab.research.google.com/github/TurkuNLP/register-DeepL/blob/main/register_multilabel.ipynb\" target=\"_parent\"><img src=\"https://colab.research.google.com/assets/colab-badge.svg\" alt=\"Open In Colab\"/></a>"
      ]
    },
    {
      "cell_type": "markdown",
      "source": [
        "Before running this notebook put the file in the directory."
      ],
      "metadata": {
        "id": "1LhWBKyS9WI0"
      }
    },
    {
      "cell_type": "code",
      "source": [
        "!wget -nc https://github.com/TurkuNLP/register-DeepL/blob/main/AfterDeepL/es_FINAL.tsv.gz # the repo is private so this does not work lol"
      ],
      "metadata": {
        "colab": {
          "base_uri": "https://localhost:8080/"
        },
        "id": "xBO2gmCI5tr_",
        "outputId": "3efa3b4d-e4ba-4784-fa93-a93e839e5ecc"
      },
      "execution_count": 1,
      "outputs": [
        {
          "output_type": "stream",
          "name": "stdout",
          "text": [
            "File ‘es_FINAL.tsv.gz’ already there; not retrieving.\n",
            "\n"
          ]
        }
      ]
    },
    {
      "cell_type": "code",
      "source": [
        "!pip3 install -q transformers datasets"
      ],
      "metadata": {
        "id": "La1ni9EJt1r5"
      },
      "execution_count": 2,
      "outputs": []
    },
    {
      "cell_type": "code",
      "execution_count": 3,
      "metadata": {
        "id": "W97WvJelte9M"
      },
      "outputs": [],
      "source": [
        "import transformers\n",
        "import datasets\n",
        "import gzip \n",
        "import random\n",
        "import re\n",
        "import json\n",
        "import torch\n",
        "\n",
        "from pprint import PrettyPrinter\n",
        "import logging\n",
        "pprint = PrettyPrinter(compact=True).pprint\n",
        "logging.disable(logging.INFO)"
      ]
    },
    {
      "cell_type": "code",
      "source": [
        "file_name = \"en_train.downsampled.tsv\"\n",
        "data=[]\n",
        "with open(file_name) as f:\n",
        "    for line in f:\n",
        "        #line = line.decode()\n",
        "        line=line.rstrip(\"\\n\")\n",
        "        if not line or line.startswith(\"#\"): #skip empty and comments (incl. header)\n",
        "            continue\n",
        "        cols=line.split(\"\\t\")\n",
        "        if len(cols)!=2: #skip weird lines that don't have the right number of columns\n",
        "            continue\n",
        "        data.append(cols)\n",
        "\n",
        "pprint(data[0])"
      ],
      "metadata": {
        "colab": {
          "base_uri": "https://localhost:8080/"
        },
        "id": "iBhPuid40fRJ",
        "outputId": "3a2cc653-8b44-443f-d75f-d5e688bb9873"
      },
      "execution_count": 4,
      "outputs": [
        {
          "output_type": "stream",
          "name": "stdout",
          "text": [
            "['NA OP',\n",
            " \"On Tuesday night, Sarah Palin dropped by Bill O'Reilly 's show to discuss \"\n",
            " 'some recent comments by Laura Ingraham , as well as the approach the '\n",
            " 'Romney/Ryan ticket should take in the home stretch of campaigning. Hammering '\n",
            " 'home the argument that Mitt Romney needs to be more aggressive, Palin '\n",
            " 'defined the election as a choice between \"free stuff or freedom.\" Asked '\n",
            " \"about Ingraham's remark that if the Republicans can't win this election, \"\n",
            " 'they should shut down the party, Palin, too, agreed that this is a election '\n",
            " \"that should be working in Romney's favor. Rush Limbaugh similarly said the \"\n",
            " \"president's reelection would signal the end of the GOP. The issue, she said, \"\n",
            " 'is that the message is getting across to voters. \"If you can\\'t get your '\n",
            " 'message through that filter of media, then we\\'re in a world of hurt,\" she '\n",
            " 'said. What Republicans are failing to do, she added, is explain that voters '\n",
            " 'have a choice: \"Free stuff or freedom. You cannot have both.\" To that point, '\n",
            " \"O'Reilly pondered whether it's possible the country's changed. With growing \"\n",
            " 'dependency on government programs, he said, perhaps voters will say they '\n",
            " 'want the free stuff. That they\\'re willing to sacrifice freedom. \"It\\'s '\n",
            " 'possible that we are so far down that road, yes,\" Palin replied. Then '\n",
            " \"speaking more specifically about campaign strategy, O'Reilly questioned \"\n",
            " 'whether Romney should go after President Barack Obama \"in a more personal '\n",
            " 'way.\" Whether he should use \"buzz words\" like \"incompetent,\" \"dangerous\" and '\n",
            " '\"socialist.\" Palin argued those aren\\'t buzz words -- they\\'re the truth. '\n",
            " 'And yes, he should: \"He needs to be severely aggressive in his '\n",
            " 'articulation.\" During the convention, O\\'Reilly remarked that Clint Eastwood '\n",
            " 'was the only speaker who get the president \"personally responsible\" for the '\n",
            " 'state of the country. It\\'s \"not about policies so much, it\\'s about him,\" '\n",
            " 'O\\'Reilly said. \"He\\'s a hardcore fill-in-the-blank.\" Go after Obama in \"a '\n",
            " 'more personal way\"? I wonder what that means? Republicans, explain exactly '\n",
            " 'what that means, please... ttp://twitter.com/Lompemann Lompe Leave it to '\n",
            " 'Sarah Palin to get the word salad out to the people. Anonymous Please Mitt '\n",
            " \"take Sarah Palin's advice Please please please... Anonymous Yes, because \"\n",
            " 'calling him a Communist that hates America and showing his \"terrorist fist '\n",
            " 'bump\" isn\\'t enough. Or maybe FOX didn\\'t get personnel enough when they '\n",
            " 'said he was a racist. Or them insinuating Obama was a \"thug\" when he hosted '\n",
            " '\\'radical\\' rappers like Common\". Yea....time to get more personal FOX. '\n",
            " \"Anonymous Bill O'Reilly seems to be enjoying himself trying to converse in \"\n",
            " \"serious tones with Fox's 'TV Reality Star', Sarah Palin... ...They are \"\n",
            " 'clearly and deeply concerned about Romney! Caribou \"QUIT\" BarbieT sp was on '\n",
            " 'the FOX NEWS tonight? Hold on, I have to change my avatar. Good god, this '\n",
            " 'chick will not go away. Anonymous Yes, look where that strategy has gotten '\n",
            " 'BillO and Sarah. Clearly the cream of their professions. Anonymous Hey Bill, '\n",
            " 'tell us about that sexual harassment case you settled out of court for more '\n",
            " \"than a million dollars. Oh I'm sorry, is that too personal? Go after Pres, \"\n",
            " 'Obama \"in a more personal way.\" Gee, wonder what THAT could possibly refer '\n",
            " 'to. \"...incompetent,\" \"dangerous\" and \"socialist.\" The very same thing you '\n",
            " 'did in less than a half term as Alaska\\'s \"governor?\" C\\'mon, Sarah, say the '\n",
            " \"thing you are dying to say. Billo won't, because he's a craven coward, he \"\n",
            " \"has a built-in excuse, you, Sarah, don't. Put up, Sarah, but you will never \"\n",
            " 'shut up, which is why Mitt will never get within a hundred miles of you. '\n",
            " 'ttp://twitter.com/veedahvandal veedahvandal smh..thats all i say..sad '\n",
            " 'Anonymous It really worked out well for Sarah Palin, who struggled with the '\n",
            " 'simplest of questions regarding any policy issues... Hours after Bill '\n",
            " \"O'Reilly accused her of a multimillion dollar shakedown attempt, a female \"\n",
            " 'Fox News producer fired back at the TV star, filing a lawsuit claiming that '\n",
            " 'he subjected her to repeated instances of sexual har']\n"
          ]
        }
      ]
    },
    {
      "cell_type": "code",
      "source": [
        "random.seed(1234) # remember to shuffle since the data is now in en,fi,swe,fre order\n",
        "random.shuffle(data) "
      ],
      "metadata": {
        "id": "N4FSpvtDIRPa"
      },
      "execution_count": 5,
      "outputs": []
    },
    {
      "cell_type": "code",
      "source": [
        "# get a list of all the unique labels in the data using set which does not allow duplicates\n",
        "\n",
        "labels = [one[0] for one in data]\n",
        "\n",
        "#this splits all of the labels into their own thing for multilabeling\n",
        "split_labels= []\n",
        "for labeled in labels:\n",
        "  labeleds = labeled.split()\n",
        "  for label in labeleds:\n",
        "    split_labels.append(label)\n",
        "print(split_labels[:10])\n",
        "\n",
        "labelset = set(split_labels) #split_labels\n",
        "unique_labels=list(labelset)\n",
        "\n",
        "# or make a label list from the picture which includes all the possibilities ? there should be 55 different but our dataset only has 43 which will do for now at least\n",
        "# format of the labels? base+sub together in the label list?\n",
        "\n",
        "texts= [one[1] for one in data]\n",
        "print(len(unique_labels)) \n",
        "print(unique_labels[:10])"
      ],
      "metadata": {
        "colab": {
          "base_uri": "https://localhost:8080/"
        },
        "id": "BI0rCcbz0sec",
        "outputId": "85c82d33-6dc2-472c-fd4d-c611edf71a6d"
      },
      "execution_count": 6,
      "outputs": [
        {
          "output_type": "stream",
          "name": "stdout",
          "text": [
            "['NA', 'IN', 'HI', 'LY', 'IP', 'ID', 'NA', 'IN', 'IP', 'NA']\n",
            "8\n",
            "['IP', 'IN', 'ID', 'OP', 'LY', 'HI', 'NA', 'SP']\n"
          ]
        }
      ]
    },
    {
      "cell_type": "code",
      "source": [
        "# split the labels into a list in the data\n",
        "for i in range(len(data)):\n",
        "  labeledlist = data[i][0]\n",
        "  lablist = labeledlist.split()\n",
        "  data[i][0] = lablist\n",
        "\n",
        "print(data[0][0])\n",
        "\n",
        "labels = [one[0] for one in data]\n",
        "print(labels[:10])"
      ],
      "metadata": {
        "colab": {
          "base_uri": "https://localhost:8080/"
        },
        "id": "Q6bkZqV_hU3W",
        "outputId": "b414d78d-a42b-4a5b-e9ce-f696f2aa260c"
      },
      "execution_count": 7,
      "outputs": [
        {
          "output_type": "stream",
          "name": "stdout",
          "text": [
            "['NA', 'IN']\n",
            "[['NA', 'IN'], ['HI'], ['LY'], ['IP'], ['ID'], ['NA', 'IN'], ['IP'], ['NA', 'OP'], ['IN', 'OP'], ['ID']]\n"
          ]
        }
      ]
    },
    {
      "cell_type": "code",
      "source": [
        "# indexlist = []\n",
        "# line = []\n",
        "# for i in range(len(data)):\n",
        "#   lab = data[i][0]\n",
        "#   for j in range(len(lab)):\n",
        "#     line.append(unique_labels.index(lab[j]))\n",
        "#   indexlist.append(line)\n",
        "#   line= []\n",
        "# print(indexlist[0])\n",
        "\n",
        "\n",
        "# then one-hot encode all the labels in the data?\n",
        "# I guess I could use pandas for this, first change everything to pandas format and then encode the labels\n",
        "\n",
        "import pandas as pd\n",
        "\n",
        "df = pd.DataFrame({\n",
        "    \"text\": texts,\n",
        "    \"labels\": labels\n",
        "})\n",
        "print(df)\n",
        "\n",
        "from sklearn.preprocessing import MultiLabelBinarizer\n",
        "mlb = MultiLabelBinarizer()\n",
        "yt = mlb.fit_transform(df.labels)\n",
        "print(yt[0])\n",
        "print(mlb.inverse_transform(yt[0].reshape(1,-1)))\n",
        "print(mlb.classes_)\n",
        "\n",
        "ytlist= []\n",
        "for labs in yt:\n",
        "  ytlist.append(labs)\n",
        "\n",
        "\n",
        "df = pd.DataFrame({\n",
        "    \"text\": texts,\n",
        "    \"labels\": ytlist\n",
        "})"
      ],
      "metadata": {
        "colab": {
          "base_uri": "https://localhost:8080/"
        },
        "id": "yRmIrPxVezz0",
        "outputId": "210f4f92-3b38-4f2a-d966-6b71e02db280"
      },
      "execution_count": 8,
      "outputs": [
        {
          "output_type": "stream",
          "name": "stdout",
          "text": [
            "                                                   text    labels\n",
            "0     Top Handset Maker Confirms Backdoor in One of ...  [NA, IN]\n",
            "1     Public speaking is something that most of us h...      [HI]\n",
            "2     Out On The Streets Lyrics Twisted Sister I wal...      [LY]\n",
            "3     What is it? The Diet Solution program was crea...      [IP]\n",
            "4     Small wrapper around a pre-existing HTTP clien...      [ID]\n",
            "...                                                 ...       ...\n",
            "2783  Lyla & Bertie Went To The Cotswolds We have ju...      [ID]\n",
            "2784  Search Revolution 2.0 Will Not Be Televised Wh...  [NA, OP]\n",
            "2785  Setting up a new company is fun, and part of t...      [IN]\n",
            "2786  Gadgets & Stuff Gil Scott-Heron \"The Last Holi...  [NA, OP]\n",
            "2787  The Bride Who Fell In Love With Her Husband ( ...      [IP]\n",
            "\n",
            "[2788 rows x 2 columns]\n",
            "[0 0 1 0 0 1 0 0]\n",
            "[('IN', 'NA')]\n",
            "['HI' 'ID' 'IN' 'IP' 'LY' 'NA' 'OP' 'SP']\n"
          ]
        }
      ]
    },
    {
      "cell_type": "code",
      "source": [
        "#print(df)\n",
        "dataset = datasets.Dataset.from_pandas(df)\n",
        "print(dataset)"
      ],
      "metadata": {
        "colab": {
          "base_uri": "https://localhost:8080/"
        },
        "id": "tmhh3XuoFNBI",
        "outputId": "58838bb3-addb-412a-b42f-c3824cf57e9b"
      },
      "execution_count": 9,
      "outputs": [
        {
          "output_type": "stream",
          "name": "stdout",
          "text": [
            "Dataset({\n",
            "    features: ['text', 'labels'],\n",
            "    num_rows: 2788\n",
            "})\n"
          ]
        }
      ]
    },
    {
      "cell_type": "code",
      "source": [
        "# with open(\"translated-register-data.jsonl\", \"wt\") as f:\n",
        "#     for cols, labs in zip(data, yt):\n",
        "#         item = {\n",
        "#             \"text\": cols[1],\n",
        "#             \"labels\": labs.tolist() #labs #unique_labels.index(cols[0]),\n",
        "#              # change this to have the binary one-hot encoded list of the labels, or a list of the labels => anyway a list\n",
        "#         }\n",
        "#         print(json.dumps(item,ensure_ascii=False,sort_keys=True),file=f)"
      ],
      "metadata": {
        "id": "wzqyT4Hg00dt"
      },
      "execution_count": 10,
      "outputs": []
    },
    {
      "cell_type": "code",
      "source": [
        "# Dataset_ready = \"\"\n",
        "# for label in unique_labels:\n",
        "#   label = \"\\\"\" + label + \"\\\"\"\n",
        "#   Dataset_ready = Dataset_ready + label +\": datasets.Value(\\\"int64\\\"), \"\n",
        "\n",
        "# pprint(Dataset_ready)\n",
        "\n",
        "# # this makes the dataset ready to receive encoded data"
      ],
      "metadata": {
        "id": "svFwaeTUyncg"
      },
      "execution_count": 11,
      "outputs": []
    },
    {
      "cell_type": "code",
      "source": [
        "# file = \"translated-register-data.jsonl\"\n",
        "# dataset = datasets.load_dataset(\n",
        "#     'json',                             \n",
        "#     data_files={\"everything\":file}, # I need the test set from Veronika? ask Filip and Veronika\n",
        "#     split={\n",
        "#         \"train\":\"everything[:80%]\",  \n",
        "#         \"validation\":\"everything[80%:90%]\",   \n",
        "#         \"test\":\"everything[90%:]\"    \n",
        "#     }#,\n",
        "#     # features=datasets.Features({\n",
        "#     #     \"text\":datasets.Value(\"string\")   # glad I found out that this works even without the features specifically mentioned, huggingface documentation mentioned they were optional\n",
        "#     # })\n",
        "# )\n",
        "\n",
        "#         # \"labels\":datasets.Sequence(datasets.ClassLabel(names=unique_labels)}), #datasets.ClassLabel(names=unique_labels), \n",
        "#         # # change this somehow to take all labels into account??? => datasets.Sequence(feature={}) that should include all the label features I want to give\n",
        "\n",
        "# dataset     "
      ],
      "metadata": {
        "id": "XcL0B9NS2hes"
      },
      "execution_count": 12,
      "outputs": []
    },
    {
      "cell_type": "code",
      "source": [
        "dataset = dataset.train_test_split(test_size=0.2)\n",
        "print(dataset)"
      ],
      "metadata": {
        "colab": {
          "base_uri": "https://localhost:8080/"
        },
        "id": "bK0uo07IHSWz",
        "outputId": "9dbce59d-0e39-40f7-8134-33d1b0061d64"
      },
      "execution_count": 13,
      "outputs": [
        {
          "output_type": "stream",
          "name": "stdout",
          "text": [
            "DatasetDict({\n",
            "    train: Dataset({\n",
            "        features: ['text', 'labels'],\n",
            "        num_rows: 2230\n",
            "    })\n",
            "    test: Dataset({\n",
            "        features: ['text', 'labels'],\n",
            "        num_rows: 558\n",
            "    })\n",
            "})\n"
          ]
        }
      ]
    },
    {
      "cell_type": "code",
      "source": [
        "print(dataset[\"train\"][0])"
      ],
      "metadata": {
        "colab": {
          "base_uri": "https://localhost:8080/"
        },
        "id": "UdNwnFN0aZxX",
        "outputId": "5e264dec-0db3-48d3-c3af-0f3b69affc7e"
      },
      "execution_count": 14,
      "outputs": [
        {
          "output_type": "stream",
          "name": "stdout",
          "text": [
            "{'text': 'Cookies on The Couple Connection: The couple connection uses cookies to ensure that we give you the best experience on our website. If you continue to use the couple connection, we will assume that you are happy to receive all cookies from this site. Having an affair but can\\'t leave marriage I really need someone to put my life back on track, to turn me back into the mother and wife I once was... a year ago, all that matters to me was my family whom I took pride in and would do a lot for them without expecting anything in return. After all, love is unconditional and as a mother, its my job to love, care and protect them. I didn\\'t even ask a lot from my husband nor did he expect a lot from me. We were just in a good marriage, hardly any arguments between us and we took pride in our parenting and are proud of our beautiful, bright children. It all started when a single dad at school confessed to me that he finds me attractive and admitted fancying me for a while. It all came as a big surprise to me as I do not expect a mum like me to still have \"admirers\". Although I turned him down but since then my confidence grew and I started enjoying the fact that I can still attract male attention. Six months ago, I met William. I was very much attracted to him, physically and sexually. We started off texting back and forth, first with light and gentle flirting. We met up for a few drinks now and again and have a good time laughing and flirting. Then it soon developed into a bit more and more and then more. I am not one into casual flings or reckless, irresponsible behaviour but then suddenly before I realise, I found myself having an affair with William. A proper full blown affair. By the time I asked myself \"what have I done?\", it was too late. I have already slept with him. I know it was all principally and morally wrong. I know I have done something very bad and my husband would not forgive me if he knows what had happened. I asked myself what do I want from this relationship with William? Is it just purely for sex? Physically, we both look good together and we are both in lust with each other although William said its not just about that. He said he cares about me and wanted to see me every weekend. He kept telling me he misses me whenever he is not with me and he would send me daily texts messages which were all very sweet to read. I thought I was falling for William because I can\\'t get him out of my mind and I really love being with him. I am so attracted to him that no one else can catch my attention because my heart and mind is just set on him alone. The problem is I can\\'t seem to leave my marriage because I don\\'t want to break my family apart and let my kids and husband down. What I have is beautiful and to destroy it could be the biggest mistake and regret in my life. Yet I can\\'t stop contact with William no matter how hard I tried, I always ended up going back to him again and again. It is like an addiction. Maybe I am in love with him but I am just in self denial. Although William has told me he loves me but he doesnt convince me enough that our relationship has a future. Although I can see myself (on my own) with him but I can\\'t see my children in the picture. William is a single guy, still living a bachelor life and there is no way he would swap his convertible two seater sports car into a family car. Everything in his life is that of a bachelor; even his bachelor pad is so unchild-friendly and immaculate that I can\\'t even imagine my kids sitting on his leather creamy sofa. I can\\'t even see him swapping his bachelor pad to a family home. All signs are telling me is I am a \"current\" girl he is currently seeing until he finds himself a single girl he is willing to settle down with. I have somehow raised that issue in a joking way with him and of course he denied it. I didn\\'t press him more because I don\\'t want to spoil the fun between us. Also I felt I have no right to press him for commitment when I myself am still married. He did say to me before that I should make my mind up on what I want in life or with my relationship and he is jealous to imagine sharing me. There is no sharing. I have become even more emotionally and physically detached from my husband. Thinking back over the years, we have grown apart emotionally and intimately. There is hard', 'labels': [0, 1, 0, 0, 0, 0, 0, 0]}\n"
          ]
        }
      ]
    },
    {
      "cell_type": "code",
      "source": [
        "model_name = \"xlm-roberta-base\" # we use the xlmr for tokenizing (large)\n",
        "tokenizer = transformers.AutoTokenizer.from_pretrained(model_name)\n",
        "\n",
        "def tokenize(example):\n",
        "    return tokenizer(\n",
        "        example[\"text\"],\n",
        "        max_length=512,\n",
        "        truncation=True, # do something else other than truncating? the texts now have max 1024 tokens\n",
        "    )\n",
        "\n",
        "dataset = dataset.map(tokenize)"
      ],
      "metadata": {
        "colab": {
          "base_uri": "https://localhost:8080/",
          "height": 81,
          "referenced_widgets": [
            "ee107d7703d649519884809f990c5598",
            "84e26177fff147b4acabf0a3ac4a13ce",
            "54bb21ebdedf4be29182d58f0905bb20",
            "a049a7ad682d4b459c59dec98622b82d",
            "e2feb224850d4f78adf958ad6563ed9c",
            "4c43e20351b5433699375f0b648065af",
            "ad4345ae8e1a45379a1b48f26afb60b9",
            "259e7b19786a4b46b4d407dca7706e54",
            "96e8faefd80e428aa9c68798328cb84c",
            "976ced2479e6451b9dd225b311bd2b72",
            "8795be1899b748358ada87019b16df33",
            "c5a3fd7f95ef42d38e5416087ef14358",
            "7bed2dc515a94e8abbab5d50984d26ea",
            "42d7eeb432004baf8fddcc4d1118b709",
            "52ee8e3a02cf4c938d4999c1c2a2c462",
            "f64aa72cae0849f88477da29adb34597",
            "50e64b157c934df88b354354e8d6f529",
            "91275b17ee4f4b989a6997982f80b140",
            "1516e1880b0a46fdb87d21d700bf356a",
            "eb8b8fd14f20409697dc1ca866634a4e",
            "f733311820b84b8a98680c0aa9e47504",
            "a7686fc29f3e4c9189387acb2d39dbef"
          ]
        },
        "id": "yyAGVb9g2mFw",
        "outputId": "067d90fd-5ae6-4008-de33-887ca2b84513"
      },
      "execution_count": 15,
      "outputs": [
        {
          "output_type": "display_data",
          "data": {
            "text/plain": [
              "  0%|          | 0/2230 [00:00<?, ?ex/s]"
            ],
            "application/vnd.jupyter.widget-view+json": {
              "version_major": 2,
              "version_minor": 0,
              "model_id": "ee107d7703d649519884809f990c5598"
            }
          },
          "metadata": {}
        },
        {
          "output_type": "display_data",
          "data": {
            "text/plain": [
              "  0%|          | 0/558 [00:00<?, ?ex/s]"
            ],
            "application/vnd.jupyter.widget-view+json": {
              "version_major": 2,
              "version_minor": 0,
              "model_id": "c5a3fd7f95ef42d38e5416087ef14358"
            }
          },
          "metadata": {}
        }
      ]
    },
    {
      "cell_type": "code",
      "source": [
        "# cast label IDs to floats\n",
        "#dataset.remove_columns(\"text\")\n",
        "dataset.reset_format()\n",
        "print(dataset[\"train\"].format)\n",
        "dataset.set_format(type=\"pandas\", columns=['labels', 'input_ids', 'attention_mask'])\n",
        "print(dataset[\"train\"].format)\n",
        "#print(dataset[\"train\"][0])\n",
        "dataset.set_format(type=\"torch\", columns=['labels', 'input_ids', 'attention_mask'])\n",
        "print(dataset[\"train\"].format)\n",
        "dataset = dataset.map(lambda x : {\"float_labels\": x[\"labels\"].to(torch.float32)}, remove_columns=[\"labels\", \"text\"])\n",
        "#dataset.remove_columns(\"labels\")\n",
        "print(dataset)\n",
        "dataset = dataset.rename_column(\"float_labels\", \"labels\")"
      ],
      "metadata": {
        "colab": {
          "base_uri": "https://localhost:8080/",
          "height": 307,
          "referenced_widgets": [
            "689daac118d242dc99c6963da11b7ad6",
            "77a95751425d428599112d2b4fd92269",
            "3e72617ee4ed42fcaabe80ac1477f532",
            "cb88a9d3b6604f66b0328234dad266c4",
            "aadd078d81fb4b6a83062e7e3c0c7f94",
            "b7a8714e81774751b90a3fa600048a1e",
            "5e567fde6e6849068eb5009d48a0779c",
            "387d84c7231b476b96dd811d02215836",
            "8193e2d2bea548c0a202447db10e5cc4",
            "0cefeed2a9594577b7405b2f8bd2e5ab",
            "7e827c0dbe914af990a1e46b7752553f",
            "144746418782469eb14515636e81b28d",
            "b09284d32df6415ca190e22489c44656",
            "ff3773488c4b4d12919e8b86a1c97c67",
            "2cf3bc30de0e41c8b7979d7865b345f1",
            "65fe680b625e46a9b2c589f12638fbf8",
            "99c739ca2d34453989775fb42c2254e1",
            "eeb8f369c6754bd684d6d0468844db10",
            "d4a9e9e0714d4b73917f547eb6a6226c",
            "9a0f38796f6649bab4e9815be2796c17",
            "7d1ac6bcf6a446a3a771338b6c9e34e0",
            "db2ea7b9ed974f898fb6cbefcdc35bd1"
          ]
        },
        "id": "xBb93RxmfojL",
        "outputId": "4c5c3881-0e82-46db-ee75-9d70941d1f92"
      },
      "execution_count": 16,
      "outputs": [
        {
          "output_type": "stream",
          "name": "stdout",
          "text": [
            "{'type': None, 'format_kwargs': {}, 'columns': ['text', 'labels', 'input_ids', 'attention_mask'], 'output_all_columns': False}\n",
            "{'type': 'pandas', 'format_kwargs': {}, 'columns': ['labels', 'input_ids', 'attention_mask'], 'output_all_columns': False}\n",
            "{'type': 'torch', 'format_kwargs': {}, 'columns': ['labels', 'input_ids', 'attention_mask'], 'output_all_columns': False}\n"
          ]
        },
        {
          "output_type": "display_data",
          "data": {
            "text/plain": [
              "  0%|          | 0/2230 [00:00<?, ?ex/s]"
            ],
            "application/vnd.jupyter.widget-view+json": {
              "version_major": 2,
              "version_minor": 0,
              "model_id": "689daac118d242dc99c6963da11b7ad6"
            }
          },
          "metadata": {}
        },
        {
          "output_type": "display_data",
          "data": {
            "text/plain": [
              "  0%|          | 0/558 [00:00<?, ?ex/s]"
            ],
            "application/vnd.jupyter.widget-view+json": {
              "version_major": 2,
              "version_minor": 0,
              "model_id": "144746418782469eb14515636e81b28d"
            }
          },
          "metadata": {}
        },
        {
          "output_type": "stream",
          "name": "stdout",
          "text": [
            "DatasetDict({\n",
            "    train: Dataset({\n",
            "        features: ['input_ids', 'attention_mask', 'float_labels'],\n",
            "        num_rows: 2230\n",
            "    })\n",
            "    test: Dataset({\n",
            "        features: ['input_ids', 'attention_mask', 'float_labels'],\n",
            "        num_rows: 558\n",
            "    })\n",
            "})\n"
          ]
        }
      ]
    },
    {
      "cell_type": "code",
      "source": [
        "model = transformers.XLMRobertaForSequenceClassification.from_pretrained(model_name, num_labels=len(unique_labels), problem_type=\"multi_label_classification\")"
      ],
      "metadata": {
        "colab": {
          "base_uri": "https://localhost:8080/"
        },
        "id": "_2fDqich2rCd",
        "outputId": "66713b18-ddd6-4f6a-b319-091f250e3fe8"
      },
      "execution_count": 17,
      "outputs": [
        {
          "output_type": "stream",
          "name": "stderr",
          "text": [
            "Some weights of the model checkpoint at xlm-roberta-base were not used when initializing XLMRobertaForSequenceClassification: ['lm_head.bias', 'roberta.pooler.dense.bias', 'roberta.pooler.dense.weight', 'lm_head.layer_norm.weight', 'lm_head.layer_norm.bias', 'lm_head.dense.bias', 'lm_head.dense.weight', 'lm_head.decoder.weight']\n",
            "- This IS expected if you are initializing XLMRobertaForSequenceClassification from the checkpoint of a model trained on another task or with another architecture (e.g. initializing a BertForSequenceClassification model from a BertForPreTraining model).\n",
            "- This IS NOT expected if you are initializing XLMRobertaForSequenceClassification from the checkpoint of a model that you expect to be exactly identical (initializing a BertForSequenceClassification model from a BertForSequenceClassification model).\n",
            "Some weights of XLMRobertaForSequenceClassification were not initialized from the model checkpoint at xlm-roberta-base and are newly initialized: ['classifier.out_proj.weight', 'classifier.dense.bias', 'classifier.out_proj.bias', 'classifier.dense.weight']\n",
            "You should probably TRAIN this model on a down-stream task to be able to use it for predictions and inference.\n"
          ]
        }
      ]
    },
    {
      "cell_type": "code",
      "source": [
        "# I should change these eventually to find the best hyperparameters\n",
        "\n",
        "trainer_args = transformers.TrainingArguments(\n",
        "    \"checkpoints\",\n",
        "    evaluation_strategy=\"steps\",\n",
        "    logging_strategy=\"steps\",\n",
        "    load_best_model_at_end=True,\n",
        "    eval_steps=100,\n",
        "    logging_steps=100,\n",
        "    learning_rate=0.00001,\n",
        "    per_device_train_batch_size=8,\n",
        "    per_device_eval_batch_size=32,\n",
        "    max_steps=1500\n",
        ")\n"
      ],
      "metadata": {
        "id": "tgf8tHN53k-N"
      },
      "execution_count": 18,
      "outputs": []
    },
    {
      "cell_type": "code",
      "source": [
        "# accuracy = datasets.load_metric(\"accuracy\")\n",
        "\n",
        "# def compute_accuracy(outputs_and_labels):\n",
        "#     outputs, labels = outputs_and_labels\n",
        "#     predictions = outputs.argmax(axis=-1) #pick the index of the \"winning\" label\n",
        "#     return accuracy.compute(predictions=predictions, references=labels)\n",
        "\n",
        "\n",
        "data_collator = transformers.DataCollatorWithPadding(tokenizer)\n",
        "\n",
        "\n",
        "# # for the actual multilabel thing we need to use another metric\n",
        "# #microF1\n",
        "# from sklearn.metrics import precision_recall_fscore_support\n",
        "# def compute_metrics(pred):\n",
        "#     labels = pred.label_ids\n",
        "#     preds = pred.predictions.argmax(-1)\n",
        "#     precision, recall, f1, _ = precision_recall_fscore_support(labels, preds, average='micro') # switch from binary to micro for multilabel at least\n",
        "#   #  acc = accuracy_score(labels, preds)\n",
        "#     return {\n",
        "#    #     'accuracy': acc,\n",
        "#         'f1': f1,\n",
        "#         'precision': precision,\n",
        "#         'recall': recall\n",
        "#     }\n",
        "import numpy as np\n",
        "from transformers import EvalPrediction\n",
        "from sklearn.metrics import f1_score, roc_auc_score, accuracy_score\n",
        "# source: https://jesusleal.io/2021/04/21/Longformer-multilabel-classification/\n",
        "def multi_label_metrics(predictions, labels, threshold=0.1):  # the treshold has to be really low because the probabilities of the predictions are not great, could even do without any treshold then? or find one that works best between 0.1 and 0.5\n",
        "    # first, apply sigmoid on predictions which are of shape (batch_size, num_labels) # why is the sigmoid applies? could do without it\n",
        "    sigmoid = torch.nn.Sigmoid()\n",
        "    probs = sigmoid(torch.Tensor(predictions))\n",
        "    #next, use threshold to turn them into integer predictions\n",
        "    y_pred = np.zeros(probs.shape)\n",
        "    y_pred[np.where(probs >= threshold)] = 1\n",
        "    # finally, compute metrics\n",
        "    y_true = labels\n",
        "    f1_micro_average = f1_score(y_true=y_true, y_pred=y_pred, average='micro')\n",
        "    roc_auc = roc_auc_score(y_true, y_pred, average = 'micro')\n",
        "    accuracy = accuracy_score(y_true, y_pred)\n",
        "    # return as dictionary\n",
        "    metrics = {'f1': f1_micro_average,\n",
        "               'roc_auc': roc_auc,\n",
        "               'accuracy': accuracy}\n",
        "    return metrics\n",
        "\n",
        "def compute_metrics(p: EvalPrediction):\n",
        "    preds = p.predictions[0] if isinstance(p.predictions, \n",
        "            tuple) else p.predictions\n",
        "    result = multi_label_metrics(\n",
        "        predictions=preds, \n",
        "        labels=p.label_ids)\n",
        "    return result"
      ],
      "metadata": {
        "id": "LQZ3SWIz3n2l"
      },
      "execution_count": 24,
      "outputs": []
    },
    {
      "cell_type": "code",
      "source": [
        "from collections import defaultdict\n",
        "\n",
        "class LogSavingCallback(transformers.TrainerCallback):\n",
        "    def on_train_begin(self, *args, **kwargs):\n",
        "        self.logs = defaultdict(list)\n",
        "        self.training = True\n",
        "\n",
        "    def on_train_end(self, *args, **kwargs):\n",
        "        self.training = False\n",
        "\n",
        "    def on_log(self, args, state, control, logs, model=None, **kwargs):\n",
        "        if self.training:\n",
        "            for k, v in logs.items():\n",
        "                if k != \"epoch\" or v not in self.logs[k]:\n",
        "                    self.logs[k].append(v)\n",
        "\n",
        "training_logs = LogSavingCallback()\n",
        "\n",
        "early_stopping = transformers.EarlyStoppingCallback(\n",
        "    early_stopping_patience=5\n",
        ")"
      ],
      "metadata": {
        "id": "_GphLD_C8dF3"
      },
      "execution_count": 20,
      "outputs": []
    },
    {
      "cell_type": "code",
      "source": [
        "class MultilabelTrainer(transformers.Trainer):\n",
        "    def compute_loss(self, model, inputs, return_outputs=False):\n",
        "        labels = inputs.pop(\"labels\")\n",
        "        outputs = model(**inputs)\n",
        "        logits = outputs.logits\n",
        "        loss_fct = torch.nn.BCEWithLogitsLoss()\n",
        "        loss = loss_fct(logits.view(-1, self.model.config.num_labels), \n",
        "                        labels.float().view(-1, self.model.config.num_labels))\n",
        "        return (loss, outputs) if return_outputs else loss"
      ],
      "metadata": {
        "id": "O5Ct-tk8SysA"
      },
      "execution_count": 21,
      "outputs": []
    },
    {
      "cell_type": "code",
      "source": [
        "dataset"
      ],
      "metadata": {
        "colab": {
          "base_uri": "https://localhost:8080/"
        },
        "id": "LRLm4AlHUyp8",
        "outputId": "ca08365f-a674-46c1-80f4-fd2b55fb63c0"
      },
      "execution_count": 22,
      "outputs": [
        {
          "output_type": "execute_result",
          "data": {
            "text/plain": [
              "DatasetDict({\n",
              "    train: Dataset({\n",
              "        features: ['input_ids', 'attention_mask', 'labels'],\n",
              "        num_rows: 2230\n",
              "    })\n",
              "    test: Dataset({\n",
              "        features: ['input_ids', 'attention_mask', 'labels'],\n",
              "        num_rows: 558\n",
              "    })\n",
              "})"
            ]
          },
          "metadata": {},
          "execution_count": 22
        }
      ]
    },
    {
      "cell_type": "code",
      "source": [
        "trainer = MultilabelTrainer(\n",
        "    model=model,\n",
        "    args=trainer_args,\n",
        "    train_dataset=dataset[\"train\"],\n",
        "    eval_dataset=dataset[\"test\"],\n",
        "    compute_metrics=compute_metrics,\n",
        "    data_collator=data_collator,\n",
        "    tokenizer = tokenizer,\n",
        "    callbacks=[early_stopping, training_logs]\n",
        ")\n",
        "\n",
        "trainer.train()"
      ],
      "metadata": {
        "colab": {
          "base_uri": "https://localhost:8080/",
          "height": 618
        },
        "id": "s8HaeLy93rhS",
        "outputId": "30a32394-0999-43ab-edef-ee9ed7b00d7e"
      },
      "execution_count": 25,
      "outputs": [
        {
          "output_type": "stream",
          "name": "stderr",
          "text": [
            "/usr/local/lib/python3.7/dist-packages/transformers/optimization.py:309: FutureWarning: This implementation of AdamW is deprecated and will be removed in a future version. Use the PyTorch implementation torch.optim.AdamW instead, or set `no_deprecation_warning=True` to disable this warning\n",
            "  FutureWarning,\n"
          ]
        },
        {
          "output_type": "display_data",
          "data": {
            "text/plain": [
              "<IPython.core.display.HTML object>"
            ],
            "text/html": [
              "\n",
              "    <div>\n",
              "      \n",
              "      <progress value='1500' max='1500' style='width:300px; height:20px; vertical-align: middle;'></progress>\n",
              "      [1500/1500 28:31, Epoch 5/6]\n",
              "    </div>\n",
              "    <table border=\"1\" class=\"dataframe\">\n",
              "  <thead>\n",
              " <tr style=\"text-align: left;\">\n",
              "      <th>Step</th>\n",
              "      <th>Training Loss</th>\n",
              "      <th>Validation Loss</th>\n",
              "      <th>F1</th>\n",
              "      <th>Roc Auc</th>\n",
              "      <th>Accuracy</th>\n",
              "    </tr>\n",
              "  </thead>\n",
              "  <tbody>\n",
              "    <tr>\n",
              "      <td>100</td>\n",
              "      <td>0.402300</td>\n",
              "      <td>0.395420</td>\n",
              "      <td>0.373965</td>\n",
              "      <td>0.661165</td>\n",
              "      <td>0.000000</td>\n",
              "    </tr>\n",
              "    <tr>\n",
              "      <td>200</td>\n",
              "      <td>0.392300</td>\n",
              "      <td>0.366230</td>\n",
              "      <td>0.375635</td>\n",
              "      <td>0.667972</td>\n",
              "      <td>0.000000</td>\n",
              "    </tr>\n",
              "    <tr>\n",
              "      <td>300</td>\n",
              "      <td>0.356200</td>\n",
              "      <td>0.345445</td>\n",
              "      <td>0.428164</td>\n",
              "      <td>0.724372</td>\n",
              "      <td>0.000000</td>\n",
              "    </tr>\n",
              "    <tr>\n",
              "      <td>400</td>\n",
              "      <td>0.338200</td>\n",
              "      <td>0.335072</td>\n",
              "      <td>0.436842</td>\n",
              "      <td>0.730593</td>\n",
              "      <td>0.000000</td>\n",
              "    </tr>\n",
              "    <tr>\n",
              "      <td>500</td>\n",
              "      <td>0.329700</td>\n",
              "      <td>0.318773</td>\n",
              "      <td>0.451052</td>\n",
              "      <td>0.745837</td>\n",
              "      <td>0.000000</td>\n",
              "    </tr>\n",
              "    <tr>\n",
              "      <td>600</td>\n",
              "      <td>0.314200</td>\n",
              "      <td>0.304762</td>\n",
              "      <td>0.458123</td>\n",
              "      <td>0.753395</td>\n",
              "      <td>0.000000</td>\n",
              "    </tr>\n",
              "    <tr>\n",
              "      <td>700</td>\n",
              "      <td>0.304900</td>\n",
              "      <td>0.311140</td>\n",
              "      <td>0.461115</td>\n",
              "      <td>0.753445</td>\n",
              "      <td>0.000000</td>\n",
              "    </tr>\n",
              "    <tr>\n",
              "      <td>800</td>\n",
              "      <td>0.299100</td>\n",
              "      <td>0.297770</td>\n",
              "      <td>0.466300</td>\n",
              "      <td>0.759678</td>\n",
              "      <td>0.000000</td>\n",
              "    </tr>\n",
              "    <tr>\n",
              "      <td>900</td>\n",
              "      <td>0.277500</td>\n",
              "      <td>0.288323</td>\n",
              "      <td>0.483322</td>\n",
              "      <td>0.774190</td>\n",
              "      <td>0.001792</td>\n",
              "    </tr>\n",
              "    <tr>\n",
              "      <td>1000</td>\n",
              "      <td>0.276400</td>\n",
              "      <td>0.284560</td>\n",
              "      <td>0.497080</td>\n",
              "      <td>0.784654</td>\n",
              "      <td>0.017921</td>\n",
              "    </tr>\n",
              "    <tr>\n",
              "      <td>1100</td>\n",
              "      <td>0.264600</td>\n",
              "      <td>0.278871</td>\n",
              "      <td>0.508745</td>\n",
              "      <td>0.789660</td>\n",
              "      <td>0.044803</td>\n",
              "    </tr>\n",
              "    <tr>\n",
              "      <td>1200</td>\n",
              "      <td>0.257900</td>\n",
              "      <td>0.279669</td>\n",
              "      <td>0.498717</td>\n",
              "      <td>0.785585</td>\n",
              "      <td>0.016129</td>\n",
              "    </tr>\n",
              "    <tr>\n",
              "      <td>1300</td>\n",
              "      <td>0.255200</td>\n",
              "      <td>0.278118</td>\n",
              "      <td>0.508792</td>\n",
              "      <td>0.792830</td>\n",
              "      <td>0.044803</td>\n",
              "    </tr>\n",
              "    <tr>\n",
              "      <td>1400</td>\n",
              "      <td>0.246200</td>\n",
              "      <td>0.275324</td>\n",
              "      <td>0.518405</td>\n",
              "      <td>0.798299</td>\n",
              "      <td>0.062724</td>\n",
              "    </tr>\n",
              "    <tr>\n",
              "      <td>1500</td>\n",
              "      <td>0.245200</td>\n",
              "      <td>0.274984</td>\n",
              "      <td>0.515613</td>\n",
              "      <td>0.796697</td>\n",
              "      <td>0.064516</td>\n",
              "    </tr>\n",
              "  </tbody>\n",
              "</table><p>"
            ]
          },
          "metadata": {}
        },
        {
          "output_type": "execute_result",
          "data": {
            "text/plain": [
              "TrainOutput(global_step=1500, training_loss=0.3039908231099447, metrics={'train_runtime': 1712.2651, 'train_samples_per_second': 7.008, 'train_steps_per_second': 0.876, 'total_flos': 3154871502520320.0, 'train_loss': 0.3039908231099447, 'epoch': 5.38})"
            ]
          },
          "metadata": {},
          "execution_count": 25
        }
      ]
    },
    {
      "cell_type": "code",
      "source": [
        "eval_results = trainer.evaluate(dataset[\"test\"])\n",
        "\n",
        "print(eval_results)"
      ],
      "metadata": {
        "colab": {
          "base_uri": "https://localhost:8080/",
          "height": 74
        },
        "id": "JtzDeGhQ3ufs",
        "outputId": "770b97c0-643b-4150-f525-4b5ac7b27111"
      },
      "execution_count": 26,
      "outputs": [
        {
          "output_type": "display_data",
          "data": {
            "text/plain": [
              "<IPython.core.display.HTML object>"
            ],
            "text/html": [
              "\n",
              "    <div>\n",
              "      \n",
              "      <progress value='18' max='18' style='width:300px; height:20px; vertical-align: middle;'></progress>\n",
              "      [18/18 00:18]\n",
              "    </div>\n",
              "    "
            ]
          },
          "metadata": {}
        },
        {
          "output_type": "stream",
          "name": "stdout",
          "text": [
            "{'eval_loss': 0.2749837636947632, 'eval_f1': 0.5156130997715156, 'eval_roc_auc': 0.7966971736919958, 'eval_accuracy': 0.06451612903225806, 'eval_runtime': 20.026, 'eval_samples_per_second': 27.864, 'eval_steps_per_second': 0.899, 'epoch': 5.38}\n"
          ]
        }
      ]
    },
    {
      "cell_type": "code",
      "source": [
        "%matplotlib inline\n",
        "import matplotlib.pyplot as plt\n",
        "\n",
        "def plot(logs, keys, labels):\n",
        "    values = sum([logs[k] for k in keys], [])\n",
        "    plt.ylim(max(min(values)-0.1, 0.0), min(max(values)+0.1, 1.0))\n",
        "    for key, label in zip(keys, labels):    \n",
        "        plt.plot(logs[\"epoch\"], logs[key], label=label)\n",
        "    plt.legend()\n",
        "    plt.show()\n",
        "\n",
        "plot(training_logs.logs, [\"loss\", \"eval_loss\"], [\"Training loss\", \"Evaluation loss\"])"
      ],
      "metadata": {
        "id": "zJP4s7hiDTye",
        "colab": {
          "base_uri": "https://localhost:8080/",
          "height": 268
        },
        "outputId": "0e275c2a-b958-464f-df0e-4436893cd5ec"
      },
      "execution_count": 27,
      "outputs": [
        {
          "output_type": "display_data",
          "data": {
            "text/plain": [
              "<Figure size 432x288 with 1 Axes>"
            ],
            "image/png": "[encoded data removed]"
          },
          "metadata": {
            "needs_background": "light"
          }
        }
      ]
    },
    {
      "cell_type": "code",
      "source": [
        "plot(training_logs.logs, [\"eval_f1\"], [\"Evaluation f1\"])"
      ],
      "metadata": {
        "id": "_3XCnTSxDZy3",
        "colab": {
          "base_uri": "https://localhost:8080/",
          "height": 265
        },
        "outputId": "d9aa35b5-8339-4d6b-d18a-b2778486861d"
      },
      "execution_count": 28,
      "outputs": [
        {
          "output_type": "display_data",
          "data": {
            "text/plain": [
              "<Figure size 432x288 with 1 Axes>"
            ],
            "image/png": "[encoded data removed]"
          },
          "metadata": {
            "needs_background": "light"
          }
        }
      ]
    },
    {
      "cell_type": "markdown",
      "source": [
        "I think there are several reasons this does not work at all really:\n",
        "\n",
        "\n",
        "2.   I am also truncating it to 512 and the original texts have 1024 tokens as agreed with filip to save space when translating texts -> another way to do this?\n",
        "If I am truncating then it feels unnecessary to even have translated 1024 tokens but I guess more than 512 is needed although the beginning is apparently very telling when getting the register\n",
        "3.   Accuracy is also not the best metric for this because there are so many combinations -> should do true multilabel and use another metric for that\n",
        "4.   And for some registers (at least lyrical) the translations might not have been as good as hoped.\n",
        "\n",
        "All in all, true multilabel is the only solution to this really and even then english data only having base labels might be an issue when the others have sublabels (this also depends on the target language test set and how the annotations are done)\n",
        "\n"
      ],
      "metadata": {
        "id": "sma9e5Yy_8HT"
      }
    }
  ]
}